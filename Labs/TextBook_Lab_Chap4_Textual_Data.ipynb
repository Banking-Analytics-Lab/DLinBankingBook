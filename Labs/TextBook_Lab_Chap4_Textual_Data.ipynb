{
 "cells": [
  {
   "cell_type": "markdown",
   "metadata": {
    "id": "Iy1I2FdzwOiY"
   },
   "source": [
    "# **Transformers for Text Analysis**\n",
    "\n",
    "In this lab, we will explore Transformer models for text analysis using the [Hugging Face Transformers library](https://huggingface.co/docs/transformers/index). This library provides a wide range of pre-trained models that we can leverage for various natural language processing (NLP) tasks.\n",
    "\n",
    "\n",
    "First, we need to install and import the necessary libraries."
   ]
  },
  {
   "cell_type": "code",
   "execution_count": null,
   "metadata": {
    "colab": {
     "base_uri": "https://localhost:8080/"
    },
    "executionInfo": {
     "elapsed": 4478,
     "status": "ok",
     "timestamp": 1750090365246,
     "user": {
      "displayName": "Cristián Bravo",
      "userId": "07563968753594904197"
     },
     "user_tz": -120
    },
    "id": "YupOQrFmVloC",
    "outputId": "6ed05b57-754f-475f-f77e-bced759fdf48"
   },
   "outputs": [],
   "source": [
    "# Install necessasary packages, if not done before\n",
    "!pip install transformers evaluate accelerate"
   ]
  },
  {
   "cell_type": "markdown",
   "metadata": {
    "id": "4mT4i4wvxgzT"
   },
   "source": [
    "## **Downloading Datasets**\n",
    "\n",
    "Now, we will use two datasets for this lab:\n",
    "\n",
    "1. **Federal Reserve Speeches (1996–2024)**  \n",
    "   - This dataset contains **text data** from speeches delivered by Federal Reserve officials over the years.  \n",
    "\n",
    "2. **[Chicago Fed National Activity Index (CFNAI)](https://fred.stlouisfed.org/series/CFNAI)**  \n",
    "   - The CFNAI is a comprehensive economic indicator that tracks **85 key economic factors** such as employment, production, and consumption.  \n",
    "   - It helps measure national economic activity:\n",
    "     - **Zero value** → Economy is growing at its historical trend rate.\n",
    "     - **Negative values** → Below-average growth.(Economy contracting)\n",
    "     - **Positive values** → Above-average growth.(Economy expanding)"
   ]
  },
  {
   "cell_type": "code",
   "execution_count": null,
   "metadata": {
    "colab": {
     "base_uri": "https://localhost:8080/"
    },
    "executionInfo": {
     "elapsed": 12458,
     "status": "ok",
     "timestamp": 1750090377710,
     "user": {
      "displayName": "Cristián Bravo",
      "userId": "07563968753594904197"
     },
     "user_tz": -120
    },
    "id": "ak3ZB45npjPp",
    "outputId": "6aef0931-9795-4927-9eed-67252a4518c0"
   },
   "outputs": [],
   "source": [
    "!gdown --fuzzy 'https://drive.google.com/file/d/1uVt9BC2tgr-MWrFZvYvA_I8IzTabNZtL/view?usp=sharing'\n",
    "!gdown --fuzzy 'https://drive.google.com/file/d/1I7isSks6Y8kJoigbDZJumgdQ1fFpwn4i/view?usp=sharing'"
   ]
  },
  {
   "cell_type": "code",
   "execution_count": null,
   "metadata": {
    "executionInfo": {
     "elapsed": 9856,
     "status": "ok",
     "timestamp": 1750090387586,
     "user": {
      "displayName": "Cristián Bravo",
      "userId": "07563968753594904197"
     },
     "user_tz": -120
    },
    "id": "ZagDNJVGV5Is"
   },
   "outputs": [],
   "source": [
    "# Imports\n",
    "import numpy as np\n",
    "import os\n",
    "import pandas as pd\n",
    "import random\n",
    "# Scikit-learn\n",
    "from sklearn.model_selection import train_test_split\n",
    "from sklearn.utils import class_weight\n",
    "from sklearn.preprocessing import OneHotEncoder, StandardScaler\n",
    "from sklearn.metrics import roc_auc_score, confusion_matrix, roc_curve, auc\n",
    "\n",
    "# Plots\n",
    "import matplotlib.pyplot as plt\n",
    "import seaborn as sns\n",
    "from IPython.display import Image\n",
    "%matplotlib inline\n",
    "\n",
    "# Import Pytorch lybraries\n",
    "import torch\n",
    "import torch.nn as nn\n",
    "import torch.optim as optim\n",
    "from torch.autograd import Variable\n",
    "from torch.utils.data import TensorDataset, DataLoader, random_split\n",
    "from torch.optim.lr_scheduler import _LRScheduler\n",
    "\n",
    "# Huggingface\n",
    "import transformers\n",
    "from transformers import AutoTokenizer, DataCollatorWithPadding\n",
    "from transformers import AutoModelForSequenceClassification, TrainingArguments, Trainer\n",
    "from transformers import pipeline\n",
    "from transformers import set_seed\n",
    "from datasets import load_dataset, Dataset, Value, ClassLabel, Features, load_from_disk\n",
    "import evaluate"
   ]
  },
  {
   "cell_type": "markdown",
   "metadata": {
    "id": "jBM_h5PgyfSp"
   },
   "source": [
    "Now, we will load the Federal Reserve Speeches dataset.\n",
    "Once loaded, we will inspect the structure of the dataset to understand its key columns, such as date, speaker, speech content, and topic. This will help us determine how to preprocess and analyze the text data effectively."
   ]
  },
  {
   "cell_type": "code",
   "execution_count": null,
   "metadata": {
    "executionInfo": {
     "elapsed": 227,
     "status": "ok",
     "timestamp": 1750090388202,
     "user": {
      "displayName": "Cristián Bravo",
      "userId": "07563968753594904197"
     },
     "user_tz": -120
    },
    "id": "FBzYPaDTyCI2"
   },
   "outputs": [],
   "source": [
    "fed_speech = pd.read_csv(\"/content/fed_speeches.csv\", delimiter=\",\", on_bad_lines=\"skip\", engine=\"python\")"
   ]
  },
  {
   "cell_type": "code",
   "execution_count": null,
   "metadata": {
    "colab": {
     "base_uri": "https://localhost:8080/"
    },
    "executionInfo": {
     "elapsed": 27,
     "status": "ok",
     "timestamp": 1750090388237,
     "user": {
      "displayName": "Cristián Bravo",
      "userId": "07563968753594904197"
     },
     "user_tz": -120
    },
    "id": "uqL4mDPWyMUB",
    "outputId": "7ad931c1-1b39-42f9-c322-a5e96932ef0b"
   },
   "outputs": [],
   "source": [
    "fed_speech.info()"
   ]
  },
  {
   "cell_type": "code",
   "execution_count": null,
   "metadata": {
    "colab": {
     "base_uri": "https://localhost:8080/",
     "height": 363
    },
    "executionInfo": {
     "elapsed": 466,
     "status": "ok",
     "timestamp": 1750090388710,
     "user": {
      "displayName": "Cristián Bravo",
      "userId": "07563968753594904197"
     },
     "user_tz": -120
    },
    "id": "2Ylb8nURySKh",
    "outputId": "dc912d0d-199d-46be-ccef-bdee90c17571"
   },
   "outputs": [],
   "source": [
    "fed_speech.head(10)"
   ]
  },
  {
   "cell_type": "markdown",
   "metadata": {
    "id": "XL3CZSjKzjKk"
   },
   "source": [
    "## Data preprocess - merging\n",
    "\n",
    "In this step, we will preprocess the Federal Reserve Speeches dataset to prepare it for analysis. First, we will extract the **year** and **month** from the speech dates. Then, we will shift the month forward by one to align each speech with the economic conditions of the following month.\n",
    "\n",
    "Our goal is to predict the next month's economic upturn or downturn based on the language used in Federal Reserve speeches. This adjustment ensures that our model learns from past speeches to forecast future economic trends more effectively."
   ]
  },
  {
   "cell_type": "code",
   "execution_count": null,
   "metadata": {
    "executionInfo": {
     "elapsed": 12,
     "status": "ok",
     "timestamp": 1750090388730,
     "user": {
      "displayName": "Cristián Bravo",
      "userId": "07563968753594904197"
     },
     "user_tz": -120
    },
    "id": "zdCcXGTAjhvc"
   },
   "outputs": [],
   "source": [
    "# Create year and month columns\n",
    "fed_speech['date'] = pd.to_datetime(fed_speech['date'], errors='coerce')\n",
    "fed_speech[\"year\"] = fed_speech[\"date\"].dt.year  # Extract year\n",
    "fed_speech[\"month\"] = fed_speech[\"date\"].dt.month  # Extract month\n",
    "\n",
    "# Shift df1's month forward by 1\n",
    "fed_speech[\"month\"] += 1\n",
    "\n",
    "# Handle December (12 → 1 and increase year)\n",
    "fed_speech.loc[fed_speech[\"month\"] == 13, \"month\"] = 1\n",
    "fed_speech.loc[fed_speech[\"month\"] == 1, \"year\"] += 1"
   ]
  },
  {
   "cell_type": "markdown",
   "metadata": {
    "id": "v8JIsW4A0aWK"
   },
   "source": [
    "Next, we will load the Chicago Fed National Activity Index (CFNAI) dataset, which serves as a key indicator of U.S. economic activity.\n",
    "\n",
    "Once loaded, we will merge the CFNAI dataset with the Federal Reserve Speeches dataset using year and month as the merging keys. Since we previously adjusted the speech dataset by shifting the month forward, this ensures that each speech is aligned with the economic activity of the following month."
   ]
  },
  {
   "cell_type": "code",
   "execution_count": null,
   "metadata": {
    "colab": {
     "base_uri": "https://localhost:8080/",
     "height": 424
    },
    "executionInfo": {
     "elapsed": 17,
     "status": "ok",
     "timestamp": 1750090388755,
     "user": {
      "displayName": "Cristián Bravo",
      "userId": "07563968753594904197"
     },
     "user_tz": -120
    },
    "id": "kwaT9MI3hzfR",
    "outputId": "81ffa535-5dd4-41e1-a2bb-358b28fef29f"
   },
   "outputs": [],
   "source": [
    "econ_index = pd.read_csv('/content/CFNAI.csv')\n",
    "econ_index.columns = ['date', 'CFNAI']\n",
    "econ_index['date'] = pd.to_datetime(econ_index['date'], errors='coerce')\n",
    "econ_index[\"year\"] = econ_index[\"date\"].dt.year  # Extract year\n",
    "econ_index[\"month\"] = econ_index[\"date\"].dt.month  # Extract month\n",
    "econ_index.drop(columns=['date'], inplace=True)\n",
    "econ_index"
   ]
  },
  {
   "cell_type": "code",
   "execution_count": null,
   "metadata": {
    "colab": {
     "base_uri": "https://localhost:8080/",
     "height": 424
    },
    "executionInfo": {
     "elapsed": 336,
     "status": "ok",
     "timestamp": 1750090389098,
     "user": {
      "displayName": "Cristián Bravo",
      "userId": "07563968753594904197"
     },
     "user_tz": -120
    },
    "id": "unfhCa1yiJYY",
    "outputId": "6eaa0ab0-db7d-406e-809e-98245d438b82"
   },
   "outputs": [],
   "source": [
    "merged_df = fed_speech.merge(econ_index, on=[\"year\", \"month\"], how=\"left\")\n",
    "merged_df"
   ]
  },
  {
   "cell_type": "markdown",
   "metadata": {
    "id": "lMf_oFsW0yi0"
   },
   "source": [
    "## **Text Preprocessing: Tokenization, Stopword Removal, and Cleaning**\n",
    "\n",
    "In this step, we preprocess the speech text by **tokenizing, removing stopwords, and eliminating punctuation** to prepare the data for further analysis.\n",
    "\n",
    "### **1. Import Required Libraries**\n",
    "The following libraries from **NLTK (Natural Language Toolkit)** are used:\n",
    "- `word_tokenize` → Splits text into individual words (tokens).\n",
    "- `stopwords` → Provides a list of common English stopwords (e.g., \"the\", \"is\", \"and\").\n",
    "- `string` → Used to remove punctuation."
   ]
  },
  {
   "cell_type": "code",
   "execution_count": null,
   "metadata": {
    "colab": {
     "base_uri": "https://localhost:8080/"
    },
    "executionInfo": {
     "elapsed": 44164,
     "status": "ok",
     "timestamp": 1750090433268,
     "user": {
      "displayName": "Cristián Bravo",
      "userId": "07563968753594904197"
     },
     "user_tz": -120
    },
    "id": "hHugYOIU_8VD",
    "outputId": "9dddcc1e-5637-4bd5-fa88-6d1057677ed8"
   },
   "outputs": [],
   "source": [
    "import nltk\n",
    "from nltk.tokenize import word_tokenize\n",
    "from nltk.corpus import stopwords\n",
    "import string\n",
    "\n",
    "nltk.download('stopwords')\n",
    "nltk.download('punkt_tab')\n",
    "stop_words = set(stopwords.words(\"english\"))\n",
    "\n",
    "\n",
    "def clean_text(text):\n",
    "    text = text.lower()  # Convert to lowercase\n",
    "    tokens = word_tokenize(text)  # Tokenize text\n",
    "    table = str.maketrans('', '', string.punctuation)  # Create a table for removing punctuation\n",
    "    filtered_tokens = [\n",
    "        token.translate(table) for token in tokens\n",
    "        if token.isalnum() and token not in stop_words  # Remove stop words here!\n",
    "    ]\n",
    "    cleaned_text = ' '.join(filtered_tokens)\n",
    "    return cleaned_text\n",
    "\n",
    "merged_df['text_cleaned'] = merged_df['text'].apply(clean_text)"
   ]
  },
  {
   "cell_type": "markdown",
   "metadata": {
    "id": "8QXGnVorvImy"
   },
   "source": [
    "As we discuss in the book, you would need to test the best performance depending on the cleaning steps necessary. Normally, either doing nothing, removing stopwords, or lowercase would lead to the best performance depending on the application area. Combining strategies may lead to decreased performance. Test different strategies and see if you can improve this model!"
   ]
  },
  {
   "cell_type": "markdown",
   "metadata": {
    "id": "tW_a3wdk1nxz"
   },
   "source": [
    "You can inspect how the **`clean_text`** function processed the text by viewing the cleaned version stored in the **`text_cleaned`** column."
   ]
  },
  {
   "cell_type": "code",
   "execution_count": null,
   "metadata": {
    "colab": {
     "base_uri": "https://localhost:8080/",
     "height": 310
    },
    "executionInfo": {
     "elapsed": 121,
     "status": "ok",
     "timestamp": 1750090433380,
     "user": {
      "displayName": "Cristián Bravo",
      "userId": "07563968753594904197"
     },
     "user_tz": -120
    },
    "id": "iU2dUBOpAfpq",
    "outputId": "29d56e29-8205-4c36-babe-003d10713822"
   },
   "outputs": [],
   "source": [
    "merged_df.tail(5)"
   ]
  },
  {
   "cell_type": "markdown",
   "metadata": {
    "id": "OzPc75EP2L99"
   },
   "source": [
    "As observed above, rows corresponding to **January 2025 (2025-01)** do not have CFNAI values. To address this, we will extract these rows and set them aside for testing.\n"
   ]
  },
  {
   "cell_type": "code",
   "execution_count": null,
   "metadata": {
    "executionInfo": {
     "elapsed": 11,
     "status": "ok",
     "timestamp": 1750090433399,
     "user": {
      "displayName": "Cristián Bravo",
      "userId": "07563968753594904197"
     },
     "user_tz": -120
    },
    "id": "-D5JdZoFtaj9"
   },
   "outputs": [],
   "source": [
    "# Extract the last two rows that contain NaN values\n",
    "nan_rows_df = merged_df[merged_df.isna().any(axis=1)]\n",
    "\n",
    "# Remove these rows from the main DataFrame\n",
    "merged_df = merged_df.drop(nan_rows_df.index)"
   ]
  },
  {
   "cell_type": "markdown",
   "metadata": {
    "id": "QZ7WvL9K2nsv"
   },
   "source": [
    "## **Visualizing Frequent Words in FED Speeches with a Word Cloud**  \n",
    "\n",
    "In this step, we generate a **word cloud** to visualize the most frequently used words in the **Federal Reserve speeches dataset**. A word cloud is a useful tool for quickly identifying common terms in text data.\n"
   ]
  },
  {
   "cell_type": "code",
   "execution_count": null,
   "metadata": {
    "colab": {
     "base_uri": "https://localhost:8080/",
     "height": 307
    },
    "executionInfo": {
     "elapsed": 4850,
     "status": "ok",
     "timestamp": 1750090438259,
     "user": {
      "displayName": "Cristián Bravo",
      "userId": "07563968753594904197"
     },
     "user_tz": -120
    },
    "id": "X_vMZikiBQY6",
    "outputId": "772be6e8-7cea-4607-cdfe-b271c30f0451"
   },
   "outputs": [],
   "source": [
    "from wordcloud import WordCloud\n",
    "\n",
    "sample_txt = \" \".join(i for i in merged_df['text_cleaned'])\n",
    "\n",
    "wc = WordCloud(colormap=\"Set2\",collocations=False).generate(sample_txt)\n",
    "plt.title(\"Most Frequent Words in FED Speeches\")\n",
    "plt.axis(\"off\")\n",
    "plt.imshow(wc,interpolation='bilinear')\n",
    "plt.show()"
   ]
  },
  {
   "cell_type": "markdown",
   "metadata": {
    "id": "yBXRAU_Y25rF"
   },
   "source": [
    "Pretty cool! We can see that the Federal Reserve frequently uses words like risk, inflation, and financial, among others."
   ]
  },
  {
   "cell_type": "markdown",
   "metadata": {
    "id": "rN8NjsHt3OXf"
   },
   "source": [
    "## Labelling\n",
    "\n",
    "In this step, we categorize the **Chicago Fed National Activity Index (CFNAI)** values into binary labels to prepare our dataset for classification.\n",
    "\n",
    "---\n",
    "\n",
    "### **1. Define Bins and Labels**  \n",
    "We create two categories based on the CFNAI values:  \n",
    "- **Negative or zero CFNAI (`≤ 0`) → Label 1**  \n",
    "- **Positive CFNAI (`> 0`) → Label 0**  \n"
   ]
  },
  {
   "cell_type": "code",
   "execution_count": null,
   "metadata": {
    "colab": {
     "base_uri": "https://localhost:8080/",
     "height": 736
    },
    "executionInfo": {
     "elapsed": 508,
     "status": "ok",
     "timestamp": 1750090438773,
     "user": {
      "displayName": "Cristián Bravo",
      "userId": "07563968753594904197"
     },
     "user_tz": -120
    },
    "id": "9ksNh1VUEc3G",
    "outputId": "f30b9a90-e43b-4784-ee5c-ae9a75727725"
   },
   "outputs": [],
   "source": [
    "# Define bins and labels\n",
    "bins = [-float('inf'), 0, float('inf')]\n",
    "labels = [1, 0]\n",
    "\n",
    "# Apply categorization\n",
    "merged_df[\"label\"] = pd.cut(\n",
    "    merged_df[\"CFNAI\"], bins=bins, labels=labels, include_lowest=True\n",
    ")\n",
    "\n",
    "# Convert to integer type\n",
    "merged_df[\"label\"] = merged_df[\"label\"].astype(int)\n",
    "\n",
    "merged_df"
   ]
  },
  {
   "cell_type": "markdown",
   "metadata": {
    "id": "rFQW7Ebs3p-8"
   },
   "source": [
    "We can see that the labels are fairly balanced."
   ]
  },
  {
   "cell_type": "code",
   "execution_count": null,
   "metadata": {
    "colab": {
     "base_uri": "https://localhost:8080/",
     "height": 178
    },
    "executionInfo": {
     "elapsed": 18,
     "status": "ok",
     "timestamp": 1750090438797,
     "user": {
      "displayName": "Cristián Bravo",
      "userId": "07563968753594904197"
     },
     "user_tz": -120
    },
    "id": "tsehhXDDHEZE",
    "outputId": "551141d7-9f9b-4e28-b060-8d022e0c35bd"
   },
   "outputs": [],
   "source": [
    "merged_df.label.value_counts()"
   ]
  },
  {
   "cell_type": "markdown",
   "metadata": {
    "id": "2NazCyb73y8P"
   },
   "source": [
    "Now that we have cleaned and processed the dataset, we will save it for future use.\n"
   ]
  },
  {
   "cell_type": "code",
   "execution_count": null,
   "metadata": {
    "executionInfo": {
     "elapsed": 2252,
     "status": "ok",
     "timestamp": 1750090441054,
     "user": {
      "displayName": "Cristián Bravo",
      "userId": "07563968753594904197"
     },
     "user_tz": -120
    },
    "id": "p5V_VcrZWHkl"
   },
   "outputs": [],
   "source": [
    "# Save to CSV\n",
    "merged_df.to_csv('FEDSpeechesProcessed.csv', index=False)"
   ]
  },
  {
   "cell_type": "markdown",
   "metadata": {
    "id": "Qtx62uNB3_Cc"
   },
   "source": [
    "## **Preparing the Dataset for Model Training**  \n",
    "\n",
    "In this step, we **convert the preprocessed dataset into a Hugging Face `Dataset` format**, encode the labels, and split the data into training and testing sets.\n",
    "\n",
    "---\n",
    "\n",
    "We extract the **cleaned text (`text_cleaned`)** and its corresponding **label (`label`)** from `merged_df`, then convert it into a Hugging Face `Dataset`.\n"
   ]
  },
  {
   "cell_type": "code",
   "execution_count": null,
   "metadata": {
    "colab": {
     "base_uri": "https://localhost:8080/",
     "height": 312,
     "referenced_widgets": [
      "bee4979908a1456abe40a78feff18ee1",
      "665ad591b3de450fb1c29f48135feec6",
      "e303ffb8d51f476094c828dc4cf5ce24",
      "34c4e585b92f4f83b99d5a9a67d603f6",
      "2eaec1d6898e4aad9f360b81ebc2dd3f",
      "3b63ca259ff94f11847f5b3b192ab454",
      "430544aadf834c3ea378d5ce6affb1ba",
      "c501d911f813454f9cc2fb4c11545228",
      "fc98e8ac58fe4f13a187bacf4855fda5",
      "022b37660d234157852140aeca581378",
      "6107d810c1584536939de76874fe41bc",
      "3931a8dc54524af3af28b2548717d083",
      "94be59891edc4d2daef5c4a7fc442df5",
      "3c483c8faae344579fec022cfff5cc1e",
      "a8958389cfdf4e8983184fbb409ea281",
      "0ff4f867b4d74ab1809834a96ae2d0ab",
      "ec0b5a8643eb4f4b9a72ea316b05c101",
      "f6939cf825a642aea3f7f30b568f7dc5",
      "6b5fc8df903d4587aecec49fcf6d8458",
      "82fa26c0c1d442188a45977da7320283",
      "dc9c32987b784a838e1426e2552a637b",
      "3ea85f675bf0441b9907605d59d27a41"
     ]
    },
    "executionInfo": {
     "elapsed": 223,
     "status": "ok",
     "timestamp": 1750090441284,
     "user": {
      "displayName": "Cristián Bravo",
      "userId": "07563968753594904197"
     },
     "user_tz": -120
    },
    "id": "mojsQl6-WJ3z",
    "outputId": "a172e534-2412-487b-abf8-649e1034a91a"
   },
   "outputs": [],
   "source": [
    "# Create the dataset\n",
    "fed_speech_data = Dataset.from_pandas(merged_df.loc[:,['text_cleaned', 'label']])\n",
    "\n",
    "# Set the label variable\n",
    "fed_speech_data = fed_speech_data.class_encode_column(\"label\")\n",
    "\n",
    "# Drop the index variable\n",
    "fed_speech_data = fed_speech_data.remove_columns([\"__index_level_0__\"])\n",
    "\n",
    "# Train / test split\n",
    "fed_speech_data = fed_speech_data.train_test_split(0.33)\n",
    "fed_speech_data"
   ]
  },
  {
   "cell_type": "code",
   "execution_count": null,
   "metadata": {
    "colab": {
     "base_uri": "https://localhost:8080/"
    },
    "executionInfo": {
     "elapsed": 52,
     "status": "ok",
     "timestamp": 1750090441343,
     "user": {
      "displayName": "Cristián Bravo",
      "userId": "07563968753594904197"
     },
     "user_tz": -120
    },
    "id": "ZriKlSJ0WLZw",
    "outputId": "6e197de6-48a8-47bd-f106-14a14b9111ec"
   },
   "outputs": [],
   "source": [
    "fed_speech_data['train'].features"
   ]
  },
  {
   "cell_type": "markdown",
   "metadata": {
    "id": "3qqh4dpj4U_h"
   },
   "source": [
    "## **Tokenizing the Text Data**  \n",
    "\n",
    "Before feeding our text data into a Transformer model, we need to **tokenize** it. Tokenization converts raw text into numerical format that the model can understand.\n",
    "\n",
    "---\n",
    "\n",
    "We use the **DistilBERT tokenizer** from Hugging Face’s `transformers` library.\n"
   ]
  },
  {
   "cell_type": "code",
   "execution_count": null,
   "metadata": {
    "executionInfo": {
     "elapsed": 995,
     "status": "ok",
     "timestamp": 1750091868983,
     "user": {
      "displayName": "Cristián Bravo",
      "userId": "07563968753594904197"
     },
     "user_tz": -120
    },
    "id": "8OMYzNC4WMry"
   },
   "outputs": [],
   "source": [
    "# Tokenize the data.\n",
    "tokenizer = AutoTokenizer.from_pretrained(\"distilbert-base-uncased\",  do_lower_case=False, processing_class=True)"
   ]
  },
  {
   "cell_type": "code",
   "execution_count": null,
   "metadata": {
    "executionInfo": {
     "elapsed": 5,
     "status": "ok",
     "timestamp": 1750091872516,
     "user": {
      "displayName": "Cristián Bravo",
      "userId": "07563968753594904197"
     },
     "user_tz": -120
    },
    "id": "Q3AriIpwWOIY"
   },
   "outputs": [],
   "source": [
    "# Function to truncate text. Our text is very long!\n",
    "def preprocess_function(examples):\n",
    "    return tokenizer(examples[\"text_cleaned\"], truncation=True)"
   ]
  },
  {
   "cell_type": "code",
   "execution_count": null,
   "metadata": {
    "colab": {
     "base_uri": "https://localhost:8080/",
     "height": 81,
     "referenced_widgets": [
      "425391b3ac2745fdb25ece8dc3ff210b",
      "660061b7a5b94ffab78d0fb21ab6af7e",
      "1aa0651bdaaf4fe0956fe68949b3d1b4",
      "5c92d20391b84a28b2b10c2e4c0dfcf6",
      "f0ba26b769664f0db1b146590a12a6a1",
      "a62a79943a2540fc88ab8ff1a6c68ae6",
      "3145e11d2a954f40a2ca7eaf83f44839",
      "12ebd76a595e4dc19ae21381d0a76e99",
      "46edd9c8838145e4b4901bd5023049bc",
      "13e50fbf0e8d4ea0a96d9c8118c4e0b1",
      "cb628ece9a284b4785d376de1eef71b3",
      "902aaceacf794f9f9d7c8cdf37b9d515",
      "e986f77fe7184ccbbcc3f1b7b7f1e4d2",
      "3541b00e1ff140cd9ee765e262abf6b4",
      "4ce539e6a6e8413f82db7232651e2b8e",
      "b6a30a53478144e9af8844807c876b64",
      "b6f108c487284c4fba960e042e1f1bb6",
      "bcdb05a005d3479eb9b2cd7acc17b36a",
      "01e072abed2141569599163590e1f869",
      "e938e617acb1474e918ff4a3908142ad",
      "35df4ed1d5cb41beba60a8aa16cf4cd3",
      "aff5df11d8994d4e940517efd20e1fb2"
     ]
    },
    "executionInfo": {
     "elapsed": 3027,
     "status": "ok",
     "timestamp": 1750091877196,
     "user": {
      "displayName": "Cristián Bravo",
      "userId": "07563968753594904197"
     },
     "user_tz": -120
    },
    "id": "_yfa0Vs4WPR2",
    "outputId": "fab88577-be4b-43ed-ea76-78ddd51b9c6b"
   },
   "outputs": [],
   "source": [
    "tokenized_fed_speech_data = fed_speech_data.map(preprocess_function, batched=True)"
   ]
  },
  {
   "cell_type": "code",
   "execution_count": null,
   "metadata": {
    "colab": {
     "base_uri": "https://localhost:8080/",
     "height": 137,
     "referenced_widgets": [
      "1352771106d24e2cb38b0cad7e30550b",
      "a76adaabae0847cd94f3f2c92e93fcf6",
      "899f1432c729478c9887e33a7741ee7b",
      "e5695b05ce794e748d98231e8c559ddc",
      "57b99305693742309960b75a64094c7f",
      "1c8e416e3ef94266a0eca535bfa26a54",
      "6146041f1b644ff69c52fc6ac3f96d8e",
      "c298ca643f544890b7464b144d913093",
      "a9e749596c6a4f5f9abd1183dc12e4bf",
      "6ff156a628854b9a9129ad90346b7e5e",
      "7c0bbd69bd39404abcbbd1f917082cd8",
      "97ba39253ca74f589e2035d81610a332",
      "2548d97ccb4748beb6f062db6dbc9afd",
      "6074960f197f4feab337cc517df78401",
      "49a94c0ea64d4b5ba2f04464b074859b",
      "529fc20c1ece4c8f8900cc80ec3dcac0",
      "c6b1b1f0a36f4f8f9d21ef12f5a4ae5e",
      "55bdd10de13a43fd94f973648cefed4c",
      "22baf3fc839b4bbd9adf07f6990f8654",
      "56cd8d34000a4b49af5930ac50ad54b4",
      "15c5ad69cb94486ba5d39e7aa5896c43",
      "1e04dd69a4ac4213baca96a7dd4fedd9"
     ]
    },
    "executionInfo": {
     "elapsed": 103,
     "status": "ok",
     "timestamp": 1750091879118,
     "user": {
      "displayName": "Cristián Bravo",
      "userId": "07563968753594904197"
     },
     "user_tz": -120
    },
    "id": "7f9dsOFvWQ3O",
    "outputId": "0dee3ef5-b2dd-466c-aacd-9b5d3f0669a8"
   },
   "outputs": [],
   "source": [
    "# Save the outcome to disk to not run this again.\n",
    "tokenized_fed_speech_data.save_to_disk(\"TokenizedData\")"
   ]
  },
  {
   "cell_type": "markdown",
   "metadata": {
    "id": "tGRFUQtE4k6-"
   },
   "source": [
    "## **Applying Data Collation for Efficient Batching**  \n",
    "\n",
    "When working with Transformer models, input sequences need to be **padded** to the same length within a batch. To handle this efficiently, we use a **data collator**.\n",
    "\n",
    "---\n"
   ]
  },
  {
   "cell_type": "code",
   "execution_count": null,
   "metadata": {
    "executionInfo": {
     "elapsed": 9,
     "status": "ok",
     "timestamp": 1750090446349,
     "user": {
      "displayName": "Cristián Bravo",
      "userId": "07563968753594904197"
     },
     "user_tz": -120
    },
    "id": "Qu4WZMwvWR-8"
   },
   "outputs": [],
   "source": [
    "data_collator = DataCollatorWithPadding(tokenizer=tokenizer)"
   ]
  },
  {
   "cell_type": "code",
   "execution_count": null,
   "metadata": {
    "colab": {
     "base_uri": "https://localhost:8080/"
    },
    "executionInfo": {
     "elapsed": 23,
     "status": "ok",
     "timestamp": 1750090446380,
     "user": {
      "displayName": "Cristián Bravo",
      "userId": "07563968753594904197"
     },
     "user_tz": -120
    },
    "id": "Eo_Jt2paWUQh",
    "outputId": "4e6edbe5-89ba-4363-9908-1d34a7927bd1"
   },
   "outputs": [],
   "source": [
    "# How many classes there are.\n",
    "num_labels = len(merged_df[\"label\"].unique())\n",
    "print(f'There are {num_labels} classes in the dataset.')"
   ]
  },
  {
   "cell_type": "markdown",
   "metadata": {
    "id": "P3w6fZ1G4xp5"
   },
   "source": [
    "Now that we have tokenized the text data, we need to define the **Transformer model** that will be used for classification.\n",
    "\n"
   ]
  },
  {
   "cell_type": "code",
   "execution_count": null,
   "metadata": {
    "colab": {
     "base_uri": "https://localhost:8080/"
    },
    "executionInfo": {
     "elapsed": 487,
     "status": "ok",
     "timestamp": 1750090446872,
     "user": {
      "displayName": "Cristián Bravo",
      "userId": "07563968753594904197"
     },
     "user_tz": -120
    },
    "id": "jKAACTIKWVoC",
    "outputId": "19ee935e-6485-40fb-8714-754441b2971e"
   },
   "outputs": [],
   "source": [
    "model = AutoModelForSequenceClassification.from_pretrained(\n",
    "    \"distilbert-base-uncased\", num_labels=num_labels\n",
    "    )"
   ]
  },
  {
   "cell_type": "markdown",
   "metadata": {
    "id": "iafJYEwy4-Lv"
   },
   "source": [
    "We define the **evaluation metric** to assess the performance of our model. We use **accuracy**, which measures the proportion of correctly classified samples.\n"
   ]
  },
  {
   "cell_type": "code",
   "execution_count": null,
   "metadata": {
    "executionInfo": {
     "elapsed": 1160,
     "status": "ok",
     "timestamp": 1750090448045,
     "user": {
      "displayName": "Cristián Bravo",
      "userId": "07563968753594904197"
     },
     "user_tz": -120
    },
    "id": "L6slGEvdWXLM"
   },
   "outputs": [],
   "source": [
    "accuracy = evaluate.load(\"accuracy\")\n",
    "\n",
    "def compute_metrics(eval_pred):\n",
    "    predictions, labels = eval_pred\n",
    "    predictions = np.argmax(predictions, axis=1)\n",
    "    return accuracy.compute(predictions=predictions, references=labels)"
   ]
  },
  {
   "cell_type": "markdown",
   "metadata": {
    "id": "AJIptmcv5FIs"
   },
   "source": [
    "## **Defining Training Parameters**  \n",
    "\n",
    "Now, we configure the **training arguments** that determine how our model will be trained using the Hugging Face `Trainer` API.\n",
    "\n",
    "---"
   ]
  },
  {
   "cell_type": "code",
   "execution_count": null,
   "metadata": {
    "executionInfo": {
     "elapsed": 16,
     "status": "ok",
     "timestamp": 1750090448069,
     "user": {
      "displayName": "Cristián Bravo",
      "userId": "07563968753594904197"
     },
     "user_tz": -120
    },
    "id": "J2r8eCt0WY81"
   },
   "outputs": [],
   "source": [
    "training_args = TrainingArguments(\n",
    "    # Where to store the model.\n",
    "  output_dir=\"ModelOutput\",\n",
    "    # Learning rate to use.\n",
    "    learning_rate=1e-4,\n",
    "    # Batch size to use per GPU in training.\n",
    "    #per_device_train_batch_size=32,  ## T4\n",
    "    per_device_train_batch_size=200,  ## T4\n",
    "    # Batch size to use per GPU in evaluation\n",
    "    #per_device_eval_batch_size=32,   ## T4\n",
    "    per_device_eval_batch_size=200,  ## T4\n",
    "    # Epochs to train\n",
    "    num_train_epochs=15,\n",
    "    # If decaying or not the weights\n",
    "    weight_decay=5e-3,\n",
    "    # When to evaluate the model\n",
    "    eval_strategy=\"epoch\",\n",
    "    # When to save checkpoint\n",
    "    save_strategy=\"epoch\",\n",
    "    # Load best after training? No as we don't have validation / test difference.\n",
    "    load_best_model_at_end=False,\n",
    "    # Save in Huggingface? (Account required)\n",
    "    push_to_hub=False,\n",
    "    # How often to log training\n",
    "    logging_steps=100,\n",
    ")"
   ]
  },
  {
   "cell_type": "markdown",
   "metadata": {
    "id": "Mf0HCg9l5QDK"
   },
   "source": [
    "We **set a fixed random seed** for reproducibility and initialize the Hugging Face `Trainer` for model training."
   ]
  },
  {
   "cell_type": "code",
   "execution_count": null,
   "metadata": {
    "colab": {
     "base_uri": "https://localhost:8080/",
     "height": 186
    },
    "executionInfo": {
     "elapsed": 24,
     "status": "ok",
     "timestamp": 1750090448429,
     "user": {
      "displayName": "Cristián Bravo",
      "userId": "07563968753594904197"
     },
     "user_tz": -120
    },
    "id": "2VMLZjL0gMt_",
    "outputId": "1677fdf1-9c84-4bc7-836a-23115d451edc"
   },
   "outputs": [],
   "source": [
    "import gc\n",
    "gc.collect()\n",
    "torch.cuda.empty_cache"
   ]
  },
  {
   "cell_type": "code",
   "execution_count": null,
   "metadata": {
    "executionInfo": {
     "elapsed": 1403,
     "status": "ok",
     "timestamp": 1750090449838,
     "user": {
      "displayName": "Cristián Bravo",
      "userId": "07563968753594904197"
     },
     "user_tz": -120
    },
    "id": "1LnX3LKqWbLO"
   },
   "outputs": [],
   "source": [
    "# Set a fixed seed value\n",
    "SEED = 42\n",
    "random.seed(SEED)\n",
    "np.random.seed(SEED)\n",
    "torch.manual_seed(SEED)\n",
    "torch.cuda.manual_seed_all(SEED)\n",
    "transformers.set_seed(SEED)\n",
    "\n",
    "# Empty VRAM\n",
    "torch.cuda.empty_cache()\n",
    "\n",
    "# Create trainer object.\n",
    "trainer = Trainer(\n",
    "    # What model to use.\n",
    "    model=model,\n",
    "    # Arguments to the model\n",
    "    args=training_args,\n",
    "    # Training data\n",
    "    train_dataset=tokenized_fed_speech_data[\"train\"],\n",
    "    # Test dataset\n",
    "    eval_dataset=tokenized_fed_speech_data[\"test\"],\n",
    "    # How to pad sequences\n",
    "    data_collator=data_collator,\n",
    "    # Error function\n",
    "    compute_metrics=compute_metrics,\n",
    ")"
   ]
  },
  {
   "cell_type": "markdown",
   "metadata": {
    "id": "rtOW5Vw05Urb"
   },
   "source": [
    "Now that we have set up the **dataset, tokenizer, model, training arguments, and `Trainer`**, it's time to **train the model**!  \n",
    "\n",
    "To enable experiment tracking, we will use **Weights & Biases (W&B)** for logging training metrics. Before training, you need to sign in to [wandb.ai](https://wandb.ai/home) to get an API key.\n",
    "\n"
   ]
  },
  {
   "cell_type": "code",
   "execution_count": null,
   "metadata": {
    "colab": {
     "base_uri": "https://localhost:8080/",
     "height": 899
    },
    "executionInfo": {
     "elapsed": 381097,
     "status": "ok",
     "timestamp": 1750090831276,
     "user": {
      "displayName": "Cristián Bravo",
      "userId": "07563968753594904197"
     },
     "user_tz": -120
    },
    "id": "xwQlF3BpWdYr",
    "outputId": "a068fd43-6746-48ca-b2cb-469677286c02"
   },
   "outputs": [],
   "source": [
    "trainer.train()"
   ]
  },
  {
   "cell_type": "markdown",
   "metadata": {
    "id": "RN3d1NLo65qg"
   },
   "source": [
    "We can see that the **accuracy is increasing** as training progresses, indicating that the model is learning from the data.  \n"
   ]
  },
  {
   "cell_type": "markdown",
   "metadata": {
    "id": "y1otCKKq62Ex"
   },
   "source": [
    "After training, we need to **save the model** so we can reuse it for evaluation, inference, or further fine-tuning without retraining from scratch.\n",
    "\n"
   ]
  },
  {
   "cell_type": "code",
   "execution_count": null,
   "metadata": {
    "executionInfo": {
     "elapsed": 510,
     "status": "ok",
     "timestamp": 1750090831796,
     "user": {
      "displayName": "Cristián Bravo",
      "userId": "07563968753594904197"
     },
     "user_tz": -120
    },
    "id": "0Fra8wgyWe18"
   },
   "outputs": [],
   "source": [
    "# Save the model to a folder\n",
    "trainer.save_model('FEDSppechModel')"
   ]
  },
  {
   "cell_type": "code",
   "execution_count": null,
   "metadata": {
    "colab": {
     "base_uri": "https://localhost:8080/"
    },
    "executionInfo": {
     "elapsed": 17776,
     "status": "ok",
     "timestamp": 1750090849580,
     "user": {
      "displayName": "Cristián Bravo",
      "userId": "07563968753594904197"
     },
     "user_tz": -120
    },
    "id": "BJEllKOGWfIl",
    "outputId": "88ed2f2c-2cd0-4054-bd83-123aacebbd60"
   },
   "outputs": [],
   "source": [
    "# Zip it\n",
    "!zip -r DistilBert.zip FEDSppechModel"
   ]
  },
  {
   "cell_type": "code",
   "execution_count": null,
   "metadata": {
    "colab": {
     "base_uri": "https://localhost:8080/",
     "height": 455
    },
    "executionInfo": {
     "elapsed": 3558,
     "status": "ok",
     "timestamp": 1750092804299,
     "user": {
      "displayName": "Cristián Bravo",
      "userId": "07563968753594904197"
     },
     "user_tz": -120
    },
    "id": "eAF_H1tgpzgS",
    "outputId": "8dc0c5d0-7be0-4a5e-a4ba-1d98fda02ab7"
   },
   "outputs": [],
   "source": [
    "# Calculate AUC over the test set.\n",
    "predictions = trainer.predict(tokenized_fed_speech_data[\"test\"])\n",
    "preds = predictions.predictions\n",
    "preds\n",
    "\n",
    "# Plot ROC Curve\n",
    "fpr, tpr, threshold = roc_curve(tokenized_fed_speech_data[\"test\"][\"label\"], preds[:, 1])\n",
    "roc_auc = auc(fpr, tpr)\n",
    "plt.plot(fpr, tpr, 'b', label = 'AUC = %0.2f' % roc_auc)\n",
    "plt.legend(loc = 'lower right')\n",
    "plt.plot([0, 1], [0, 1],'r--')\n",
    "plt.xlim([0, 1])\n",
    "plt.ylim([0, 1])\n",
    "plt.ylabel('True Positive Rate')\n",
    "plt.xlabel('False Positive Rate')\n",
    "plt.savefig('c3_ROC_Curve.pdf')\n",
    "plt.show()\n"
   ]
  },
  {
   "cell_type": "markdown",
   "metadata": {
    "id": "G_XvRiN56724"
   },
   "source": [
    "## **Testing the Model on Recent FED Speeches**  \n",
    "\n",
    "Now that we have trained our model, let's test it on **recent Federal Reserve speeches** to evaluate its performance in predicting economic sentiment.\n",
    "\n",
    "---\n"
   ]
  },
  {
   "cell_type": "code",
   "execution_count": null,
   "metadata": {
    "colab": {
     "base_uri": "https://localhost:8080/",
     "height": 210
    },
    "executionInfo": {
     "elapsed": 11,
     "status": "ok",
     "timestamp": 1750090849619,
     "user": {
      "displayName": "Cristián Bravo",
      "userId": "07563968753594904197"
     },
     "user_tz": -120
    },
    "id": "crp5AfajWjyJ",
    "outputId": "998f06f7-f151-4137-8ea2-1016ffa9b6ba"
   },
   "outputs": [],
   "source": [
    "text = nan_rows_df.iloc[0]['text_cleaned']\n",
    "text"
   ]
  },
  {
   "cell_type": "code",
   "execution_count": null,
   "metadata": {
    "executionInfo": {
     "elapsed": 2,
     "status": "ok",
     "timestamp": 1750090849624,
     "user": {
      "displayName": "Cristián Bravo",
      "userId": "07563968753594904197"
     },
     "user_tz": -120
    },
    "id": "Vi9L9JTgWlKP"
   },
   "outputs": [],
   "source": [
    "# Apply tokenizer and return pytorch tensors\n",
    "inputs = tokenizer(text, return_tensors=\"pt\", truncation=True)"
   ]
  },
  {
   "cell_type": "code",
   "execution_count": null,
   "metadata": {
    "executionInfo": {
     "elapsed": 3,
     "status": "ok",
     "timestamp": 1750090849630,
     "user": {
      "displayName": "Cristián Bravo",
      "userId": "07563968753594904197"
     },
     "user_tz": -120
    },
    "id": "ice3geSgWnX0"
   },
   "outputs": [],
   "source": [
    "with torch.no_grad():\n",
    "    outputs = model(**inputs.to(\"cuda\"))\n",
    "    logits = outputs.logits"
   ]
  },
  {
   "cell_type": "code",
   "execution_count": null,
   "metadata": {
    "colab": {
     "base_uri": "https://localhost:8080/"
    },
    "executionInfo": {
     "elapsed": 9,
     "status": "ok",
     "timestamp": 1750090849653,
     "user": {
      "displayName": "Cristián Bravo",
      "userId": "07563968753594904197"
     },
     "user_tz": -120
    },
    "id": "QZ5EdLsuWo5k",
    "outputId": "40e47a73-0b26-41c6-ddf0-900d6095053c"
   },
   "outputs": [],
   "source": [
    "# Probabilities\n",
    "probs = nn.functional.softmax(logits, dim=1).cpu().numpy()\n",
    "print(probs)\n",
    "\n",
    "# Class\n",
    "print(f'The text is predicted to be of class {np.argmax(probs)}')"
   ]
  },
  {
   "cell_type": "markdown",
   "metadata": {
    "id": "f0gq76E57n-S"
   },
   "source": [
    "Our model predicts an economic downturn in January 2025 based on Federal Reserve speeches from December 2024.\n",
    "\n",
    "And the CFNAI for January 2025 is [-0.03](https://fred.stlouisfed.org/series/CFNAI), which is classified as econnomic downturn in our analysis!\n"
   ]
  },
  {
   "cell_type": "code",
   "execution_count": null,
   "metadata": {
    "colab": {
     "base_uri": "https://localhost:8080/"
    },
    "executionInfo": {
     "elapsed": 25592,
     "status": "ok",
     "timestamp": 1750091002892,
     "user": {
      "displayName": "Cristián Bravo",
      "userId": "07563968753594904197"
     },
     "user_tz": -120
    },
    "id": "6y65v6nRjQMW",
    "outputId": "805f9498-3032-47cf-9e4a-deb5d3f19fe0"
   },
   "outputs": [],
   "source": [
    "from google.colab import drive\n",
    "drive.mount('/content/drive')"
   ]
  },
  {
   "cell_type": "code",
   "execution_count": null,
   "metadata": {
    "executionInfo": {
     "elapsed": 512,
     "status": "ok",
     "timestamp": 1750091146241,
     "user": {
      "displayName": "Cristián Bravo",
      "userId": "07563968753594904197"
     },
     "user_tz": -120
    },
    "id": "mQDPZJZsjWhQ"
   },
   "outputs": [],
   "source": [
    "# Move the best model to drive\n",
    "!cp DistilBert.zip '/content/drive/MyDrive/Colab Notebooks/DL in Banking Book/DeepLearningInBankingBook/TextBook_Lab'"
   ]
  }
 ],
 "metadata": {
  "accelerator": "GPU",
  "colab": {
   "gpuType": "A100",
   "machine_shape": "hm",
   "provenance": []
  },
  "kernelspec": {
   "display_name": "Python 3",
   "name": "python3"
  },
  "language_info": {
   "name": "python"
  },
  "widgets": {
   "application/vnd.jupyter.widget-state+json": {
    "01e072abed2141569599163590e1f869": {
     "model_module": "@jupyter-widgets/base",
     "model_module_version": "1.2.0",
     "model_name": "LayoutModel",
     "state": {
      "_model_module": "@jupyter-widgets/base",
      "_model_module_version": "1.2.0",
      "_model_name": "LayoutModel",
      "_view_count": null,
      "_view_module": "@jupyter-widgets/base",
      "_view_module_version": "1.2.0",
      "_view_name": "LayoutView",
      "align_content": null,
      "align_items": null,
      "align_self": null,
      "border": null,
      "bottom": null,
      "display": null,
      "flex": null,
      "flex_flow": null,
      "grid_area": null,
      "grid_auto_columns": null,
      "grid_auto_flow": null,
      "grid_auto_rows": null,
      "grid_column": null,
      "grid_gap": null,
      "grid_row": null,
      "grid_template_areas": null,
      "grid_template_columns": null,
      "grid_template_rows": null,
      "height": null,
      "justify_content": null,
      "justify_items": null,
      "left": null,
      "margin": null,
      "max_height": null,
      "max_width": null,
      "min_height": null,
      "min_width": null,
      "object_fit": null,
      "object_position": null,
      "order": null,
      "overflow": null,
      "overflow_x": null,
      "overflow_y": null,
      "padding": null,
      "right": null,
      "top": null,
      "visibility": null,
      "width": null
     }
    },
    "022b37660d234157852140aeca581378": {
     "model_module": "@jupyter-widgets/base",
     "model_module_version": "1.2.0",
     "model_name": "LayoutModel",
     "state": {
      "_model_module": "@jupyter-widgets/base",
      "_model_module_version": "1.2.0",
      "_model_name": "LayoutModel",
      "_view_count": null,
      "_view_module": "@jupyter-widgets/base",
      "_view_module_version": "1.2.0",
      "_view_name": "LayoutView",
      "align_content": null,
      "align_items": null,
      "align_self": null,
      "border": null,
      "bottom": null,
      "display": null,
      "flex": null,
      "flex_flow": null,
      "grid_area": null,
      "grid_auto_columns": null,
      "grid_auto_flow": null,
      "grid_auto_rows": null,
      "grid_column": null,
      "grid_gap": null,
      "grid_row": null,
      "grid_template_areas": null,
      "grid_template_columns": null,
      "grid_template_rows": null,
      "height": null,
      "justify_content": null,
      "justify_items": null,
      "left": null,
      "margin": null,
      "max_height": null,
      "max_width": null,
      "min_height": null,
      "min_width": null,
      "object_fit": null,
      "object_position": null,
      "order": null,
      "overflow": null,
      "overflow_x": null,
      "overflow_y": null,
      "padding": null,
      "right": null,
      "top": null,
      "visibility": null,
      "width": null
     }
    },
    "0ff4f867b4d74ab1809834a96ae2d0ab": {
     "model_module": "@jupyter-widgets/base",
     "model_module_version": "1.2.0",
     "model_name": "LayoutModel",
     "state": {
      "_model_module": "@jupyter-widgets/base",
      "_model_module_version": "1.2.0",
      "_model_name": "LayoutModel",
      "_view_count": null,
      "_view_module": "@jupyter-widgets/base",
      "_view_module_version": "1.2.0",
      "_view_name": "LayoutView",
      "align_content": null,
      "align_items": null,
      "align_self": null,
      "border": null,
      "bottom": null,
      "display": null,
      "flex": null,
      "flex_flow": null,
      "grid_area": null,
      "grid_auto_columns": null,
      "grid_auto_flow": null,
      "grid_auto_rows": null,
      "grid_column": null,
      "grid_gap": null,
      "grid_row": null,
      "grid_template_areas": null,
      "grid_template_columns": null,
      "grid_template_rows": null,
      "height": null,
      "justify_content": null,
      "justify_items": null,
      "left": null,
      "margin": null,
      "max_height": null,
      "max_width": null,
      "min_height": null,
      "min_width": null,
      "object_fit": null,
      "object_position": null,
      "order": null,
      "overflow": null,
      "overflow_x": null,
      "overflow_y": null,
      "padding": null,
      "right": null,
      "top": null,
      "visibility": null,
      "width": null
     }
    },
    "12ebd76a595e4dc19ae21381d0a76e99": {
     "model_module": "@jupyter-widgets/base",
     "model_module_version": "1.2.0",
     "model_name": "LayoutModel",
     "state": {
      "_model_module": "@jupyter-widgets/base",
      "_model_module_version": "1.2.0",
      "_model_name": "LayoutModel",
      "_view_count": null,
      "_view_module": "@jupyter-widgets/base",
      "_view_module_version": "1.2.0",
      "_view_name": "LayoutView",
      "align_content": null,
      "align_items": null,
      "align_self": null,
      "border": null,
      "bottom": null,
      "display": null,
      "flex": null,
      "flex_flow": null,
      "grid_area": null,
      "grid_auto_columns": null,
      "grid_auto_flow": null,
      "grid_auto_rows": null,
      "grid_column": null,
      "grid_gap": null,
      "grid_row": null,
      "grid_template_areas": null,
      "grid_template_columns": null,
      "grid_template_rows": null,
      "height": null,
      "justify_content": null,
      "justify_items": null,
      "left": null,
      "margin": null,
      "max_height": null,
      "max_width": null,
      "min_height": null,
      "min_width": null,
      "object_fit": null,
      "object_position": null,
      "order": null,
      "overflow": null,
      "overflow_x": null,
      "overflow_y": null,
      "padding": null,
      "right": null,
      "top": null,
      "visibility": null,
      "width": null
     }
    },
    "1352771106d24e2cb38b0cad7e30550b": {
     "model_module": "@jupyter-widgets/controls",
     "model_module_version": "1.5.0",
     "model_name": "HBoxModel",
     "state": {
      "_dom_classes": [],
      "_model_module": "@jupyter-widgets/controls",
      "_model_module_version": "1.5.0",
      "_model_name": "HBoxModel",
      "_view_count": null,
      "_view_module": "@jupyter-widgets/controls",
      "_view_module_version": "1.5.0",
      "_view_name": "HBoxView",
      "box_style": "",
      "children": [
       "IPY_MODEL_a76adaabae0847cd94f3f2c92e93fcf6",
       "IPY_MODEL_899f1432c729478c9887e33a7741ee7b",
       "IPY_MODEL_e5695b05ce794e748d98231e8c559ddc"
      ],
      "layout": "IPY_MODEL_57b99305693742309960b75a64094c7f"
     }
    },
    "13e50fbf0e8d4ea0a96d9c8118c4e0b1": {
     "model_module": "@jupyter-widgets/base",
     "model_module_version": "1.2.0",
     "model_name": "LayoutModel",
     "state": {
      "_model_module": "@jupyter-widgets/base",
      "_model_module_version": "1.2.0",
      "_model_name": "LayoutModel",
      "_view_count": null,
      "_view_module": "@jupyter-widgets/base",
      "_view_module_version": "1.2.0",
      "_view_name": "LayoutView",
      "align_content": null,
      "align_items": null,
      "align_self": null,
      "border": null,
      "bottom": null,
      "display": null,
      "flex": null,
      "flex_flow": null,
      "grid_area": null,
      "grid_auto_columns": null,
      "grid_auto_flow": null,
      "grid_auto_rows": null,
      "grid_column": null,
      "grid_gap": null,
      "grid_row": null,
      "grid_template_areas": null,
      "grid_template_columns": null,
      "grid_template_rows": null,
      "height": null,
      "justify_content": null,
      "justify_items": null,
      "left": null,
      "margin": null,
      "max_height": null,
      "max_width": null,
      "min_height": null,
      "min_width": null,
      "object_fit": null,
      "object_position": null,
      "order": null,
      "overflow": null,
      "overflow_x": null,
      "overflow_y": null,
      "padding": null,
      "right": null,
      "top": null,
      "visibility": null,
      "width": null
     }
    },
    "15c5ad69cb94486ba5d39e7aa5896c43": {
     "model_module": "@jupyter-widgets/base",
     "model_module_version": "1.2.0",
     "model_name": "LayoutModel",
     "state": {
      "_model_module": "@jupyter-widgets/base",
      "_model_module_version": "1.2.0",
      "_model_name": "LayoutModel",
      "_view_count": null,
      "_view_module": "@jupyter-widgets/base",
      "_view_module_version": "1.2.0",
      "_view_name": "LayoutView",
      "align_content": null,
      "align_items": null,
      "align_self": null,
      "border": null,
      "bottom": null,
      "display": null,
      "flex": null,
      "flex_flow": null,
      "grid_area": null,
      "grid_auto_columns": null,
      "grid_auto_flow": null,
      "grid_auto_rows": null,
      "grid_column": null,
      "grid_gap": null,
      "grid_row": null,
      "grid_template_areas": null,
      "grid_template_columns": null,
      "grid_template_rows": null,
      "height": null,
      "justify_content": null,
      "justify_items": null,
      "left": null,
      "margin": null,
      "max_height": null,
      "max_width": null,
      "min_height": null,
      "min_width": null,
      "object_fit": null,
      "object_position": null,
      "order": null,
      "overflow": null,
      "overflow_x": null,
      "overflow_y": null,
      "padding": null,
      "right": null,
      "top": null,
      "visibility": null,
      "width": null
     }
    },
    "1aa0651bdaaf4fe0956fe68949b3d1b4": {
     "model_module": "@jupyter-widgets/controls",
     "model_module_version": "1.5.0",
     "model_name": "FloatProgressModel",
     "state": {
      "_dom_classes": [],
      "_model_module": "@jupyter-widgets/controls",
      "_model_module_version": "1.5.0",
      "_model_name": "FloatProgressModel",
      "_view_count": null,
      "_view_module": "@jupyter-widgets/controls",
      "_view_module_version": "1.5.0",
      "_view_name": "ProgressView",
      "bar_style": "success",
      "description": "",
      "description_tooltip": null,
      "layout": "IPY_MODEL_12ebd76a595e4dc19ae21381d0a76e99",
      "max": 1648,
      "min": 0,
      "orientation": "horizontal",
      "style": "IPY_MODEL_46edd9c8838145e4b4901bd5023049bc",
      "value": 1648
     }
    },
    "1c8e416e3ef94266a0eca535bfa26a54": {
     "model_module": "@jupyter-widgets/base",
     "model_module_version": "1.2.0",
     "model_name": "LayoutModel",
     "state": {
      "_model_module": "@jupyter-widgets/base",
      "_model_module_version": "1.2.0",
      "_model_name": "LayoutModel",
      "_view_count": null,
      "_view_module": "@jupyter-widgets/base",
      "_view_module_version": "1.2.0",
      "_view_name": "LayoutView",
      "align_content": null,
      "align_items": null,
      "align_self": null,
      "border": null,
      "bottom": null,
      "display": null,
      "flex": null,
      "flex_flow": null,
      "grid_area": null,
      "grid_auto_columns": null,
      "grid_auto_flow": null,
      "grid_auto_rows": null,
      "grid_column": null,
      "grid_gap": null,
      "grid_row": null,
      "grid_template_areas": null,
      "grid_template_columns": null,
      "grid_template_rows": null,
      "height": null,
      "justify_content": null,
      "justify_items": null,
      "left": null,
      "margin": null,
      "max_height": null,
      "max_width": null,
      "min_height": null,
      "min_width": null,
      "object_fit": null,
      "object_position": null,
      "order": null,
      "overflow": null,
      "overflow_x": null,
      "overflow_y": null,
      "padding": null,
      "right": null,
      "top": null,
      "visibility": null,
      "width": null
     }
    },
    "1e04dd69a4ac4213baca96a7dd4fedd9": {
     "model_module": "@jupyter-widgets/controls",
     "model_module_version": "1.5.0",
     "model_name": "DescriptionStyleModel",
     "state": {
      "_model_module": "@jupyter-widgets/controls",
      "_model_module_version": "1.5.0",
      "_model_name": "DescriptionStyleModel",
      "_view_count": null,
      "_view_module": "@jupyter-widgets/base",
      "_view_module_version": "1.2.0",
      "_view_name": "StyleView",
      "description_width": ""
     }
    },
    "22baf3fc839b4bbd9adf07f6990f8654": {
     "model_module": "@jupyter-widgets/base",
     "model_module_version": "1.2.0",
     "model_name": "LayoutModel",
     "state": {
      "_model_module": "@jupyter-widgets/base",
      "_model_module_version": "1.2.0",
      "_model_name": "LayoutModel",
      "_view_count": null,
      "_view_module": "@jupyter-widgets/base",
      "_view_module_version": "1.2.0",
      "_view_name": "LayoutView",
      "align_content": null,
      "align_items": null,
      "align_self": null,
      "border": null,
      "bottom": null,
      "display": null,
      "flex": null,
      "flex_flow": null,
      "grid_area": null,
      "grid_auto_columns": null,
      "grid_auto_flow": null,
      "grid_auto_rows": null,
      "grid_column": null,
      "grid_gap": null,
      "grid_row": null,
      "grid_template_areas": null,
      "grid_template_columns": null,
      "grid_template_rows": null,
      "height": null,
      "justify_content": null,
      "justify_items": null,
      "left": null,
      "margin": null,
      "max_height": null,
      "max_width": null,
      "min_height": null,
      "min_width": null,
      "object_fit": null,
      "object_position": null,
      "order": null,
      "overflow": null,
      "overflow_x": null,
      "overflow_y": null,
      "padding": null,
      "right": null,
      "top": null,
      "visibility": null,
      "width": null
     }
    },
    "2548d97ccb4748beb6f062db6dbc9afd": {
     "model_module": "@jupyter-widgets/controls",
     "model_module_version": "1.5.0",
     "model_name": "HTMLModel",
     "state": {
      "_dom_classes": [],
      "_model_module": "@jupyter-widgets/controls",
      "_model_module_version": "1.5.0",
      "_model_name": "HTMLModel",
      "_view_count": null,
      "_view_module": "@jupyter-widgets/controls",
      "_view_module_version": "1.5.0",
      "_view_name": "HTMLView",
      "description": "",
      "description_tooltip": null,
      "layout": "IPY_MODEL_c6b1b1f0a36f4f8f9d21ef12f5a4ae5e",
      "placeholder": "​",
      "style": "IPY_MODEL_55bdd10de13a43fd94f973648cefed4c",
      "value": "Saving the dataset (1/1 shards): 100%"
     }
    },
    "2eaec1d6898e4aad9f360b81ebc2dd3f": {
     "model_module": "@jupyter-widgets/base",
     "model_module_version": "1.2.0",
     "model_name": "LayoutModel",
     "state": {
      "_model_module": "@jupyter-widgets/base",
      "_model_module_version": "1.2.0",
      "_model_name": "LayoutModel",
      "_view_count": null,
      "_view_module": "@jupyter-widgets/base",
      "_view_module_version": "1.2.0",
      "_view_name": "LayoutView",
      "align_content": null,
      "align_items": null,
      "align_self": null,
      "border": null,
      "bottom": null,
      "display": null,
      "flex": null,
      "flex_flow": null,
      "grid_area": null,
      "grid_auto_columns": null,
      "grid_auto_flow": null,
      "grid_auto_rows": null,
      "grid_column": null,
      "grid_gap": null,
      "grid_row": null,
      "grid_template_areas": null,
      "grid_template_columns": null,
      "grid_template_rows": null,
      "height": null,
      "justify_content": null,
      "justify_items": null,
      "left": null,
      "margin": null,
      "max_height": null,
      "max_width": null,
      "min_height": null,
      "min_width": null,
      "object_fit": null,
      "object_position": null,
      "order": null,
      "overflow": null,
      "overflow_x": null,
      "overflow_y": null,
      "padding": null,
      "right": null,
      "top": null,
      "visibility": null,
      "width": null
     }
    },
    "3145e11d2a954f40a2ca7eaf83f44839": {
     "model_module": "@jupyter-widgets/controls",
     "model_module_version": "1.5.0",
     "model_name": "DescriptionStyleModel",
     "state": {
      "_model_module": "@jupyter-widgets/controls",
      "_model_module_version": "1.5.0",
      "_model_name": "DescriptionStyleModel",
      "_view_count": null,
      "_view_module": "@jupyter-widgets/base",
      "_view_module_version": "1.2.0",
      "_view_name": "StyleView",
      "description_width": ""
     }
    },
    "34c4e585b92f4f83b99d5a9a67d603f6": {
     "model_module": "@jupyter-widgets/controls",
     "model_module_version": "1.5.0",
     "model_name": "HTMLModel",
     "state": {
      "_dom_classes": [],
      "_model_module": "@jupyter-widgets/controls",
      "_model_module_version": "1.5.0",
      "_model_name": "HTMLModel",
      "_view_count": null,
      "_view_module": "@jupyter-widgets/controls",
      "_view_module_version": "1.5.0",
      "_view_name": "HTMLView",
      "description": "",
      "description_tooltip": null,
      "layout": "IPY_MODEL_022b37660d234157852140aeca581378",
      "placeholder": "​",
      "style": "IPY_MODEL_6107d810c1584536939de76874fe41bc",
      "value": " 2460/2460 [00:00&lt;00:00, 34927.33 examples/s]"
     }
    },
    "3541b00e1ff140cd9ee765e262abf6b4": {
     "model_module": "@jupyter-widgets/controls",
     "model_module_version": "1.5.0",
     "model_name": "FloatProgressModel",
     "state": {
      "_dom_classes": [],
      "_model_module": "@jupyter-widgets/controls",
      "_model_module_version": "1.5.0",
      "_model_name": "FloatProgressModel",
      "_view_count": null,
      "_view_module": "@jupyter-widgets/controls",
      "_view_module_version": "1.5.0",
      "_view_name": "ProgressView",
      "bar_style": "success",
      "description": "",
      "description_tooltip": null,
      "layout": "IPY_MODEL_01e072abed2141569599163590e1f869",
      "max": 812,
      "min": 0,
      "orientation": "horizontal",
      "style": "IPY_MODEL_e938e617acb1474e918ff4a3908142ad",
      "value": 812
     }
    },
    "35df4ed1d5cb41beba60a8aa16cf4cd3": {
     "model_module": "@jupyter-widgets/base",
     "model_module_version": "1.2.0",
     "model_name": "LayoutModel",
     "state": {
      "_model_module": "@jupyter-widgets/base",
      "_model_module_version": "1.2.0",
      "_model_name": "LayoutModel",
      "_view_count": null,
      "_view_module": "@jupyter-widgets/base",
      "_view_module_version": "1.2.0",
      "_view_name": "LayoutView",
      "align_content": null,
      "align_items": null,
      "align_self": null,
      "border": null,
      "bottom": null,
      "display": null,
      "flex": null,
      "flex_flow": null,
      "grid_area": null,
      "grid_auto_columns": null,
      "grid_auto_flow": null,
      "grid_auto_rows": null,
      "grid_column": null,
      "grid_gap": null,
      "grid_row": null,
      "grid_template_areas": null,
      "grid_template_columns": null,
      "grid_template_rows": null,
      "height": null,
      "justify_content": null,
      "justify_items": null,
      "left": null,
      "margin": null,
      "max_height": null,
      "max_width": null,
      "min_height": null,
      "min_width": null,
      "object_fit": null,
      "object_position": null,
      "order": null,
      "overflow": null,
      "overflow_x": null,
      "overflow_y": null,
      "padding": null,
      "right": null,
      "top": null,
      "visibility": null,
      "width": null
     }
    },
    "3931a8dc54524af3af28b2548717d083": {
     "model_module": "@jupyter-widgets/controls",
     "model_module_version": "1.5.0",
     "model_name": "HBoxModel",
     "state": {
      "_dom_classes": [],
      "_model_module": "@jupyter-widgets/controls",
      "_model_module_version": "1.5.0",
      "_model_name": "HBoxModel",
      "_view_count": null,
      "_view_module": "@jupyter-widgets/controls",
      "_view_module_version": "1.5.0",
      "_view_name": "HBoxView",
      "box_style": "",
      "children": [
       "IPY_MODEL_94be59891edc4d2daef5c4a7fc442df5",
       "IPY_MODEL_3c483c8faae344579fec022cfff5cc1e",
       "IPY_MODEL_a8958389cfdf4e8983184fbb409ea281"
      ],
      "layout": "IPY_MODEL_0ff4f867b4d74ab1809834a96ae2d0ab"
     }
    },
    "3b63ca259ff94f11847f5b3b192ab454": {
     "model_module": "@jupyter-widgets/base",
     "model_module_version": "1.2.0",
     "model_name": "LayoutModel",
     "state": {
      "_model_module": "@jupyter-widgets/base",
      "_model_module_version": "1.2.0",
      "_model_name": "LayoutModel",
      "_view_count": null,
      "_view_module": "@jupyter-widgets/base",
      "_view_module_version": "1.2.0",
      "_view_name": "LayoutView",
      "align_content": null,
      "align_items": null,
      "align_self": null,
      "border": null,
      "bottom": null,
      "display": null,
      "flex": null,
      "flex_flow": null,
      "grid_area": null,
      "grid_auto_columns": null,
      "grid_auto_flow": null,
      "grid_auto_rows": null,
      "grid_column": null,
      "grid_gap": null,
      "grid_row": null,
      "grid_template_areas": null,
      "grid_template_columns": null,
      "grid_template_rows": null,
      "height": null,
      "justify_content": null,
      "justify_items": null,
      "left": null,
      "margin": null,
      "max_height": null,
      "max_width": null,
      "min_height": null,
      "min_width": null,
      "object_fit": null,
      "object_position": null,
      "order": null,
      "overflow": null,
      "overflow_x": null,
      "overflow_y": null,
      "padding": null,
      "right": null,
      "top": null,
      "visibility": null,
      "width": null
     }
    },
    "3c483c8faae344579fec022cfff5cc1e": {
     "model_module": "@jupyter-widgets/controls",
     "model_module_version": "1.5.0",
     "model_name": "FloatProgressModel",
     "state": {
      "_dom_classes": [],
      "_model_module": "@jupyter-widgets/controls",
      "_model_module_version": "1.5.0",
      "_model_name": "FloatProgressModel",
      "_view_count": null,
      "_view_module": "@jupyter-widgets/controls",
      "_view_module_version": "1.5.0",
      "_view_name": "ProgressView",
      "bar_style": "success",
      "description": "",
      "description_tooltip": null,
      "layout": "IPY_MODEL_6b5fc8df903d4587aecec49fcf6d8458",
      "max": 2460,
      "min": 0,
      "orientation": "horizontal",
      "style": "IPY_MODEL_82fa26c0c1d442188a45977da7320283",
      "value": 2460
     }
    },
    "3ea85f675bf0441b9907605d59d27a41": {
     "model_module": "@jupyter-widgets/controls",
     "model_module_version": "1.5.0",
     "model_name": "DescriptionStyleModel",
     "state": {
      "_model_module": "@jupyter-widgets/controls",
      "_model_module_version": "1.5.0",
      "_model_name": "DescriptionStyleModel",
      "_view_count": null,
      "_view_module": "@jupyter-widgets/base",
      "_view_module_version": "1.2.0",
      "_view_name": "StyleView",
      "description_width": ""
     }
    },
    "425391b3ac2745fdb25ece8dc3ff210b": {
     "model_module": "@jupyter-widgets/controls",
     "model_module_version": "1.5.0",
     "model_name": "HBoxModel",
     "state": {
      "_dom_classes": [],
      "_model_module": "@jupyter-widgets/controls",
      "_model_module_version": "1.5.0",
      "_model_name": "HBoxModel",
      "_view_count": null,
      "_view_module": "@jupyter-widgets/controls",
      "_view_module_version": "1.5.0",
      "_view_name": "HBoxView",
      "box_style": "",
      "children": [
       "IPY_MODEL_660061b7a5b94ffab78d0fb21ab6af7e",
       "IPY_MODEL_1aa0651bdaaf4fe0956fe68949b3d1b4",
       "IPY_MODEL_5c92d20391b84a28b2b10c2e4c0dfcf6"
      ],
      "layout": "IPY_MODEL_f0ba26b769664f0db1b146590a12a6a1"
     }
    },
    "430544aadf834c3ea378d5ce6affb1ba": {
     "model_module": "@jupyter-widgets/controls",
     "model_module_version": "1.5.0",
     "model_name": "DescriptionStyleModel",
     "state": {
      "_model_module": "@jupyter-widgets/controls",
      "_model_module_version": "1.5.0",
      "_model_name": "DescriptionStyleModel",
      "_view_count": null,
      "_view_module": "@jupyter-widgets/base",
      "_view_module_version": "1.2.0",
      "_view_name": "StyleView",
      "description_width": ""
     }
    },
    "46edd9c8838145e4b4901bd5023049bc": {
     "model_module": "@jupyter-widgets/controls",
     "model_module_version": "1.5.0",
     "model_name": "ProgressStyleModel",
     "state": {
      "_model_module": "@jupyter-widgets/controls",
      "_model_module_version": "1.5.0",
      "_model_name": "ProgressStyleModel",
      "_view_count": null,
      "_view_module": "@jupyter-widgets/base",
      "_view_module_version": "1.2.0",
      "_view_name": "StyleView",
      "bar_color": null,
      "description_width": ""
     }
    },
    "49a94c0ea64d4b5ba2f04464b074859b": {
     "model_module": "@jupyter-widgets/controls",
     "model_module_version": "1.5.0",
     "model_name": "HTMLModel",
     "state": {
      "_dom_classes": [],
      "_model_module": "@jupyter-widgets/controls",
      "_model_module_version": "1.5.0",
      "_model_name": "HTMLModel",
      "_view_count": null,
      "_view_module": "@jupyter-widgets/controls",
      "_view_module_version": "1.5.0",
      "_view_name": "HTMLView",
      "description": "",
      "description_tooltip": null,
      "layout": "IPY_MODEL_15c5ad69cb94486ba5d39e7aa5896c43",
      "placeholder": "​",
      "style": "IPY_MODEL_1e04dd69a4ac4213baca96a7dd4fedd9",
      "value": " 812/812 [00:00&lt;00:00, 29759.57 examples/s]"
     }
    },
    "4ce539e6a6e8413f82db7232651e2b8e": {
     "model_module": "@jupyter-widgets/controls",
     "model_module_version": "1.5.0",
     "model_name": "HTMLModel",
     "state": {
      "_dom_classes": [],
      "_model_module": "@jupyter-widgets/controls",
      "_model_module_version": "1.5.0",
      "_model_name": "HTMLModel",
      "_view_count": null,
      "_view_module": "@jupyter-widgets/controls",
      "_view_module_version": "1.5.0",
      "_view_name": "HTMLView",
      "description": "",
      "description_tooltip": null,
      "layout": "IPY_MODEL_35df4ed1d5cb41beba60a8aa16cf4cd3",
      "placeholder": "​",
      "style": "IPY_MODEL_aff5df11d8994d4e940517efd20e1fb2",
      "value": " 812/812 [00:00&lt;00:00, 839.91 examples/s]"
     }
    },
    "529fc20c1ece4c8f8900cc80ec3dcac0": {
     "model_module": "@jupyter-widgets/base",
     "model_module_version": "1.2.0",
     "model_name": "LayoutModel",
     "state": {
      "_model_module": "@jupyter-widgets/base",
      "_model_module_version": "1.2.0",
      "_model_name": "LayoutModel",
      "_view_count": null,
      "_view_module": "@jupyter-widgets/base",
      "_view_module_version": "1.2.0",
      "_view_name": "LayoutView",
      "align_content": null,
      "align_items": null,
      "align_self": null,
      "border": null,
      "bottom": null,
      "display": null,
      "flex": null,
      "flex_flow": null,
      "grid_area": null,
      "grid_auto_columns": null,
      "grid_auto_flow": null,
      "grid_auto_rows": null,
      "grid_column": null,
      "grid_gap": null,
      "grid_row": null,
      "grid_template_areas": null,
      "grid_template_columns": null,
      "grid_template_rows": null,
      "height": null,
      "justify_content": null,
      "justify_items": null,
      "left": null,
      "margin": null,
      "max_height": null,
      "max_width": null,
      "min_height": null,
      "min_width": null,
      "object_fit": null,
      "object_position": null,
      "order": null,
      "overflow": null,
      "overflow_x": null,
      "overflow_y": null,
      "padding": null,
      "right": null,
      "top": null,
      "visibility": null,
      "width": null
     }
    },
    "55bdd10de13a43fd94f973648cefed4c": {
     "model_module": "@jupyter-widgets/controls",
     "model_module_version": "1.5.0",
     "model_name": "DescriptionStyleModel",
     "state": {
      "_model_module": "@jupyter-widgets/controls",
      "_model_module_version": "1.5.0",
      "_model_name": "DescriptionStyleModel",
      "_view_count": null,
      "_view_module": "@jupyter-widgets/base",
      "_view_module_version": "1.2.0",
      "_view_name": "StyleView",
      "description_width": ""
     }
    },
    "56cd8d34000a4b49af5930ac50ad54b4": {
     "model_module": "@jupyter-widgets/controls",
     "model_module_version": "1.5.0",
     "model_name": "ProgressStyleModel",
     "state": {
      "_model_module": "@jupyter-widgets/controls",
      "_model_module_version": "1.5.0",
      "_model_name": "ProgressStyleModel",
      "_view_count": null,
      "_view_module": "@jupyter-widgets/base",
      "_view_module_version": "1.2.0",
      "_view_name": "StyleView",
      "bar_color": null,
      "description_width": ""
     }
    },
    "57b99305693742309960b75a64094c7f": {
     "model_module": "@jupyter-widgets/base",
     "model_module_version": "1.2.0",
     "model_name": "LayoutModel",
     "state": {
      "_model_module": "@jupyter-widgets/base",
      "_model_module_version": "1.2.0",
      "_model_name": "LayoutModel",
      "_view_count": null,
      "_view_module": "@jupyter-widgets/base",
      "_view_module_version": "1.2.0",
      "_view_name": "LayoutView",
      "align_content": null,
      "align_items": null,
      "align_self": null,
      "border": null,
      "bottom": null,
      "display": null,
      "flex": null,
      "flex_flow": null,
      "grid_area": null,
      "grid_auto_columns": null,
      "grid_auto_flow": null,
      "grid_auto_rows": null,
      "grid_column": null,
      "grid_gap": null,
      "grid_row": null,
      "grid_template_areas": null,
      "grid_template_columns": null,
      "grid_template_rows": null,
      "height": null,
      "justify_content": null,
      "justify_items": null,
      "left": null,
      "margin": null,
      "max_height": null,
      "max_width": null,
      "min_height": null,
      "min_width": null,
      "object_fit": null,
      "object_position": null,
      "order": null,
      "overflow": null,
      "overflow_x": null,
      "overflow_y": null,
      "padding": null,
      "right": null,
      "top": null,
      "visibility": null,
      "width": null
     }
    },
    "5c92d20391b84a28b2b10c2e4c0dfcf6": {
     "model_module": "@jupyter-widgets/controls",
     "model_module_version": "1.5.0",
     "model_name": "HTMLModel",
     "state": {
      "_dom_classes": [],
      "_model_module": "@jupyter-widgets/controls",
      "_model_module_version": "1.5.0",
      "_model_name": "HTMLModel",
      "_view_count": null,
      "_view_module": "@jupyter-widgets/controls",
      "_view_module_version": "1.5.0",
      "_view_name": "HTMLView",
      "description": "",
      "description_tooltip": null,
      "layout": "IPY_MODEL_13e50fbf0e8d4ea0a96d9c8118c4e0b1",
      "placeholder": "​",
      "style": "IPY_MODEL_cb628ece9a284b4785d376de1eef71b3",
      "value": " 1648/1648 [00:02&lt;00:00, 816.83 examples/s]"
     }
    },
    "6074960f197f4feab337cc517df78401": {
     "model_module": "@jupyter-widgets/controls",
     "model_module_version": "1.5.0",
     "model_name": "FloatProgressModel",
     "state": {
      "_dom_classes": [],
      "_model_module": "@jupyter-widgets/controls",
      "_model_module_version": "1.5.0",
      "_model_name": "FloatProgressModel",
      "_view_count": null,
      "_view_module": "@jupyter-widgets/controls",
      "_view_module_version": "1.5.0",
      "_view_name": "ProgressView",
      "bar_style": "success",
      "description": "",
      "description_tooltip": null,
      "layout": "IPY_MODEL_22baf3fc839b4bbd9adf07f6990f8654",
      "max": 812,
      "min": 0,
      "orientation": "horizontal",
      "style": "IPY_MODEL_56cd8d34000a4b49af5930ac50ad54b4",
      "value": 812
     }
    },
    "6107d810c1584536939de76874fe41bc": {
     "model_module": "@jupyter-widgets/controls",
     "model_module_version": "1.5.0",
     "model_name": "DescriptionStyleModel",
     "state": {
      "_model_module": "@jupyter-widgets/controls",
      "_model_module_version": "1.5.0",
      "_model_name": "DescriptionStyleModel",
      "_view_count": null,
      "_view_module": "@jupyter-widgets/base",
      "_view_module_version": "1.2.0",
      "_view_name": "StyleView",
      "description_width": ""
     }
    },
    "6146041f1b644ff69c52fc6ac3f96d8e": {
     "model_module": "@jupyter-widgets/controls",
     "model_module_version": "1.5.0",
     "model_name": "DescriptionStyleModel",
     "state": {
      "_model_module": "@jupyter-widgets/controls",
      "_model_module_version": "1.5.0",
      "_model_name": "DescriptionStyleModel",
      "_view_count": null,
      "_view_module": "@jupyter-widgets/base",
      "_view_module_version": "1.2.0",
      "_view_name": "StyleView",
      "description_width": ""
     }
    },
    "660061b7a5b94ffab78d0fb21ab6af7e": {
     "model_module": "@jupyter-widgets/controls",
     "model_module_version": "1.5.0",
     "model_name": "HTMLModel",
     "state": {
      "_dom_classes": [],
      "_model_module": "@jupyter-widgets/controls",
      "_model_module_version": "1.5.0",
      "_model_name": "HTMLModel",
      "_view_count": null,
      "_view_module": "@jupyter-widgets/controls",
      "_view_module_version": "1.5.0",
      "_view_name": "HTMLView",
      "description": "",
      "description_tooltip": null,
      "layout": "IPY_MODEL_a62a79943a2540fc88ab8ff1a6c68ae6",
      "placeholder": "​",
      "style": "IPY_MODEL_3145e11d2a954f40a2ca7eaf83f44839",
      "value": "Map: 100%"
     }
    },
    "665ad591b3de450fb1c29f48135feec6": {
     "model_module": "@jupyter-widgets/controls",
     "model_module_version": "1.5.0",
     "model_name": "HTMLModel",
     "state": {
      "_dom_classes": [],
      "_model_module": "@jupyter-widgets/controls",
      "_model_module_version": "1.5.0",
      "_model_name": "HTMLModel",
      "_view_count": null,
      "_view_module": "@jupyter-widgets/controls",
      "_view_module_version": "1.5.0",
      "_view_name": "HTMLView",
      "description": "",
      "description_tooltip": null,
      "layout": "IPY_MODEL_3b63ca259ff94f11847f5b3b192ab454",
      "placeholder": "​",
      "style": "IPY_MODEL_430544aadf834c3ea378d5ce6affb1ba",
      "value": "Stringifying the column: 100%"
     }
    },
    "6b5fc8df903d4587aecec49fcf6d8458": {
     "model_module": "@jupyter-widgets/base",
     "model_module_version": "1.2.0",
     "model_name": "LayoutModel",
     "state": {
      "_model_module": "@jupyter-widgets/base",
      "_model_module_version": "1.2.0",
      "_model_name": "LayoutModel",
      "_view_count": null,
      "_view_module": "@jupyter-widgets/base",
      "_view_module_version": "1.2.0",
      "_view_name": "LayoutView",
      "align_content": null,
      "align_items": null,
      "align_self": null,
      "border": null,
      "bottom": null,
      "display": null,
      "flex": null,
      "flex_flow": null,
      "grid_area": null,
      "grid_auto_columns": null,
      "grid_auto_flow": null,
      "grid_auto_rows": null,
      "grid_column": null,
      "grid_gap": null,
      "grid_row": null,
      "grid_template_areas": null,
      "grid_template_columns": null,
      "grid_template_rows": null,
      "height": null,
      "justify_content": null,
      "justify_items": null,
      "left": null,
      "margin": null,
      "max_height": null,
      "max_width": null,
      "min_height": null,
      "min_width": null,
      "object_fit": null,
      "object_position": null,
      "order": null,
      "overflow": null,
      "overflow_x": null,
      "overflow_y": null,
      "padding": null,
      "right": null,
      "top": null,
      "visibility": null,
      "width": null
     }
    },
    "6ff156a628854b9a9129ad90346b7e5e": {
     "model_module": "@jupyter-widgets/base",
     "model_module_version": "1.2.0",
     "model_name": "LayoutModel",
     "state": {
      "_model_module": "@jupyter-widgets/base",
      "_model_module_version": "1.2.0",
      "_model_name": "LayoutModel",
      "_view_count": null,
      "_view_module": "@jupyter-widgets/base",
      "_view_module_version": "1.2.0",
      "_view_name": "LayoutView",
      "align_content": null,
      "align_items": null,
      "align_self": null,
      "border": null,
      "bottom": null,
      "display": null,
      "flex": null,
      "flex_flow": null,
      "grid_area": null,
      "grid_auto_columns": null,
      "grid_auto_flow": null,
      "grid_auto_rows": null,
      "grid_column": null,
      "grid_gap": null,
      "grid_row": null,
      "grid_template_areas": null,
      "grid_template_columns": null,
      "grid_template_rows": null,
      "height": null,
      "justify_content": null,
      "justify_items": null,
      "left": null,
      "margin": null,
      "max_height": null,
      "max_width": null,
      "min_height": null,
      "min_width": null,
      "object_fit": null,
      "object_position": null,
      "order": null,
      "overflow": null,
      "overflow_x": null,
      "overflow_y": null,
      "padding": null,
      "right": null,
      "top": null,
      "visibility": null,
      "width": null
     }
    },
    "7c0bbd69bd39404abcbbd1f917082cd8": {
     "model_module": "@jupyter-widgets/controls",
     "model_module_version": "1.5.0",
     "model_name": "DescriptionStyleModel",
     "state": {
      "_model_module": "@jupyter-widgets/controls",
      "_model_module_version": "1.5.0",
      "_model_name": "DescriptionStyleModel",
      "_view_count": null,
      "_view_module": "@jupyter-widgets/base",
      "_view_module_version": "1.2.0",
      "_view_name": "StyleView",
      "description_width": ""
     }
    },
    "82fa26c0c1d442188a45977da7320283": {
     "model_module": "@jupyter-widgets/controls",
     "model_module_version": "1.5.0",
     "model_name": "ProgressStyleModel",
     "state": {
      "_model_module": "@jupyter-widgets/controls",
      "_model_module_version": "1.5.0",
      "_model_name": "ProgressStyleModel",
      "_view_count": null,
      "_view_module": "@jupyter-widgets/base",
      "_view_module_version": "1.2.0",
      "_view_name": "StyleView",
      "bar_color": null,
      "description_width": ""
     }
    },
    "899f1432c729478c9887e33a7741ee7b": {
     "model_module": "@jupyter-widgets/controls",
     "model_module_version": "1.5.0",
     "model_name": "FloatProgressModel",
     "state": {
      "_dom_classes": [],
      "_model_module": "@jupyter-widgets/controls",
      "_model_module_version": "1.5.0",
      "_model_name": "FloatProgressModel",
      "_view_count": null,
      "_view_module": "@jupyter-widgets/controls",
      "_view_module_version": "1.5.0",
      "_view_name": "ProgressView",
      "bar_style": "success",
      "description": "",
      "description_tooltip": null,
      "layout": "IPY_MODEL_c298ca643f544890b7464b144d913093",
      "max": 1648,
      "min": 0,
      "orientation": "horizontal",
      "style": "IPY_MODEL_a9e749596c6a4f5f9abd1183dc12e4bf",
      "value": 1648
     }
    },
    "902aaceacf794f9f9d7c8cdf37b9d515": {
     "model_module": "@jupyter-widgets/controls",
     "model_module_version": "1.5.0",
     "model_name": "HBoxModel",
     "state": {
      "_dom_classes": [],
      "_model_module": "@jupyter-widgets/controls",
      "_model_module_version": "1.5.0",
      "_model_name": "HBoxModel",
      "_view_count": null,
      "_view_module": "@jupyter-widgets/controls",
      "_view_module_version": "1.5.0",
      "_view_name": "HBoxView",
      "box_style": "",
      "children": [
       "IPY_MODEL_e986f77fe7184ccbbcc3f1b7b7f1e4d2",
       "IPY_MODEL_3541b00e1ff140cd9ee765e262abf6b4",
       "IPY_MODEL_4ce539e6a6e8413f82db7232651e2b8e"
      ],
      "layout": "IPY_MODEL_b6a30a53478144e9af8844807c876b64"
     }
    },
    "94be59891edc4d2daef5c4a7fc442df5": {
     "model_module": "@jupyter-widgets/controls",
     "model_module_version": "1.5.0",
     "model_name": "HTMLModel",
     "state": {
      "_dom_classes": [],
      "_model_module": "@jupyter-widgets/controls",
      "_model_module_version": "1.5.0",
      "_model_name": "HTMLModel",
      "_view_count": null,
      "_view_module": "@jupyter-widgets/controls",
      "_view_module_version": "1.5.0",
      "_view_name": "HTMLView",
      "description": "",
      "description_tooltip": null,
      "layout": "IPY_MODEL_ec0b5a8643eb4f4b9a72ea316b05c101",
      "placeholder": "​",
      "style": "IPY_MODEL_f6939cf825a642aea3f7f30b568f7dc5",
      "value": "Casting to class labels: 100%"
     }
    },
    "97ba39253ca74f589e2035d81610a332": {
     "model_module": "@jupyter-widgets/controls",
     "model_module_version": "1.5.0",
     "model_name": "HBoxModel",
     "state": {
      "_dom_classes": [],
      "_model_module": "@jupyter-widgets/controls",
      "_model_module_version": "1.5.0",
      "_model_name": "HBoxModel",
      "_view_count": null,
      "_view_module": "@jupyter-widgets/controls",
      "_view_module_version": "1.5.0",
      "_view_name": "HBoxView",
      "box_style": "",
      "children": [
       "IPY_MODEL_2548d97ccb4748beb6f062db6dbc9afd",
       "IPY_MODEL_6074960f197f4feab337cc517df78401",
       "IPY_MODEL_49a94c0ea64d4b5ba2f04464b074859b"
      ],
      "layout": "IPY_MODEL_529fc20c1ece4c8f8900cc80ec3dcac0"
     }
    },
    "a62a79943a2540fc88ab8ff1a6c68ae6": {
     "model_module": "@jupyter-widgets/base",
     "model_module_version": "1.2.0",
     "model_name": "LayoutModel",
     "state": {
      "_model_module": "@jupyter-widgets/base",
      "_model_module_version": "1.2.0",
      "_model_name": "LayoutModel",
      "_view_count": null,
      "_view_module": "@jupyter-widgets/base",
      "_view_module_version": "1.2.0",
      "_view_name": "LayoutView",
      "align_content": null,
      "align_items": null,
      "align_self": null,
      "border": null,
      "bottom": null,
      "display": null,
      "flex": null,
      "flex_flow": null,
      "grid_area": null,
      "grid_auto_columns": null,
      "grid_auto_flow": null,
      "grid_auto_rows": null,
      "grid_column": null,
      "grid_gap": null,
      "grid_row": null,
      "grid_template_areas": null,
      "grid_template_columns": null,
      "grid_template_rows": null,
      "height": null,
      "justify_content": null,
      "justify_items": null,
      "left": null,
      "margin": null,
      "max_height": null,
      "max_width": null,
      "min_height": null,
      "min_width": null,
      "object_fit": null,
      "object_position": null,
      "order": null,
      "overflow": null,
      "overflow_x": null,
      "overflow_y": null,
      "padding": null,
      "right": null,
      "top": null,
      "visibility": null,
      "width": null
     }
    },
    "a76adaabae0847cd94f3f2c92e93fcf6": {
     "model_module": "@jupyter-widgets/controls",
     "model_module_version": "1.5.0",
     "model_name": "HTMLModel",
     "state": {
      "_dom_classes": [],
      "_model_module": "@jupyter-widgets/controls",
      "_model_module_version": "1.5.0",
      "_model_name": "HTMLModel",
      "_view_count": null,
      "_view_module": "@jupyter-widgets/controls",
      "_view_module_version": "1.5.0",
      "_view_name": "HTMLView",
      "description": "",
      "description_tooltip": null,
      "layout": "IPY_MODEL_1c8e416e3ef94266a0eca535bfa26a54",
      "placeholder": "​",
      "style": "IPY_MODEL_6146041f1b644ff69c52fc6ac3f96d8e",
      "value": "Saving the dataset (1/1 shards): 100%"
     }
    },
    "a8958389cfdf4e8983184fbb409ea281": {
     "model_module": "@jupyter-widgets/controls",
     "model_module_version": "1.5.0",
     "model_name": "HTMLModel",
     "state": {
      "_dom_classes": [],
      "_model_module": "@jupyter-widgets/controls",
      "_model_module_version": "1.5.0",
      "_model_name": "HTMLModel",
      "_view_count": null,
      "_view_module": "@jupyter-widgets/controls",
      "_view_module_version": "1.5.0",
      "_view_name": "HTMLView",
      "description": "",
      "description_tooltip": null,
      "layout": "IPY_MODEL_dc9c32987b784a838e1426e2552a637b",
      "placeholder": "​",
      "style": "IPY_MODEL_3ea85f675bf0441b9907605d59d27a41",
      "value": " 2460/2460 [00:00&lt;00:00, 36478.66 examples/s]"
     }
    },
    "a9e749596c6a4f5f9abd1183dc12e4bf": {
     "model_module": "@jupyter-widgets/controls",
     "model_module_version": "1.5.0",
     "model_name": "ProgressStyleModel",
     "state": {
      "_model_module": "@jupyter-widgets/controls",
      "_model_module_version": "1.5.0",
      "_model_name": "ProgressStyleModel",
      "_view_count": null,
      "_view_module": "@jupyter-widgets/base",
      "_view_module_version": "1.2.0",
      "_view_name": "StyleView",
      "bar_color": null,
      "description_width": ""
     }
    },
    "aff5df11d8994d4e940517efd20e1fb2": {
     "model_module": "@jupyter-widgets/controls",
     "model_module_version": "1.5.0",
     "model_name": "DescriptionStyleModel",
     "state": {
      "_model_module": "@jupyter-widgets/controls",
      "_model_module_version": "1.5.0",
      "_model_name": "DescriptionStyleModel",
      "_view_count": null,
      "_view_module": "@jupyter-widgets/base",
      "_view_module_version": "1.2.0",
      "_view_name": "StyleView",
      "description_width": ""
     }
    },
    "b6a30a53478144e9af8844807c876b64": {
     "model_module": "@jupyter-widgets/base",
     "model_module_version": "1.2.0",
     "model_name": "LayoutModel",
     "state": {
      "_model_module": "@jupyter-widgets/base",
      "_model_module_version": "1.2.0",
      "_model_name": "LayoutModel",
      "_view_count": null,
      "_view_module": "@jupyter-widgets/base",
      "_view_module_version": "1.2.0",
      "_view_name": "LayoutView",
      "align_content": null,
      "align_items": null,
      "align_self": null,
      "border": null,
      "bottom": null,
      "display": null,
      "flex": null,
      "flex_flow": null,
      "grid_area": null,
      "grid_auto_columns": null,
      "grid_auto_flow": null,
      "grid_auto_rows": null,
      "grid_column": null,
      "grid_gap": null,
      "grid_row": null,
      "grid_template_areas": null,
      "grid_template_columns": null,
      "grid_template_rows": null,
      "height": null,
      "justify_content": null,
      "justify_items": null,
      "left": null,
      "margin": null,
      "max_height": null,
      "max_width": null,
      "min_height": null,
      "min_width": null,
      "object_fit": null,
      "object_position": null,
      "order": null,
      "overflow": null,
      "overflow_x": null,
      "overflow_y": null,
      "padding": null,
      "right": null,
      "top": null,
      "visibility": null,
      "width": null
     }
    },
    "b6f108c487284c4fba960e042e1f1bb6": {
     "model_module": "@jupyter-widgets/base",
     "model_module_version": "1.2.0",
     "model_name": "LayoutModel",
     "state": {
      "_model_module": "@jupyter-widgets/base",
      "_model_module_version": "1.2.0",
      "_model_name": "LayoutModel",
      "_view_count": null,
      "_view_module": "@jupyter-widgets/base",
      "_view_module_version": "1.2.0",
      "_view_name": "LayoutView",
      "align_content": null,
      "align_items": null,
      "align_self": null,
      "border": null,
      "bottom": null,
      "display": null,
      "flex": null,
      "flex_flow": null,
      "grid_area": null,
      "grid_auto_columns": null,
      "grid_auto_flow": null,
      "grid_auto_rows": null,
      "grid_column": null,
      "grid_gap": null,
      "grid_row": null,
      "grid_template_areas": null,
      "grid_template_columns": null,
      "grid_template_rows": null,
      "height": null,
      "justify_content": null,
      "justify_items": null,
      "left": null,
      "margin": null,
      "max_height": null,
      "max_width": null,
      "min_height": null,
      "min_width": null,
      "object_fit": null,
      "object_position": null,
      "order": null,
      "overflow": null,
      "overflow_x": null,
      "overflow_y": null,
      "padding": null,
      "right": null,
      "top": null,
      "visibility": null,
      "width": null
     }
    },
    "bcdb05a005d3479eb9b2cd7acc17b36a": {
     "model_module": "@jupyter-widgets/controls",
     "model_module_version": "1.5.0",
     "model_name": "DescriptionStyleModel",
     "state": {
      "_model_module": "@jupyter-widgets/controls",
      "_model_module_version": "1.5.0",
      "_model_name": "DescriptionStyleModel",
      "_view_count": null,
      "_view_module": "@jupyter-widgets/base",
      "_view_module_version": "1.2.0",
      "_view_name": "StyleView",
      "description_width": ""
     }
    },
    "bee4979908a1456abe40a78feff18ee1": {
     "model_module": "@jupyter-widgets/controls",
     "model_module_version": "1.5.0",
     "model_name": "HBoxModel",
     "state": {
      "_dom_classes": [],
      "_model_module": "@jupyter-widgets/controls",
      "_model_module_version": "1.5.0",
      "_model_name": "HBoxModel",
      "_view_count": null,
      "_view_module": "@jupyter-widgets/controls",
      "_view_module_version": "1.5.0",
      "_view_name": "HBoxView",
      "box_style": "",
      "children": [
       "IPY_MODEL_665ad591b3de450fb1c29f48135feec6",
       "IPY_MODEL_e303ffb8d51f476094c828dc4cf5ce24",
       "IPY_MODEL_34c4e585b92f4f83b99d5a9a67d603f6"
      ],
      "layout": "IPY_MODEL_2eaec1d6898e4aad9f360b81ebc2dd3f"
     }
    },
    "c298ca643f544890b7464b144d913093": {
     "model_module": "@jupyter-widgets/base",
     "model_module_version": "1.2.0",
     "model_name": "LayoutModel",
     "state": {
      "_model_module": "@jupyter-widgets/base",
      "_model_module_version": "1.2.0",
      "_model_name": "LayoutModel",
      "_view_count": null,
      "_view_module": "@jupyter-widgets/base",
      "_view_module_version": "1.2.0",
      "_view_name": "LayoutView",
      "align_content": null,
      "align_items": null,
      "align_self": null,
      "border": null,
      "bottom": null,
      "display": null,
      "flex": null,
      "flex_flow": null,
      "grid_area": null,
      "grid_auto_columns": null,
      "grid_auto_flow": null,
      "grid_auto_rows": null,
      "grid_column": null,
      "grid_gap": null,
      "grid_row": null,
      "grid_template_areas": null,
      "grid_template_columns": null,
      "grid_template_rows": null,
      "height": null,
      "justify_content": null,
      "justify_items": null,
      "left": null,
      "margin": null,
      "max_height": null,
      "max_width": null,
      "min_height": null,
      "min_width": null,
      "object_fit": null,
      "object_position": null,
      "order": null,
      "overflow": null,
      "overflow_x": null,
      "overflow_y": null,
      "padding": null,
      "right": null,
      "top": null,
      "visibility": null,
      "width": null
     }
    },
    "c501d911f813454f9cc2fb4c11545228": {
     "model_module": "@jupyter-widgets/base",
     "model_module_version": "1.2.0",
     "model_name": "LayoutModel",
     "state": {
      "_model_module": "@jupyter-widgets/base",
      "_model_module_version": "1.2.0",
      "_model_name": "LayoutModel",
      "_view_count": null,
      "_view_module": "@jupyter-widgets/base",
      "_view_module_version": "1.2.0",
      "_view_name": "LayoutView",
      "align_content": null,
      "align_items": null,
      "align_self": null,
      "border": null,
      "bottom": null,
      "display": null,
      "flex": null,
      "flex_flow": null,
      "grid_area": null,
      "grid_auto_columns": null,
      "grid_auto_flow": null,
      "grid_auto_rows": null,
      "grid_column": null,
      "grid_gap": null,
      "grid_row": null,
      "grid_template_areas": null,
      "grid_template_columns": null,
      "grid_template_rows": null,
      "height": null,
      "justify_content": null,
      "justify_items": null,
      "left": null,
      "margin": null,
      "max_height": null,
      "max_width": null,
      "min_height": null,
      "min_width": null,
      "object_fit": null,
      "object_position": null,
      "order": null,
      "overflow": null,
      "overflow_x": null,
      "overflow_y": null,
      "padding": null,
      "right": null,
      "top": null,
      "visibility": null,
      "width": null
     }
    },
    "c6b1b1f0a36f4f8f9d21ef12f5a4ae5e": {
     "model_module": "@jupyter-widgets/base",
     "model_module_version": "1.2.0",
     "model_name": "LayoutModel",
     "state": {
      "_model_module": "@jupyter-widgets/base",
      "_model_module_version": "1.2.0",
      "_model_name": "LayoutModel",
      "_view_count": null,
      "_view_module": "@jupyter-widgets/base",
      "_view_module_version": "1.2.0",
      "_view_name": "LayoutView",
      "align_content": null,
      "align_items": null,
      "align_self": null,
      "border": null,
      "bottom": null,
      "display": null,
      "flex": null,
      "flex_flow": null,
      "grid_area": null,
      "grid_auto_columns": null,
      "grid_auto_flow": null,
      "grid_auto_rows": null,
      "grid_column": null,
      "grid_gap": null,
      "grid_row": null,
      "grid_template_areas": null,
      "grid_template_columns": null,
      "grid_template_rows": null,
      "height": null,
      "justify_content": null,
      "justify_items": null,
      "left": null,
      "margin": null,
      "max_height": null,
      "max_width": null,
      "min_height": null,
      "min_width": null,
      "object_fit": null,
      "object_position": null,
      "order": null,
      "overflow": null,
      "overflow_x": null,
      "overflow_y": null,
      "padding": null,
      "right": null,
      "top": null,
      "visibility": null,
      "width": null
     }
    },
    "cb628ece9a284b4785d376de1eef71b3": {
     "model_module": "@jupyter-widgets/controls",
     "model_module_version": "1.5.0",
     "model_name": "DescriptionStyleModel",
     "state": {
      "_model_module": "@jupyter-widgets/controls",
      "_model_module_version": "1.5.0",
      "_model_name": "DescriptionStyleModel",
      "_view_count": null,
      "_view_module": "@jupyter-widgets/base",
      "_view_module_version": "1.2.0",
      "_view_name": "StyleView",
      "description_width": ""
     }
    },
    "dc9c32987b784a838e1426e2552a637b": {
     "model_module": "@jupyter-widgets/base",
     "model_module_version": "1.2.0",
     "model_name": "LayoutModel",
     "state": {
      "_model_module": "@jupyter-widgets/base",
      "_model_module_version": "1.2.0",
      "_model_name": "LayoutModel",
      "_view_count": null,
      "_view_module": "@jupyter-widgets/base",
      "_view_module_version": "1.2.0",
      "_view_name": "LayoutView",
      "align_content": null,
      "align_items": null,
      "align_self": null,
      "border": null,
      "bottom": null,
      "display": null,
      "flex": null,
      "flex_flow": null,
      "grid_area": null,
      "grid_auto_columns": null,
      "grid_auto_flow": null,
      "grid_auto_rows": null,
      "grid_column": null,
      "grid_gap": null,
      "grid_row": null,
      "grid_template_areas": null,
      "grid_template_columns": null,
      "grid_template_rows": null,
      "height": null,
      "justify_content": null,
      "justify_items": null,
      "left": null,
      "margin": null,
      "max_height": null,
      "max_width": null,
      "min_height": null,
      "min_width": null,
      "object_fit": null,
      "object_position": null,
      "order": null,
      "overflow": null,
      "overflow_x": null,
      "overflow_y": null,
      "padding": null,
      "right": null,
      "top": null,
      "visibility": null,
      "width": null
     }
    },
    "e303ffb8d51f476094c828dc4cf5ce24": {
     "model_module": "@jupyter-widgets/controls",
     "model_module_version": "1.5.0",
     "model_name": "FloatProgressModel",
     "state": {
      "_dom_classes": [],
      "_model_module": "@jupyter-widgets/controls",
      "_model_module_version": "1.5.0",
      "_model_name": "FloatProgressModel",
      "_view_count": null,
      "_view_module": "@jupyter-widgets/controls",
      "_view_module_version": "1.5.0",
      "_view_name": "ProgressView",
      "bar_style": "success",
      "description": "",
      "description_tooltip": null,
      "layout": "IPY_MODEL_c501d911f813454f9cc2fb4c11545228",
      "max": 2460,
      "min": 0,
      "orientation": "horizontal",
      "style": "IPY_MODEL_fc98e8ac58fe4f13a187bacf4855fda5",
      "value": 2460
     }
    },
    "e5695b05ce794e748d98231e8c559ddc": {
     "model_module": "@jupyter-widgets/controls",
     "model_module_version": "1.5.0",
     "model_name": "HTMLModel",
     "state": {
      "_dom_classes": [],
      "_model_module": "@jupyter-widgets/controls",
      "_model_module_version": "1.5.0",
      "_model_name": "HTMLModel",
      "_view_count": null,
      "_view_module": "@jupyter-widgets/controls",
      "_view_module_version": "1.5.0",
      "_view_name": "HTMLView",
      "description": "",
      "description_tooltip": null,
      "layout": "IPY_MODEL_6ff156a628854b9a9129ad90346b7e5e",
      "placeholder": "​",
      "style": "IPY_MODEL_7c0bbd69bd39404abcbbd1f917082cd8",
      "value": " 1648/1648 [00:00&lt;00:00, 35100.56 examples/s]"
     }
    },
    "e938e617acb1474e918ff4a3908142ad": {
     "model_module": "@jupyter-widgets/controls",
     "model_module_version": "1.5.0",
     "model_name": "ProgressStyleModel",
     "state": {
      "_model_module": "@jupyter-widgets/controls",
      "_model_module_version": "1.5.0",
      "_model_name": "ProgressStyleModel",
      "_view_count": null,
      "_view_module": "@jupyter-widgets/base",
      "_view_module_version": "1.2.0",
      "_view_name": "StyleView",
      "bar_color": null,
      "description_width": ""
     }
    },
    "e986f77fe7184ccbbcc3f1b7b7f1e4d2": {
     "model_module": "@jupyter-widgets/controls",
     "model_module_version": "1.5.0",
     "model_name": "HTMLModel",
     "state": {
      "_dom_classes": [],
      "_model_module": "@jupyter-widgets/controls",
      "_model_module_version": "1.5.0",
      "_model_name": "HTMLModel",
      "_view_count": null,
      "_view_module": "@jupyter-widgets/controls",
      "_view_module_version": "1.5.0",
      "_view_name": "HTMLView",
      "description": "",
      "description_tooltip": null,
      "layout": "IPY_MODEL_b6f108c487284c4fba960e042e1f1bb6",
      "placeholder": "​",
      "style": "IPY_MODEL_bcdb05a005d3479eb9b2cd7acc17b36a",
      "value": "Map: 100%"
     }
    },
    "ec0b5a8643eb4f4b9a72ea316b05c101": {
     "model_module": "@jupyter-widgets/base",
     "model_module_version": "1.2.0",
     "model_name": "LayoutModel",
     "state": {
      "_model_module": "@jupyter-widgets/base",
      "_model_module_version": "1.2.0",
      "_model_name": "LayoutModel",
      "_view_count": null,
      "_view_module": "@jupyter-widgets/base",
      "_view_module_version": "1.2.0",
      "_view_name": "LayoutView",
      "align_content": null,
      "align_items": null,
      "align_self": null,
      "border": null,
      "bottom": null,
      "display": null,
      "flex": null,
      "flex_flow": null,
      "grid_area": null,
      "grid_auto_columns": null,
      "grid_auto_flow": null,
      "grid_auto_rows": null,
      "grid_column": null,
      "grid_gap": null,
      "grid_row": null,
      "grid_template_areas": null,
      "grid_template_columns": null,
      "grid_template_rows": null,
      "height": null,
      "justify_content": null,
      "justify_items": null,
      "left": null,
      "margin": null,
      "max_height": null,
      "max_width": null,
      "min_height": null,
      "min_width": null,
      "object_fit": null,
      "object_position": null,
      "order": null,
      "overflow": null,
      "overflow_x": null,
      "overflow_y": null,
      "padding": null,
      "right": null,
      "top": null,
      "visibility": null,
      "width": null
     }
    },
    "f0ba26b769664f0db1b146590a12a6a1": {
     "model_module": "@jupyter-widgets/base",
     "model_module_version": "1.2.0",
     "model_name": "LayoutModel",
     "state": {
      "_model_module": "@jupyter-widgets/base",
      "_model_module_version": "1.2.0",
      "_model_name": "LayoutModel",
      "_view_count": null,
      "_view_module": "@jupyter-widgets/base",
      "_view_module_version": "1.2.0",
      "_view_name": "LayoutView",
      "align_content": null,
      "align_items": null,
      "align_self": null,
      "border": null,
      "bottom": null,
      "display": null,
      "flex": null,
      "flex_flow": null,
      "grid_area": null,
      "grid_auto_columns": null,
      "grid_auto_flow": null,
      "grid_auto_rows": null,
      "grid_column": null,
      "grid_gap": null,
      "grid_row": null,
      "grid_template_areas": null,
      "grid_template_columns": null,
      "grid_template_rows": null,
      "height": null,
      "justify_content": null,
      "justify_items": null,
      "left": null,
      "margin": null,
      "max_height": null,
      "max_width": null,
      "min_height": null,
      "min_width": null,
      "object_fit": null,
      "object_position": null,
      "order": null,
      "overflow": null,
      "overflow_x": null,
      "overflow_y": null,
      "padding": null,
      "right": null,
      "top": null,
      "visibility": null,
      "width": null
     }
    },
    "f6939cf825a642aea3f7f30b568f7dc5": {
     "model_module": "@jupyter-widgets/controls",
     "model_module_version": "1.5.0",
     "model_name": "DescriptionStyleModel",
     "state": {
      "_model_module": "@jupyter-widgets/controls",
      "_model_module_version": "1.5.0",
      "_model_name": "DescriptionStyleModel",
      "_view_count": null,
      "_view_module": "@jupyter-widgets/base",
      "_view_module_version": "1.2.0",
      "_view_name": "StyleView",
      "description_width": ""
     }
    },
    "fc98e8ac58fe4f13a187bacf4855fda5": {
     "model_module": "@jupyter-widgets/controls",
     "model_module_version": "1.5.0",
     "model_name": "ProgressStyleModel",
     "state": {
      "_model_module": "@jupyter-widgets/controls",
      "_model_module_version": "1.5.0",
      "_model_name": "ProgressStyleModel",
      "_view_count": null,
      "_view_module": "@jupyter-widgets/base",
      "_view_module_version": "1.2.0",
      "_view_name": "StyleView",
      "bar_color": null,
      "description_width": ""
     }
    }
   }
  }
 },
 "nbformat": 4,
 "nbformat_minor": 0
}
