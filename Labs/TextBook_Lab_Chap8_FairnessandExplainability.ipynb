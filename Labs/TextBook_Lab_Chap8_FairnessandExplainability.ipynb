{
 "cells": [
  {
   "cell_type": "markdown",
   "id": "0b9f6a03",
   "metadata": {
    "id": "0b9f6a03"
   },
   "source": [
    "#  Fairness and Explainability\n",
    "This lab is divided into two parts.\n",
    "1. Fairness: We will assess the fairness of a credit scoring model\n",
    "2. Explainability: We will use the 'shap' library to generate explanations for the language model in the lab for Chapter 3.\n",
    "\n",
    "The two parts are independent meaining that the imports and code from one are not necessary to run the other.\n",
    "We start with fairness\n"
   ]
  },
  {
   "cell_type": "markdown",
   "id": "bf2408f5",
   "metadata": {
    "id": "bf2408f5"
   },
   "source": [
    "## Part 1: Fairness\n",
    "\n",
    "We start by importing necessary libraries and functions."
   ]
  },
  {
   "cell_type": "code",
   "execution_count": null,
   "id": "1d5feebd",
   "metadata": {
    "id": "1d5feebd"
   },
   "outputs": [],
   "source": [
    "import numpy as np\n",
    "import pandas as pd\n",
    "\n",
    "import fairlearn\n",
    "# Plots\n",
    "import matplotlib.pyplot as plt\n",
    "import seaborn as sns\n",
    "from IPython.display import Image\n",
    "%matplotlib inline\n",
    "\n",
    "from functools import partial\n",
    "\n",
    "import fairlearn\n",
    "from fairlearn.metrics import (\n",
    "    MetricFrame,\n",
    "    count,\n",
    "    equalized_odds_difference,\n",
    "    false_negative_rate,\n",
    "    false_positive_rate,\n",
    "    true_negative_rate,\n",
    "    true_positive_rate,\n",
    "    selection_rate,\n",
    ")\n",
    "\n",
    "from sklearn.metrics import accuracy_score, precision_score\n"
   ]
  },
  {
   "cell_type": "markdown",
   "id": "a86e9789",
   "metadata": {
    "id": "a86e9789"
   },
   "source": [
    "In this section we will focus on assesing fairness of a credit scoring model.\n",
    "For this exercise we are going to assume we have already trained the model using variables such as income, credit score and interest rates. The target variable as two values that is, non-default, indicated by 0, and default, inidcated by 1.\n",
    "\n",
    "We are interested to know if this credit scoring model discriminates agains the sensitive attribute which is one of the variables. This variable is a proxy for race, so in essence we are measuring fairness with respect to the race of the people applying for credit.\n",
    "Race is a protected characteristic by law and can therefore not be used when training the model. There may however be hidden confounding variables, which make the model unfair. Our goal is to assess this.\n",
    "\n",
    "A dataset containing the neccessary information has been prepared\n",
    "\n",
    "We start by reading in the dataset, which contains four variables:\n",
    "- 'true_label': This it the ground truth label, that is, whether the customer defaulted or not.\n",
    "- Predicted label: The label which the model predicts: 'predicted_label'\n",
    "- 'predicted_probability'.  The probability of default predicted by the model. This is a number between 0 and 1.\n",
    "- 'sensitive_attribute': The sensitive attribute in the dataset which we want to study from the perspective of fairness. This variable has four levels\n",
    "  - 'a'\n",
    "  - 'b'\n",
    "  - 'c'\n",
    "  - 'd'   \n",
    "\n",
    "Note that the dataset was created for this exercise using mortgages with majorities from different ethnic profiles, using the first three digits of the postcode and census information.\n",
    "This should not be considered a representative sample of those sectors. It is an illustrative example of the techniques and methods, not a showcase of differences in these places.\n",
    "\n",
    "We start by reading in and inspecting the dataset."
   ]
  },
  {
   "cell_type": "code",
   "execution_count": null,
   "id": "9d662f17",
   "metadata": {
    "id": "9d662f17",
    "outputId": "2b9e6435-592f-46cc-f818-f37165d24973"
   },
   "outputs": [],
   "source": [
    "# Read in the data\n",
    "fairness_df=pd.read_csv('FairnessDataFrame.csv')\n",
    "fairness_df.describe()"
   ]
  },
  {
   "cell_type": "markdown",
   "id": "fc4b8964",
   "metadata": {
    "id": "fc4b8964"
   },
   "source": [
    "We look at the distribution of the groups in the sensitive attribute. The barplot below shows that most people belong to group 'b', followed by group 'c' and then 'a' and 'd' which have similar counts.\n",
    "We also calculate the default rate per group and see that group 'b' has the highest default rate and gorup 'c' the lowest, whereas groups 'a' and 'd' are similar."
   ]
  },
  {
   "cell_type": "code",
   "execution_count": null,
   "id": "312a5acd",
   "metadata": {
    "id": "312a5acd",
    "outputId": "1da72257-360d-439e-ec17-298112cf6583"
   },
   "outputs": [],
   "source": [
    "counts = fairness_df.groupby(['sensitive_attribute', 'true_label']).size().unstack(fill_value=0)\n",
    "counts.plot(kind='bar', stacked=False, color=['dimgray', 'darkgrey'])\n",
    "plt.xlabel('Sensitive Attribute')\n",
    "plt.ylabel('Count')\n",
    "plt.title('Counts of True Label by Sensitive Attribute')\n",
    "plt.legend(title='True Label')\n",
    "plt.show()\n",
    "percentage_1 = counts[1] / (counts[0] + counts[1]) * 100\n",
    "print(percentage_1)"
   ]
  },
  {
   "cell_type": "markdown",
   "id": "e3d8e0ca",
   "metadata": {
    "id": "e3d8e0ca"
   },
   "source": [
    "Our next task is to explore the predictions made by the model for the four groups in our dataset.\n",
    "For our analysis we are using the fairlearn library which allows us to inspect, measure and correct for fairness.\n",
    "\n",
    "We start by creating a metrics dictionary listing all the metrics we want to use. This can be expanded and customized at will. Although fairlearn has many built in metrics, we need to import some additional ones from sci-kit learn.\n",
    "\n",
    "Then we create a MetricFrame object indicating what metrics to use, and which variables for the true and predicted label and the sensitive feature. This object can be called in different ways to explore overall metrics, metrics by group as well as differences by group.\n",
    "\n",
    "In our exploration, we plot the per-group measures for each metric."
   ]
  },
  {
   "cell_type": "code",
   "execution_count": null,
   "id": "6268c632",
   "metadata": {
    "id": "6268c632",
    "outputId": "ca02c907-91d9-4a1d-8169-2a4225f4ca1e"
   },
   "outputs": [],
   "source": [
    "metrics = {\n",
    "    \"Count\": count,\n",
    "    \"Accuracy\": accuracy_score,\n",
    "    \"Selection rate\": selection_rate,\n",
    "    \"Precision\": precision_score,\n",
    "    \"True positive rate\": true_positive_rate,\n",
    "    \"True negative rate\": true_negative_rate,\n",
    "    \"False positive rate\": false_positive_rate,\n",
    "    \"False negative rate\": false_negative_rate,\n",
    "\n",
    "}\n",
    "metric_frame = MetricFrame(\n",
    "    metrics=metrics, y_true=fairness_df['true_label'], y_pred=fairness_df['predicted_label'], sensitive_features=fairness_df['sensitive_attribute']\n",
    ")\n",
    "metric_frame.by_group.plot.bar(\n",
    "    subplots=True,\n",
    "    layout=[2, 4],\n",
    "    legend=False,\n",
    "    figsize=[12, 8],\n",
    "    color='darkgrey'\n",
    ")"
   ]
  },
  {
   "cell_type": "markdown",
   "id": "89c99f79",
   "metadata": {
    "id": "89c99f79"
   },
   "source": [
    "Looking at these plots, we can see some differences between the groups:\n",
    "\n",
    "* Count: Groups 'a' and 'd' are the smallest, followed by 'c' and 'b' which has the most people.\n",
    "* Accuracy: all gorups have similar accuracy although group 'c' is notably higher.  \n",
    "* Selection rate: This is the fraction of observations per group which the model predicts as default. Here we notice a clear descrepancy. Notably group 'c' has the lowest selection rate, meaning that the model is less likley to predict default for the people in this group. Groups 'a' and 'b' have the highest selection rate.  This measure is relevant for assessing the independence criteria.\n",
    "* Precision: This is the positive predicted value. Group 'b' has the highest value, followed by 'd', 'a' and 'c'. This measure is relevant for assessing the sufficiency criteria.\n",
    "* True positive rate: This is the recall. Group 'b' has the highest value and the other three all have similar values. This measure is relevant for assessing the separation criteria.\n",
    "* True negative rate: This is the specificity. All groups have very similar values.\n",
    "* False positive rate: This is also the type I error. Group 'c' has the lowest value and group 'd' the second lowest value. Groups 'a' and 'b' have the highest values. This measure is relevant for assessing the separation criteria.\n",
    "* False negative rate: This is also the type II error. Group 'c' has the highest value and group 'b' the lowest value. Groups 'a' and 'd' have similar values.\n",
    "\n",
    "We can also inspect the dataframe to get summary statistics about the differences, ratio, group minimum and maximum as follows.\n",
    "\n"
   ]
  },
  {
   "cell_type": "code",
   "execution_count": null,
   "id": "0d7361d2",
   "metadata": {
    "id": "0d7361d2",
    "outputId": "b9363cf8-4603-4a95-ea74-5af3f1207dcf"
   },
   "outputs": [],
   "source": [
    "pd.DataFrame({'difference': metric_frame.difference(),\n",
    "              'ratio': metric_frame.ratio(),\n",
    "              'group_min': metric_frame.group_min(),\n",
    "              'group_max': metric_frame.group_max()}).T"
   ]
  },
  {
   "cell_type": "code",
   "execution_count": null,
   "id": "d0618726",
   "metadata": {
    "id": "d0618726",
    "outputId": "ff0813fa-5595-4b02-93f3-954bcf95c370"
   },
   "outputs": [],
   "source": [
    "0.23/0.29"
   ]
  },
  {
   "cell_type": "markdown",
   "id": "74774abb",
   "metadata": {
    "id": "74774abb"
   },
   "source": [
    "Lets look more closely at the 3 fairness criteria.\n",
    "\n",
    "### Independence\n",
    "To assess the level of indepenece of the sensitive attribute in the model we measure the demopgraphic parity.\n",
    "\n",
    "First we measure the difference and then the ratio using the specialized methods in the fairlearn library.\n"
   ]
  },
  {
   "cell_type": "code",
   "execution_count": null,
   "id": "9990ecd0",
   "metadata": {
    "id": "9990ecd0",
    "outputId": "e0163cec-ac78-4a96-e53d-621cc1487311"
   },
   "outputs": [],
   "source": [
    "from fairlearn.metrics import demographic_parity_difference\n",
    "from fairlearn.metrics import demographic_parity_ratio\n",
    "\n",
    "\n",
    "DPD = demographic_parity_difference(y_true=fairness_df['true_label'],\n",
    "                               y_pred=fairness_df['predicted_label'],\n",
    "                                sensitive_features=fairness_df['sensitive_attribute'],\n",
    "                                method=\"between_groups\")\n",
    "\n",
    "DPR = demographic_parity_ratio(y_true=fairness_df['true_label'],\n",
    "                               y_pred=fairness_df['predicted_label'],\n",
    "                                sensitive_features=fairness_df['sensitive_attribute'],\n",
    "                                method='between_groups')\n",
    "\n",
    "print(f'Demographic parity difference: {DPD:.3f}')\n",
    "print(f'Demographic parity ratio: {DPR:.3f}')"
   ]
  },
  {
   "cell_type": "markdown",
   "id": "ad8968b0",
   "metadata": {
    "id": "ad8968b0"
   },
   "source": [
    "We see some slight evidence of demographic parity, as the DPD is greater than 0 and DPR is less than 1."
   ]
  },
  {
   "cell_type": "markdown",
   "id": "3e4dde87",
   "metadata": {
    "id": "3e4dde87"
   },
   "source": [
    "### Separation\n",
    "Next we measure the separation using equalized odds and equal opportunity.\n",
    "\n",
    "Equalized odds looks at both false positive and true positive rates, and we can compute their difference and ratio."
   ]
  },
  {
   "cell_type": "code",
   "execution_count": null,
   "id": "35482186",
   "metadata": {
    "id": "35482186",
    "outputId": "a70c1384-bd27-48b5-b039-d9d794ea5bea"
   },
   "outputs": [],
   "source": [
    "from fairlearn.metrics import equalized_odds_difference\n",
    "from fairlearn.metrics import equalized_odds_ratio\n",
    "\n",
    "EOD=equalized_odds_difference(y_true=fairness_df['true_label'],\n",
    "                               y_pred=fairness_df['predicted_label'],\n",
    "                                sensitive_features=fairness_df['sensitive_attribute'],\n",
    "                                method=\"between_groups\")\n",
    "\n",
    "EOR=equalized_odds_ratio(y_true=fairness_df['true_label'],\n",
    "                               y_pred=fairness_df['predicted_label'],\n",
    "                                sensitive_features=fairness_df['sensitive_attribute'],\n",
    "                                method=\"between_groups\")\n",
    "\n",
    "print(f'Equalized odds difference: {EOD:.3f}')\n",
    "print(f'Equalized odds ratio: {EOR:.3f}')"
   ]
  },
  {
   "cell_type": "markdown",
   "id": "93f97cf3",
   "metadata": {
    "id": "93f97cf3"
   },
   "source": [
    "Again, we see slight evidence of unfairness.\n",
    "\n",
    "Equal opportunity is based on the true positive rate only. We compute their difference and ratio."
   ]
  },
  {
   "cell_type": "code",
   "execution_count": null,
   "id": "214ed0c6",
   "metadata": {
    "id": "214ed0c6",
    "outputId": "456c348d-432e-4cb9-e8cf-285f1fbdab85"
   },
   "outputs": [],
   "source": [
    "from fairlearn.metrics import equal_opportunity_difference\n",
    "from fairlearn.metrics import equal_opportunity_ratio\n",
    "\n",
    "EOpD=equal_opportunity_difference(y_true=fairness_df['true_label'],\n",
    "                               y_pred=fairness_df['predicted_label'],\n",
    "                                sensitive_features=fairness_df['sensitive_attribute'],\n",
    "                                method=\"between_groups\")\n",
    "\n",
    "EOpR=equal_opportunity_ratio(y_true=fairness_df['true_label'],\n",
    "                               y_pred=fairness_df['predicted_label'],\n",
    "                                sensitive_features=fairness_df['sensitive_attribute'],\n",
    "                                method=\"between_groups\")\n",
    "print(f'Equal opportunity difference: {EOpD:.3f}')\n",
    "print(f'Equa opportunity ratio: {EOpR:.3f}')"
   ]
  },
  {
   "cell_type": "markdown",
   "id": "a9ba4e2b",
   "metadata": {
    "id": "a9ba4e2b"
   },
   "source": [
    "The results are very similar.\n",
    "\n",
    "\n",
    "#### ROC analysis of separation\n",
    "By plotting a ROC curve per group we can visally inspect the level of separation in the dataset."
   ]
  },
  {
   "cell_type": "code",
   "execution_count": null,
   "id": "717e0503",
   "metadata": {
    "id": "717e0503",
    "outputId": "0bd8924f-701b-4e7e-ff47-ee7697b8c411"
   },
   "outputs": [],
   "source": [
    "from sklearn.metrics import roc_curve, auc\n",
    "plt.figure(figsize=(12, 8))\n",
    "\n",
    "groups = ['a','b','c','d']\n",
    "line_styles = ['-', '--', '-.', ':']\n",
    "line_color=['dimgray','gray','darkgrey','black'] # Different dash styles for each group\n",
    "\n",
    "for i, r in enumerate(groups):\n",
    "    indices = fairness_df['sensitive_attribute'] == r\n",
    "    y_true = fairness_df['true_label'][indices]\n",
    "    y_pred = fairness_df['predicted_probability'][indices]\n",
    "    fpr, tpr, _ = roc_curve(y_true, y_pred)\n",
    "    roc_auc = auc(fpr, tpr)\n",
    "    plt.plot(fpr, tpr, color=line_color[i % len(line_color)], linestyle=line_styles[i % len(line_styles)], label=f'Group {r} (AUC = {roc_auc:.3f})')\n",
    "\n",
    "plt.plot([0, 1], [0, 1], 'k--', lw=2)\n",
    "plt.xlabel('False Positive Rate')\n",
    "plt.ylabel('True Positive Rate')\n",
    "plt.title('ROC Curve by Group')\n",
    "plt.legend(loc='lower right')\n",
    "plt.grid()\n",
    "plt.show()"
   ]
  },
  {
   "cell_type": "markdown",
   "id": "f388f67d",
   "metadata": {
    "id": "f388f67d"
   },
   "source": [
    "By shading the are that is under all the curves shows the feasible region where seperation could be achieved."
   ]
  },
  {
   "cell_type": "code",
   "execution_count": null,
   "id": "19e2e3de",
   "metadata": {
    "id": "19e2e3de",
    "outputId": "8e1dd974-3902-4fef-d3dd-d1c672a0e3b2"
   },
   "outputs": [],
   "source": [
    "plt.figure(figsize=(12, 8))\n",
    "\n",
    "roc_curves = []\n",
    "\n",
    "groups = ['a','b','c','d']\n",
    "line_styles = ['-', '--', '-.', ':']\n",
    "line_color=['dimgray','gray','darkgrey','black']\n",
    "\n",
    "for i,r in enumerate(groups):\n",
    "    indices = fairness_df['sensitive_attribute'] == r\n",
    "    y_true = fairness_df['true_label'][indices]\n",
    "    y_pred = fairness_df['predicted_probability'][indices]\n",
    "    fpr, tpr, _ = roc_curve(y_true, y_pred)\n",
    "    roc_auc = auc(fpr, tpr)\n",
    "    plt.plot(fpr, tpr, color=line_color[i % len(line_color)], linestyle=line_styles[i % len(line_styles)],label=f'Group {r} (AUC = {roc_auc:.3f})')\n",
    "    roc_curves.append((fpr, tpr))\n",
    "\n",
    "\n",
    "common_fpr = np.linspace(0, 1, 500)\n",
    "interp_tprs = [np.interp(common_fpr, fpr, tpr) for fpr, tpr in roc_curves]\n",
    "min_tpr = np.min(interp_tprs, axis=0)\n",
    "\n",
    "plt.fill_between(common_fpr, min_tpr, color='gainsboro', alpha=0.5, label='Feasible Area')\n",
    "\n",
    "plt.plot([0, 1], [0, 1], 'k--', lw=2)\n",
    "plt.xlabel('False Positive Rate')\n",
    "plt.ylabel('True Positive Rate')\n",
    "plt.title('ROC Curve by Group with Intersection Area Shaded')\n",
    "plt.legend(loc='lower right')\n",
    "plt.grid()\n",
    "plt.show()"
   ]
  },
  {
   "cell_type": "markdown",
   "id": "ed5e73d9",
   "metadata": {
    "id": "ed5e73d9"
   },
   "source": [
    "### Sufficiency\n",
    "Sufficiency requires independence between the sensitive attribute and the target variable, in the sense that people who get the same decision by the model have parity regardless of which group of $A$ they belong to.\n",
    "\n",
    "We assess sufficiecny by measuring the predictive rate parity which takes into account the precision of the models per group of the sensitive feature. We already have this measure in our dataframe.\n",
    "\n",
    "We see in the output below that the predictive reate parity close to 0, meaning that in this regard the model fullfills the sufficiency fairness criteria."
   ]
  },
  {
   "cell_type": "code",
   "execution_count": null,
   "id": "c4fe5a60",
   "metadata": {
    "id": "c4fe5a60",
    "outputId": "3f9577c5-683c-4dd6-b2e3-aac1b5874fdf"
   },
   "outputs": [],
   "source": [
    "metric_frame.difference()"
   ]
  },
  {
   "cell_type": "markdown",
   "id": "5fe0ce58",
   "metadata": {
    "id": "5fe0ce58"
   },
   "source": [
    "### Summary"
   ]
  },
  {
   "cell_type": "markdown",
   "id": "9e877fbf",
   "metadata": {
    "id": "9e877fbf"
   },
   "source": [
    "### Explainability\n",
    "To create the plots in the book\n"
   ]
  },
  {
   "cell_type": "code",
   "execution_count": null,
   "id": "RE5QopHq_RiW",
   "metadata": {
    "id": "RE5QopHq_RiW"
   },
   "outputs": [],
   "source": [
    "%%Generated\n",
    "\n",
    "This chapter focuses on the critical topic of model explainability in the context of financial text analysis, demonstrating how to interpret the predictions of a sophisticated transformer model. Building on the previous chapter's case study, the notebook utilizes a pre-trained DistilBERT model that classifies Federal Reserve speeches as indicative of economic expansion or contraction. The primary goal is to move beyond \"black box\" predictions and provide actionable insights into why the model makes a particular decision. This is achieved through the implementation of SHAP (SHapley Additive exPlanations), a state-of-the-art, game-theoretic approach to explainable AI that assigns an importance value to each feature (in this case, words or tokens) for a given prediction.\n",
    "\n",
    "The notebook guides the user through the process of loading the fine-tuned classification model and a new set of recent, unseen Federal Reserve speeches. It then sets up a SHAP Explainer using the model's prediction pipeline. The core of the lab involves generating SHAP values for these new speeches to understand which specific words or phrases contributed most significantly to the model's output. The chapter culminates in the visualization of these explanations, using SHAP's text and bar plots to highlight the tokens that either support or oppose the predicted economic outcome. This hands-on application of XAI (Explainable AI) not only reinforces the principles of responsible AI development but also aligns with the Banking Analytics Lab's commitment to providing transparent and rigorous data-driven solutions for the financial industry.\n"
   ]
  },
  {
   "cell_type": "code",
   "execution_count": null,
   "id": "609dcc8b",
   "metadata": {
    "id": "609dcc8b"
   },
   "outputs": [],
   "source": [
    "# Imports\n",
    "import numpy as np\n",
    "import os\n",
    "import pandas as pd\n",
    "import random\n",
    "import shap\n",
    "\n",
    "# Plots\n",
    "import matplotlib.pyplot as plt\n",
    "import seaborn as sns\n",
    "from IPython.display import Image\n",
    "%matplotlib inline\n",
    "\n",
    "# Huggingface\n",
    "import transformers\n",
    "from transformers import AutoTokenizer, DataCollatorWithPadding\n",
    "from transformers import AutoModelForSequenceClassification, TrainingArguments, Trainer\n",
    "from transformers.pipelines import pipeline\n",
    "from transformers import set_seed\n",
    "from datasets import load_dataset, Dataset, Value, ClassLabel, Features, load_from_disk\n",
    "#import evaluate"
   ]
  },
  {
   "cell_type": "code",
   "execution_count": null,
   "id": "1bJaccYkIWk_",
   "metadata": {
    "colab": {
     "base_uri": "https://localhost:8080/"
    },
    "executionInfo": {
     "elapsed": 4220,
     "status": "ok",
     "timestamp": 1750087950427,
     "user": {
      "displayName": "maria o",
      "userId": "14559055457260879083"
     },
     "user_tz": -120
    },
    "id": "1bJaccYkIWk_",
    "outputId": "fe2c76af-66b2-4f53-817d-b1ca91f566f1"
   },
   "outputs": [],
   "source": [
    "!gdown --id \"1_KqbURS8BVRck9mj4DXjuRbD9SJIuz5r\""
   ]
  },
  {
   "cell_type": "code",
   "execution_count": null,
   "id": "4k8fM4MlOrxH",
   "metadata": {
    "colab": {
     "base_uri": "https://localhost:8080/"
    },
    "executionInfo": {
     "elapsed": 5547,
     "status": "ok",
     "timestamp": 1750087965825,
     "user": {
      "displayName": "maria o",
      "userId": "14559055457260879083"
     },
     "user_tz": -120
    },
    "id": "4k8fM4MlOrxH",
    "outputId": "e65c60a0-7f3a-45e4-bc65-77a160c34670"
   },
   "outputs": [],
   "source": [
    "!gdown --id '1ps8vhnNrMFyNbhLtO79UbsNEpiNZesEd'"
   ]
  },
  {
   "cell_type": "code",
   "execution_count": null,
   "id": "KZKNvO7bPCF0",
   "metadata": {
    "colab": {
     "base_uri": "https://localhost:8080/"
    },
    "id": "KZKNvO7bPCF0",
    "outputId": "645d61de-7fa3-4ca0-c4de-3d5bdb5ff398"
   },
   "outputs": [],
   "source": [
    "!unzip '/content/FEDSppechModel.zip'"
   ]
  },
  {
   "cell_type": "code",
   "execution_count": null,
   "id": "vO_MdLNpPvBj",
   "metadata": {
    "colab": {
     "base_uri": "https://localhost:8080/"
    },
    "executionInfo": {
     "elapsed": 20635,
     "status": "ok",
     "timestamp": 1750088092494,
     "user": {
      "displayName": "maria o",
      "userId": "14559055457260879083"
     },
     "user_tz": -120
    },
    "id": "vO_MdLNpPvBj",
    "outputId": "8d03b6c7-74c3-4826-beaf-c2884d369223"
   },
   "outputs": [],
   "source": [
    "!gdown --id '1cqnUWh84nbbwfkcEfUGyPztWOtIeqOEf'"
   ]
  },
  {
   "cell_type": "code",
   "execution_count": null,
   "id": "OFnFhcmuP1GQ",
   "metadata": {
    "colab": {
     "base_uri": "https://localhost:8080/"
    },
    "executionInfo": {
     "elapsed": 382,
     "status": "ok",
     "timestamp": 1750088092870,
     "user": {
      "displayName": "maria o",
      "userId": "14559055457260879083"
     },
     "user_tz": -120
    },
    "id": "OFnFhcmuP1GQ",
    "outputId": "447a6871-7069-4a9d-bf48-9e7462f4ed52"
   },
   "outputs": [],
   "source": [
    "!unzip '/content/TokenizedData.zip'"
   ]
  },
  {
   "cell_type": "code",
   "execution_count": null,
   "id": "2fc279d3",
   "metadata": {
    "colab": {
     "base_uri": "https://localhost:8080/",
     "height": 210
    },
    "executionInfo": {
     "elapsed": 402,
     "status": "ok",
     "timestamp": 1750088097821,
     "user": {
      "displayName": "maria o",
      "userId": "14559055457260879083"
     },
     "user_tz": -120
    },
    "id": "2fc279d3",
    "outputId": "273c7588-cca6-4703-9a01-92ac3b26b636"
   },
   "outputs": [],
   "source": [
    "FEDspeechesSHAP = pd.read_csv('/content/FEDSpeechesSHAP.csv')\n",
    "FEDspeechesSHAP.head()"
   ]
  },
  {
   "cell_type": "code",
   "execution_count": null,
   "id": "f4ad22c1",
   "metadata": {
    "colab": {
     "base_uri": "https://localhost:8080/"
    },
    "executionInfo": {
     "elapsed": 12,
     "status": "ok",
     "timestamp": 1750088100109,
     "user": {
      "displayName": "maria o",
      "userId": "14559055457260879083"
     },
     "user_tz": -120
    },
    "id": "f4ad22c1",
    "outputId": "4e82abc7-ece7-4e09-80ac-c76a3999d1e6"
   },
   "outputs": [],
   "source": [
    "\n",
    "speech1 = FEDspeechesSHAP.iloc[0]['text_cleaned']\n",
    "speech2 = FEDspeechesSHAP.iloc[1]['text_cleaned']\n",
    "speech3 = FEDspeechesSHAP.iloc[2]['text_cleaned']\n",
    "\n",
    "print(len(speech1))\n",
    "print(len(speech2))\n",
    "print(len(speech3))"
   ]
  },
  {
   "cell_type": "code",
   "execution_count": null,
   "id": "15ae864a",
   "metadata": {
    "colab": {
     "base_uri": "https://localhost:8080/"
    },
    "executionInfo": {
     "elapsed": 47,
     "status": "ok",
     "timestamp": 1750088103745,
     "user": {
      "displayName": "maria o",
      "userId": "14559055457260879083"
     },
     "user_tz": -120
    },
    "id": "15ae864a",
    "outputId": "acd712f8-7115-4881-e1d1-1adc7e2a158a"
   },
   "outputs": [],
   "source": [
    "# Create the dataset\n",
    "fed_speech_data = Dataset.from_pandas(FEDspeechesSHAP.loc[:,['text_cleaned']])\n",
    "fed_speech_data"
   ]
  },
  {
   "cell_type": "code",
   "execution_count": null,
   "id": "d9d61443",
   "metadata": {
    "colab": {
     "base_uri": "https://localhost:8080/",
     "height": 265,
     "referenced_widgets": [
      "b9fc331660974be69a2c24317759914b",
      "a519f8dab61c43788e44af258bdb4b5d",
      "0234ab287cf24e99ba5cbb4821d15c30",
      "b16828e50fbe4c7dac74b7e56357d8a8",
      "eacb88f42be741b3b09f502cb1232bfc",
      "18a90d6bcec04d239c78221bfc8a9fb9",
      "064fcc2465094bcfa0b1663de5df7f90",
      "70057c19dda34fedbfbaf6fb254867fe",
      "d9c45b3bd64e45c18c62d25319cfa232",
      "ecc8b673ca7747b4a4e757cbec1f4378",
      "9655804677bd4a28a8edf91d5bff3512",
      "537a3365e8824dadbaa0cb4bf875bb43",
      "0aac975cae114df995bdaff9bd93fdff",
      "97d1936df501483b8a057d3e6513d465",
      "0daf5f2893174cbd8df0469a529cb7ee",
      "a4e9be2067224c5e91acd4ea1b3b07c2",
      "ccbc3ab20d804a55bf3ef4a1a326b0a3",
      "f08ddab978a949de996df9772d705a9e",
      "b1073fe6b68744a892bee580932e9e1c",
      "5861d48fee174e1db5f37578ac8f1f03",
      "ac0e76d4fe3349eb89b6cd1c2fec47e4",
      "3bda6169450b43faa50c72c6d59e2aee",
      "e397f1f2e4374a5b80757d74d69c5536",
      "5f149370db694b40a871537f27414d27",
      "090d74cb93dc481c874daffd4fb32ad9",
      "a79aec373417483383d64831a8c3a1b9",
      "3d267608f0684f04ac1a95735e863192",
      "66b84c39ebeb44c0bd8b364e530b5679",
      "4d56f20f9ba541229a088a599e28389e",
      "39a0eaa7b04b45a087627bc493f3e3cc",
      "39d8bfcc8d5c42ea9706cfcec4675569",
      "c200409b0aad415c897c30f0ad32bb87",
      "7e015468510b4d02bd29ed85b9e4ad67",
      "4c3ef1c2d323437a8233c3fee8b40e77",
      "9701aad451a047538009c6951d163b44",
      "64ad213de7bc46f69087815458af2cb1",
      "508fd1be74174f68b33f26dff1499919",
      "668ba9035ad340abba4ab70fecfbfbae",
      "0f1c6125c6a9447987c986b75e9b684c",
      "6837920efb5743d78697a2433d3bea13",
      "eda6b18060264cdfbde95c85293f64c5",
      "b20a20529bae43979b75f1d33a6dc861",
      "0116190f58a543ab999bfbc0bdf1ee13",
      "c410da6f715f4874a6529283dcbbca3f"
     ]
    },
    "executionInfo": {
     "elapsed": 1193,
     "status": "ok",
     "timestamp": 1750088109095,
     "user": {
      "displayName": "maria o",
      "userId": "14559055457260879083"
     },
     "user_tz": -120
    },
    "id": "d9d61443",
    "outputId": "c2e9d6d5-99dc-4b61-c859-002c6a8148ee"
   },
   "outputs": [],
   "source": [
    "tokenizer = AutoTokenizer.from_pretrained(\"distilbert-base-uncased\",  processing_class=True)"
   ]
  },
  {
   "cell_type": "code",
   "execution_count": null,
   "id": "32aadca1",
   "metadata": {
    "id": "32aadca1"
   },
   "outputs": [],
   "source": [
    "def preprocess_function(examples):\n",
    "    return tokenizer(examples[\"text_cleaned\"], max_length=512, truncation=True)\n",
    "\n",
    "\n"
   ]
  },
  {
   "cell_type": "code",
   "execution_count": null,
   "id": "9cf26676",
   "metadata": {
    "colab": {
     "base_uri": "https://localhost:8080/",
     "height": 69,
     "referenced_widgets": [
      "ffcff1503fa549aa988d54d9a69c1d62",
      "b4320969e3ca40f6b7923aa9d74c98ec",
      "2e810d2d84ff42bda632267ecbc98592",
      "6c0f0d8f13ac4e4493dbb9b0685d0ae6",
      "71c9b50e3248481bb747c16c279a9bb7",
      "64cd9ae6f8a24572a2b8f6cabb8b24bd",
      "6d0855b157834a56b0521481fe1cdd15",
      "a362786d70774ece82a60a92c20c3be8",
      "7818ecc7985040c496775233757040c7",
      "9fdccc85914c4233b943a90a57a837f3",
      "71f76b554161469ca8bdc987ae0bc142"
     ]
    },
    "executionInfo": {
     "elapsed": 470,
     "status": "ok",
     "timestamp": 1750088306547,
     "user": {
      "displayName": "maria o",
      "userId": "14559055457260879083"
     },
     "user_tz": -120
    },
    "id": "9cf26676",
    "outputId": "79635363-f3d0-4e51-a675-ec97af4cd445"
   },
   "outputs": [],
   "source": [
    "tokenized_fed_speech_data = fed_speech_data.map(preprocess_function)"
   ]
  },
  {
   "cell_type": "code",
   "execution_count": null,
   "id": "2F5frS1ckKOa",
   "metadata": {
    "colab": {
     "base_uri": "https://localhost:8080/"
    },
    "executionInfo": {
     "elapsed": 23,
     "status": "ok",
     "timestamp": 1750088313358,
     "user": {
      "displayName": "maria o",
      "userId": "14559055457260879083"
     },
     "user_tz": -120
    },
    "id": "2F5frS1ckKOa",
    "outputId": "cdd5dcc3-d9a8-4b07-fe38-5cd3c106e2e6"
   },
   "outputs": [],
   "source": []
  },
  {
   "cell_type": "code",
   "execution_count": null,
   "id": "dd816e9e",
   "metadata": {
    "colab": {
     "base_uri": "https://localhost:8080/"
    },
    "executionInfo": {
     "elapsed": 512,
     "status": "ok",
     "timestamp": 1750088432010,
     "user": {
      "displayName": "maria o",
      "userId": "14559055457260879083"
     },
     "user_tz": -120
    },
    "id": "dd816e9e",
    "outputId": "c73eda96-3f49-47eb-80b8-86d304fe7e68"
   },
   "outputs": [],
   "source": [
    "pipe = transformers.pipelines.pipeline('text-classification', truncation= True,model='FEDSppechModel', tokenizer=tokenizer, top_k=None,\n",
    "                                  return_all_scores=True, device=0)\n"
   ]
  },
  {
   "cell_type": "code",
   "execution_count": null,
   "id": "10c21f29",
   "metadata": {
    "colab": {
     "base_uri": "https://localhost:8080/"
    },
    "executionInfo": {
     "elapsed": 2626,
     "status": "ok",
     "timestamp": 1750088435287,
     "user": {
      "displayName": "maria o",
      "userId": "14559055457260879083"
     },
     "user_tz": -120
    },
    "id": "10c21f29",
    "outputId": "1318876a-c009-4a71-a08c-2e3725a2798a"
   },
   "outputs": [],
   "source": [
    "pipe(tokenized_fed_speech_data['text_cleaned'])"
   ]
  },
  {
   "cell_type": "code",
   "execution_count": null,
   "id": "3eeabbc7",
   "metadata": {
    "id": "3eeabbc7"
   },
   "outputs": [],
   "source": [
    "explainer = shap.Explainer(pipe)"
   ]
  },
  {
   "cell_type": "code",
   "execution_count": null,
   "id": "9c6417a6",
   "metadata": {
    "colab": {
     "background_save": true,
     "base_uri": "https://localhost:8080/",
     "height": 71,
     "referenced_widgets": [
      "2f3a7add2f6e4f57a34444701644ec73",
      "d3eedca50ea741e09e3e497f3167ada2",
      "e6e7ec3e1b0248979ebde3134a3cdf4d",
      "16c350bcb5154b2dbba0352172628c46",
      "aa51d64576ad49c880c3a40361f72021",
      "3de603d4ed2b46b085a416dde2edeb1e",
      "db6ba3af5dd947b9aeff8180940b2f92",
      "466201f707714a13be44c5ee963d9ff9",
      "7e26789d084b4647b0f4e479a5d11236",
      "4862378cbc82417984abb08ad58cba06",
      "6adf88d6a22a47b4b65aa7bfdde00620",
      "0095b508db924225aa5865224c47c3e9",
      "84cd8cd79874402f9e19162b8be1b058",
      "8dd4784ca8fc4af099772d57995412ea",
      "e2b4897cd45941539147bb2bfd7c1b23",
      "3b77ab8ce9f04b1980d349e701dd2379",
      "840ceb12af274375b6931fced03fb07e",
      "59a0767d2ae842359fb4fc9e44e3c016",
      "a4b3f0e3670741ff9e48a69ba1608f76",
      "ef5bc930a81a4169b1e5596afdc0d1b1",
      "31d477e45bc645f9af840634fba6f6a3",
      "eb94241d6ba1488f96836875f5069574",
      "7f106fc7ccbc44089c6520201bbae480"
     ]
    },
    "id": "9c6417a6",
    "outputId": "c14f6494-3c9a-4135-f0cd-0d6d78ab61de"
   },
   "outputs": [],
   "source": [
    "shap_values=explainer(tokenized_fed_speech_data['text_cleaned'])"
   ]
  },
  {
   "cell_type": "code",
   "execution_count": null,
   "id": "cfdbd36d",
   "metadata": {
    "colab": {
     "base_uri": "https://localhost:8080/"
    },
    "executionInfo": {
     "elapsed": 16,
     "status": "ok",
     "timestamp": 1750080425971,
     "user": {
      "displayName": "maria o",
      "userId": "14559055457260879083"
     },
     "user_tz": -120
    },
    "id": "cfdbd36d",
    "outputId": "e2c5fb77-b21e-4ce5-943e-36b45b05e5bd"
   },
   "outputs": [],
   "source": [
    "shap_values.shape"
   ]
  },
  {
   "cell_type": "code",
   "execution_count": null,
   "id": "8e067d98",
   "metadata": {
    "colab": {
     "base_uri": "https://localhost:8080/",
     "height": 1000,
     "output_embedded_package_id": "1x7kwAddvF1k8sWvMg9PG659rWHlliWqS"
    },
    "executionInfo": {
     "elapsed": 8184,
     "status": "ok",
     "timestamp": 1750080435717,
     "user": {
      "displayName": "maria o",
      "userId": "14559055457260879083"
     },
     "user_tz": -120
    },
    "id": "8e067d98",
    "outputId": "b771f4cd-7d14-4e91-d16e-cf9c68214911"
   },
   "outputs": [],
   "source": [
    "shap.plots.text(shap_values)"
   ]
  },
  {
   "cell_type": "code",
   "execution_count": null,
   "id": "85999bef",
   "metadata": {
    "colab": {
     "base_uri": "https://localhost:8080/",
     "height": 761
    },
    "executionInfo": {
     "elapsed": 1893,
     "status": "ok",
     "timestamp": 1750080490767,
     "user": {
      "displayName": "maria o",
      "userId": "14559055457260879083"
     },
     "user_tz": -120
    },
    "id": "85999bef",
    "outputId": "35a4b8c1-581a-4819-d5d6-5198e9d13d60"
   },
   "outputs": [],
   "source": [
    "shap.plots.bar(shap_values[:,:,1].mean(0),order=shap.Explanation.argsort.flip, max_display=15)"
   ]
  }
 ],
 "metadata": {
  "colab": {
   "provenance": []
  },
  "kernelspec": {
   "display_name": ".venv",
   "language": "python",
   "name": "python3"
  },
  "language_info": {
   "codemirror_mode": {
    "name": "ipython",
    "version": 3
   },
   "file_extension": ".py",
   "mimetype": "text/x-python",
   "name": "python",
   "nbconvert_exporter": "python",
   "pygments_lexer": "ipython3",
   "version": "3.9.6"
  },
  "widgets": {
   "application/vnd.jupyter.widget-state+json": {
    "0095b508db924225aa5865224c47c3e9": {
     "model_module": "@jupyter-widgets/controls",
     "model_module_version": "1.5.0",
     "model_name": "HBoxModel",
     "state": {
      "_dom_classes": [],
      "_model_module": "@jupyter-widgets/controls",
      "_model_module_version": "1.5.0",
      "_model_name": "HBoxModel",
      "_view_count": null,
      "_view_module": "@jupyter-widgets/controls",
      "_view_module_version": "1.5.0",
      "_view_name": "HBoxView",
      "box_style": "",
      "children": [
       "IPY_MODEL_84cd8cd79874402f9e19162b8be1b058",
       "IPY_MODEL_8dd4784ca8fc4af099772d57995412ea",
       "IPY_MODEL_e2b4897cd45941539147bb2bfd7c1b23"
      ],
      "layout": "IPY_MODEL_3b77ab8ce9f04b1980d349e701dd2379"
     }
    },
    "0116190f58a543ab999bfbc0bdf1ee13": {
     "model_module": "@jupyter-widgets/base",
     "model_module_version": "1.2.0",
     "model_name": "LayoutModel",
     "state": {
      "_model_module": "@jupyter-widgets/base",
      "_model_module_version": "1.2.0",
      "_model_name": "LayoutModel",
      "_view_count": null,
      "_view_module": "@jupyter-widgets/base",
      "_view_module_version": "1.2.0",
      "_view_name": "LayoutView",
      "align_content": null,
      "align_items": null,
      "align_self": null,
      "border": null,
      "bottom": null,
      "display": null,
      "flex": null,
      "flex_flow": null,
      "grid_area": null,
      "grid_auto_columns": null,
      "grid_auto_flow": null,
      "grid_auto_rows": null,
      "grid_column": null,
      "grid_gap": null,
      "grid_row": null,
      "grid_template_areas": null,
      "grid_template_columns": null,
      "grid_template_rows": null,
      "height": null,
      "justify_content": null,
      "justify_items": null,
      "left": null,
      "margin": null,
      "max_height": null,
      "max_width": null,
      "min_height": null,
      "min_width": null,
      "object_fit": null,
      "object_position": null,
      "order": null,
      "overflow": null,
      "overflow_x": null,
      "overflow_y": null,
      "padding": null,
      "right": null,
      "top": null,
      "visibility": null,
      "width": null
     }
    },
    "0234ab287cf24e99ba5cbb4821d15c30": {
     "model_module": "@jupyter-widgets/controls",
     "model_module_version": "1.5.0",
     "model_name": "FloatProgressModel",
     "state": {
      "_dom_classes": [],
      "_model_module": "@jupyter-widgets/controls",
      "_model_module_version": "1.5.0",
      "_model_name": "FloatProgressModel",
      "_view_count": null,
      "_view_module": "@jupyter-widgets/controls",
      "_view_module_version": "1.5.0",
      "_view_name": "ProgressView",
      "bar_style": "success",
      "description": "",
      "description_tooltip": null,
      "layout": "IPY_MODEL_70057c19dda34fedbfbaf6fb254867fe",
      "max": 48,
      "min": 0,
      "orientation": "horizontal",
      "style": "IPY_MODEL_d9c45b3bd64e45c18c62d25319cfa232",
      "value": 48
     }
    },
    "064fcc2465094bcfa0b1663de5df7f90": {
     "model_module": "@jupyter-widgets/controls",
     "model_module_version": "1.5.0",
     "model_name": "DescriptionStyleModel",
     "state": {
      "_model_module": "@jupyter-widgets/controls",
      "_model_module_version": "1.5.0",
      "_model_name": "DescriptionStyleModel",
      "_view_count": null,
      "_view_module": "@jupyter-widgets/base",
      "_view_module_version": "1.2.0",
      "_view_name": "StyleView",
      "description_width": ""
     }
    },
    "090d74cb93dc481c874daffd4fb32ad9": {
     "model_module": "@jupyter-widgets/controls",
     "model_module_version": "1.5.0",
     "model_name": "FloatProgressModel",
     "state": {
      "_dom_classes": [],
      "_model_module": "@jupyter-widgets/controls",
      "_model_module_version": "1.5.0",
      "_model_name": "FloatProgressModel",
      "_view_count": null,
      "_view_module": "@jupyter-widgets/controls",
      "_view_module_version": "1.5.0",
      "_view_name": "ProgressView",
      "bar_style": "success",
      "description": "",
      "description_tooltip": null,
      "layout": "IPY_MODEL_39a0eaa7b04b45a087627bc493f3e3cc",
      "max": 231508,
      "min": 0,
      "orientation": "horizontal",
      "style": "IPY_MODEL_39d8bfcc8d5c42ea9706cfcec4675569",
      "value": 231508
     }
    },
    "0aac975cae114df995bdaff9bd93fdff": {
     "model_module": "@jupyter-widgets/controls",
     "model_module_version": "1.5.0",
     "model_name": "HTMLModel",
     "state": {
      "_dom_classes": [],
      "_model_module": "@jupyter-widgets/controls",
      "_model_module_version": "1.5.0",
      "_model_name": "HTMLModel",
      "_view_count": null,
      "_view_module": "@jupyter-widgets/controls",
      "_view_module_version": "1.5.0",
      "_view_name": "HTMLView",
      "description": "",
      "description_tooltip": null,
      "layout": "IPY_MODEL_ccbc3ab20d804a55bf3ef4a1a326b0a3",
      "placeholder": "​",
      "style": "IPY_MODEL_f08ddab978a949de996df9772d705a9e",
      "value": "config.json: 100%"
     }
    },
    "0daf5f2893174cbd8df0469a529cb7ee": {
     "model_module": "@jupyter-widgets/controls",
     "model_module_version": "1.5.0",
     "model_name": "HTMLModel",
     "state": {
      "_dom_classes": [],
      "_model_module": "@jupyter-widgets/controls",
      "_model_module_version": "1.5.0",
      "_model_name": "HTMLModel",
      "_view_count": null,
      "_view_module": "@jupyter-widgets/controls",
      "_view_module_version": "1.5.0",
      "_view_name": "HTMLView",
      "description": "",
      "description_tooltip": null,
      "layout": "IPY_MODEL_ac0e76d4fe3349eb89b6cd1c2fec47e4",
      "placeholder": "​",
      "style": "IPY_MODEL_3bda6169450b43faa50c72c6d59e2aee",
      "value": " 483/483 [00:00&lt;00:00, 19.6kB/s]"
     }
    },
    "0f1c6125c6a9447987c986b75e9b684c": {
     "model_module": "@jupyter-widgets/base",
     "model_module_version": "1.2.0",
     "model_name": "LayoutModel",
     "state": {
      "_model_module": "@jupyter-widgets/base",
      "_model_module_version": "1.2.0",
      "_model_name": "LayoutModel",
      "_view_count": null,
      "_view_module": "@jupyter-widgets/base",
      "_view_module_version": "1.2.0",
      "_view_name": "LayoutView",
      "align_content": null,
      "align_items": null,
      "align_self": null,
      "border": null,
      "bottom": null,
      "display": null,
      "flex": null,
      "flex_flow": null,
      "grid_area": null,
      "grid_auto_columns": null,
      "grid_auto_flow": null,
      "grid_auto_rows": null,
      "grid_column": null,
      "grid_gap": null,
      "grid_row": null,
      "grid_template_areas": null,
      "grid_template_columns": null,
      "grid_template_rows": null,
      "height": null,
      "justify_content": null,
      "justify_items": null,
      "left": null,
      "margin": null,
      "max_height": null,
      "max_width": null,
      "min_height": null,
      "min_width": null,
      "object_fit": null,
      "object_position": null,
      "order": null,
      "overflow": null,
      "overflow_x": null,
      "overflow_y": null,
      "padding": null,
      "right": null,
      "top": null,
      "visibility": null,
      "width": null
     }
    },
    "16c350bcb5154b2dbba0352172628c46": {
     "model_module": "@jupyter-widgets/controls",
     "model_module_version": "1.5.0",
     "model_name": "HTMLModel",
     "state": {
      "_dom_classes": [],
      "_model_module": "@jupyter-widgets/controls",
      "_model_module_version": "1.5.0",
      "_model_name": "HTMLModel",
      "_view_count": null,
      "_view_module": "@jupyter-widgets/controls",
      "_view_module_version": "1.5.0",
      "_view_name": "HTMLView",
      "description": "",
      "description_tooltip": null,
      "layout": "IPY_MODEL_4862378cbc82417984abb08ad58cba06",
      "placeholder": "​",
      "style": "IPY_MODEL_6adf88d6a22a47b4b65aa7bfdde00620",
      "value": " 504/? [06:57&lt;00:00,  1.17it/s]"
     }
    },
    "18a90d6bcec04d239c78221bfc8a9fb9": {
     "model_module": "@jupyter-widgets/base",
     "model_module_version": "1.2.0",
     "model_name": "LayoutModel",
     "state": {
      "_model_module": "@jupyter-widgets/base",
      "_model_module_version": "1.2.0",
      "_model_name": "LayoutModel",
      "_view_count": null,
      "_view_module": "@jupyter-widgets/base",
      "_view_module_version": "1.2.0",
      "_view_name": "LayoutView",
      "align_content": null,
      "align_items": null,
      "align_self": null,
      "border": null,
      "bottom": null,
      "display": null,
      "flex": null,
      "flex_flow": null,
      "grid_area": null,
      "grid_auto_columns": null,
      "grid_auto_flow": null,
      "grid_auto_rows": null,
      "grid_column": null,
      "grid_gap": null,
      "grid_row": null,
      "grid_template_areas": null,
      "grid_template_columns": null,
      "grid_template_rows": null,
      "height": null,
      "justify_content": null,
      "justify_items": null,
      "left": null,
      "margin": null,
      "max_height": null,
      "max_width": null,
      "min_height": null,
      "min_width": null,
      "object_fit": null,
      "object_position": null,
      "order": null,
      "overflow": null,
      "overflow_x": null,
      "overflow_y": null,
      "padding": null,
      "right": null,
      "top": null,
      "visibility": null,
      "width": null
     }
    },
    "2e810d2d84ff42bda632267ecbc98592": {
     "model_module": "@jupyter-widgets/controls",
     "model_module_version": "1.5.0",
     "model_name": "FloatProgressModel",
     "state": {
      "_dom_classes": [],
      "_model_module": "@jupyter-widgets/controls",
      "_model_module_version": "1.5.0",
      "_model_name": "FloatProgressModel",
      "_view_count": null,
      "_view_module": "@jupyter-widgets/controls",
      "_view_module_version": "1.5.0",
      "_view_name": "ProgressView",
      "bar_style": "success",
      "description": "",
      "description_tooltip": null,
      "layout": "IPY_MODEL_a362786d70774ece82a60a92c20c3be8",
      "max": 3,
      "min": 0,
      "orientation": "horizontal",
      "style": "IPY_MODEL_7818ecc7985040c496775233757040c7",
      "value": 3
     }
    },
    "2f3a7add2f6e4f57a34444701644ec73": {
     "model_module": "@jupyter-widgets/controls",
     "model_module_version": "1.5.0",
     "model_name": "HBoxModel",
     "state": {
      "_dom_classes": [],
      "_model_module": "@jupyter-widgets/controls",
      "_model_module_version": "1.5.0",
      "_model_name": "HBoxModel",
      "_view_count": null,
      "_view_module": "@jupyter-widgets/controls",
      "_view_module_version": "1.5.0",
      "_view_name": "HBoxView",
      "box_style": "",
      "children": [
       "IPY_MODEL_d3eedca50ea741e09e3e497f3167ada2",
       "IPY_MODEL_e6e7ec3e1b0248979ebde3134a3cdf4d",
       "IPY_MODEL_16c350bcb5154b2dbba0352172628c46"
      ],
      "layout": "IPY_MODEL_aa51d64576ad49c880c3a40361f72021"
     }
    },
    "31d477e45bc645f9af840634fba6f6a3": {
     "model_module": "@jupyter-widgets/base",
     "model_module_version": "1.2.0",
     "model_name": "LayoutModel",
     "state": {
      "_model_module": "@jupyter-widgets/base",
      "_model_module_version": "1.2.0",
      "_model_name": "LayoutModel",
      "_view_count": null,
      "_view_module": "@jupyter-widgets/base",
      "_view_module_version": "1.2.0",
      "_view_name": "LayoutView",
      "align_content": null,
      "align_items": null,
      "align_self": null,
      "border": null,
      "bottom": null,
      "display": null,
      "flex": null,
      "flex_flow": null,
      "grid_area": null,
      "grid_auto_columns": null,
      "grid_auto_flow": null,
      "grid_auto_rows": null,
      "grid_column": null,
      "grid_gap": null,
      "grid_row": null,
      "grid_template_areas": null,
      "grid_template_columns": null,
      "grid_template_rows": null,
      "height": null,
      "justify_content": null,
      "justify_items": null,
      "left": null,
      "margin": null,
      "max_height": null,
      "max_width": null,
      "min_height": null,
      "min_width": null,
      "object_fit": null,
      "object_position": null,
      "order": null,
      "overflow": null,
      "overflow_x": null,
      "overflow_y": null,
      "padding": null,
      "right": null,
      "top": null,
      "visibility": null,
      "width": null
     }
    },
    "39a0eaa7b04b45a087627bc493f3e3cc": {
     "model_module": "@jupyter-widgets/base",
     "model_module_version": "1.2.0",
     "model_name": "LayoutModel",
     "state": {
      "_model_module": "@jupyter-widgets/base",
      "_model_module_version": "1.2.0",
      "_model_name": "LayoutModel",
      "_view_count": null,
      "_view_module": "@jupyter-widgets/base",
      "_view_module_version": "1.2.0",
      "_view_name": "LayoutView",
      "align_content": null,
      "align_items": null,
      "align_self": null,
      "border": null,
      "bottom": null,
      "display": null,
      "flex": null,
      "flex_flow": null,
      "grid_area": null,
      "grid_auto_columns": null,
      "grid_auto_flow": null,
      "grid_auto_rows": null,
      "grid_column": null,
      "grid_gap": null,
      "grid_row": null,
      "grid_template_areas": null,
      "grid_template_columns": null,
      "grid_template_rows": null,
      "height": null,
      "justify_content": null,
      "justify_items": null,
      "left": null,
      "margin": null,
      "max_height": null,
      "max_width": null,
      "min_height": null,
      "min_width": null,
      "object_fit": null,
      "object_position": null,
      "order": null,
      "overflow": null,
      "overflow_x": null,
      "overflow_y": null,
      "padding": null,
      "right": null,
      "top": null,
      "visibility": null,
      "width": null
     }
    },
    "39d8bfcc8d5c42ea9706cfcec4675569": {
     "model_module": "@jupyter-widgets/controls",
     "model_module_version": "1.5.0",
     "model_name": "ProgressStyleModel",
     "state": {
      "_model_module": "@jupyter-widgets/controls",
      "_model_module_version": "1.5.0",
      "_model_name": "ProgressStyleModel",
      "_view_count": null,
      "_view_module": "@jupyter-widgets/base",
      "_view_module_version": "1.2.0",
      "_view_name": "StyleView",
      "bar_color": null,
      "description_width": ""
     }
    },
    "3b77ab8ce9f04b1980d349e701dd2379": {
     "model_module": "@jupyter-widgets/base",
     "model_module_version": "1.2.0",
     "model_name": "LayoutModel",
     "state": {
      "_model_module": "@jupyter-widgets/base",
      "_model_module_version": "1.2.0",
      "_model_name": "LayoutModel",
      "_view_count": null,
      "_view_module": "@jupyter-widgets/base",
      "_view_module_version": "1.2.0",
      "_view_name": "LayoutView",
      "align_content": null,
      "align_items": null,
      "align_self": null,
      "border": null,
      "bottom": null,
      "display": null,
      "flex": null,
      "flex_flow": null,
      "grid_area": null,
      "grid_auto_columns": null,
      "grid_auto_flow": null,
      "grid_auto_rows": null,
      "grid_column": null,
      "grid_gap": null,
      "grid_row": null,
      "grid_template_areas": null,
      "grid_template_columns": null,
      "grid_template_rows": null,
      "height": null,
      "justify_content": null,
      "justify_items": null,
      "left": null,
      "margin": null,
      "max_height": null,
      "max_width": null,
      "min_height": null,
      "min_width": null,
      "object_fit": null,
      "object_position": null,
      "order": null,
      "overflow": null,
      "overflow_x": null,
      "overflow_y": null,
      "padding": null,
      "right": null,
      "top": null,
      "visibility": null,
      "width": null
     }
    },
    "3bda6169450b43faa50c72c6d59e2aee": {
     "model_module": "@jupyter-widgets/controls",
     "model_module_version": "1.5.0",
     "model_name": "DescriptionStyleModel",
     "state": {
      "_model_module": "@jupyter-widgets/controls",
      "_model_module_version": "1.5.0",
      "_model_name": "DescriptionStyleModel",
      "_view_count": null,
      "_view_module": "@jupyter-widgets/base",
      "_view_module_version": "1.2.0",
      "_view_name": "StyleView",
      "description_width": ""
     }
    },
    "3d267608f0684f04ac1a95735e863192": {
     "model_module": "@jupyter-widgets/base",
     "model_module_version": "1.2.0",
     "model_name": "LayoutModel",
     "state": {
      "_model_module": "@jupyter-widgets/base",
      "_model_module_version": "1.2.0",
      "_model_name": "LayoutModel",
      "_view_count": null,
      "_view_module": "@jupyter-widgets/base",
      "_view_module_version": "1.2.0",
      "_view_name": "LayoutView",
      "align_content": null,
      "align_items": null,
      "align_self": null,
      "border": null,
      "bottom": null,
      "display": null,
      "flex": null,
      "flex_flow": null,
      "grid_area": null,
      "grid_auto_columns": null,
      "grid_auto_flow": null,
      "grid_auto_rows": null,
      "grid_column": null,
      "grid_gap": null,
      "grid_row": null,
      "grid_template_areas": null,
      "grid_template_columns": null,
      "grid_template_rows": null,
      "height": null,
      "justify_content": null,
      "justify_items": null,
      "left": null,
      "margin": null,
      "max_height": null,
      "max_width": null,
      "min_height": null,
      "min_width": null,
      "object_fit": null,
      "object_position": null,
      "order": null,
      "overflow": null,
      "overflow_x": null,
      "overflow_y": null,
      "padding": null,
      "right": null,
      "top": null,
      "visibility": null,
      "width": null
     }
    },
    "3de603d4ed2b46b085a416dde2edeb1e": {
     "model_module": "@jupyter-widgets/base",
     "model_module_version": "1.2.0",
     "model_name": "LayoutModel",
     "state": {
      "_model_module": "@jupyter-widgets/base",
      "_model_module_version": "1.2.0",
      "_model_name": "LayoutModel",
      "_view_count": null,
      "_view_module": "@jupyter-widgets/base",
      "_view_module_version": "1.2.0",
      "_view_name": "LayoutView",
      "align_content": null,
      "align_items": null,
      "align_self": null,
      "border": null,
      "bottom": null,
      "display": null,
      "flex": null,
      "flex_flow": null,
      "grid_area": null,
      "grid_auto_columns": null,
      "grid_auto_flow": null,
      "grid_auto_rows": null,
      "grid_column": null,
      "grid_gap": null,
      "grid_row": null,
      "grid_template_areas": null,
      "grid_template_columns": null,
      "grid_template_rows": null,
      "height": null,
      "justify_content": null,
      "justify_items": null,
      "left": null,
      "margin": null,
      "max_height": null,
      "max_width": null,
      "min_height": null,
      "min_width": null,
      "object_fit": null,
      "object_position": null,
      "order": null,
      "overflow": null,
      "overflow_x": null,
      "overflow_y": null,
      "padding": null,
      "right": null,
      "top": null,
      "visibility": null,
      "width": null
     }
    },
    "466201f707714a13be44c5ee963d9ff9": {
     "model_module": "@jupyter-widgets/base",
     "model_module_version": "1.2.0",
     "model_name": "LayoutModel",
     "state": {
      "_model_module": "@jupyter-widgets/base",
      "_model_module_version": "1.2.0",
      "_model_name": "LayoutModel",
      "_view_count": null,
      "_view_module": "@jupyter-widgets/base",
      "_view_module_version": "1.2.0",
      "_view_name": "LayoutView",
      "align_content": null,
      "align_items": null,
      "align_self": null,
      "border": null,
      "bottom": null,
      "display": null,
      "flex": null,
      "flex_flow": null,
      "grid_area": null,
      "grid_auto_columns": null,
      "grid_auto_flow": null,
      "grid_auto_rows": null,
      "grid_column": null,
      "grid_gap": null,
      "grid_row": null,
      "grid_template_areas": null,
      "grid_template_columns": null,
      "grid_template_rows": null,
      "height": null,
      "justify_content": null,
      "justify_items": null,
      "left": null,
      "margin": null,
      "max_height": null,
      "max_width": null,
      "min_height": null,
      "min_width": null,
      "object_fit": null,
      "object_position": null,
      "order": null,
      "overflow": null,
      "overflow_x": null,
      "overflow_y": null,
      "padding": null,
      "right": null,
      "top": null,
      "visibility": null,
      "width": null
     }
    },
    "4862378cbc82417984abb08ad58cba06": {
     "model_module": "@jupyter-widgets/base",
     "model_module_version": "1.2.0",
     "model_name": "LayoutModel",
     "state": {
      "_model_module": "@jupyter-widgets/base",
      "_model_module_version": "1.2.0",
      "_model_name": "LayoutModel",
      "_view_count": null,
      "_view_module": "@jupyter-widgets/base",
      "_view_module_version": "1.2.0",
      "_view_name": "LayoutView",
      "align_content": null,
      "align_items": null,
      "align_self": null,
      "border": null,
      "bottom": null,
      "display": null,
      "flex": null,
      "flex_flow": null,
      "grid_area": null,
      "grid_auto_columns": null,
      "grid_auto_flow": null,
      "grid_auto_rows": null,
      "grid_column": null,
      "grid_gap": null,
      "grid_row": null,
      "grid_template_areas": null,
      "grid_template_columns": null,
      "grid_template_rows": null,
      "height": null,
      "justify_content": null,
      "justify_items": null,
      "left": null,
      "margin": null,
      "max_height": null,
      "max_width": null,
      "min_height": null,
      "min_width": null,
      "object_fit": null,
      "object_position": null,
      "order": null,
      "overflow": null,
      "overflow_x": null,
      "overflow_y": null,
      "padding": null,
      "right": null,
      "top": null,
      "visibility": null,
      "width": null
     }
    },
    "4c3ef1c2d323437a8233c3fee8b40e77": {
     "model_module": "@jupyter-widgets/controls",
     "model_module_version": "1.5.0",
     "model_name": "HBoxModel",
     "state": {
      "_dom_classes": [],
      "_model_module": "@jupyter-widgets/controls",
      "_model_module_version": "1.5.0",
      "_model_name": "HBoxModel",
      "_view_count": null,
      "_view_module": "@jupyter-widgets/controls",
      "_view_module_version": "1.5.0",
      "_view_name": "HBoxView",
      "box_style": "",
      "children": [
       "IPY_MODEL_9701aad451a047538009c6951d163b44",
       "IPY_MODEL_64ad213de7bc46f69087815458af2cb1",
       "IPY_MODEL_508fd1be74174f68b33f26dff1499919"
      ],
      "layout": "IPY_MODEL_668ba9035ad340abba4ab70fecfbfbae"
     }
    },
    "4d56f20f9ba541229a088a599e28389e": {
     "model_module": "@jupyter-widgets/controls",
     "model_module_version": "1.5.0",
     "model_name": "DescriptionStyleModel",
     "state": {
      "_model_module": "@jupyter-widgets/controls",
      "_model_module_version": "1.5.0",
      "_model_name": "DescriptionStyleModel",
      "_view_count": null,
      "_view_module": "@jupyter-widgets/base",
      "_view_module_version": "1.2.0",
      "_view_name": "StyleView",
      "description_width": ""
     }
    },
    "508fd1be74174f68b33f26dff1499919": {
     "model_module": "@jupyter-widgets/controls",
     "model_module_version": "1.5.0",
     "model_name": "HTMLModel",
     "state": {
      "_dom_classes": [],
      "_model_module": "@jupyter-widgets/controls",
      "_model_module_version": "1.5.0",
      "_model_name": "HTMLModel",
      "_view_count": null,
      "_view_module": "@jupyter-widgets/controls",
      "_view_module_version": "1.5.0",
      "_view_name": "HTMLView",
      "description": "",
      "description_tooltip": null,
      "layout": "IPY_MODEL_0116190f58a543ab999bfbc0bdf1ee13",
      "placeholder": "​",
      "style": "IPY_MODEL_c410da6f715f4874a6529283dcbbca3f",
      "value": " 466k/466k [00:00&lt;00:00, 25.5MB/s]"
     }
    },
    "537a3365e8824dadbaa0cb4bf875bb43": {
     "model_module": "@jupyter-widgets/controls",
     "model_module_version": "1.5.0",
     "model_name": "HBoxModel",
     "state": {
      "_dom_classes": [],
      "_model_module": "@jupyter-widgets/controls",
      "_model_module_version": "1.5.0",
      "_model_name": "HBoxModel",
      "_view_count": null,
      "_view_module": "@jupyter-widgets/controls",
      "_view_module_version": "1.5.0",
      "_view_name": "HBoxView",
      "box_style": "",
      "children": [
       "IPY_MODEL_0aac975cae114df995bdaff9bd93fdff",
       "IPY_MODEL_97d1936df501483b8a057d3e6513d465",
       "IPY_MODEL_0daf5f2893174cbd8df0469a529cb7ee"
      ],
      "layout": "IPY_MODEL_a4e9be2067224c5e91acd4ea1b3b07c2"
     }
    },
    "5861d48fee174e1db5f37578ac8f1f03": {
     "model_module": "@jupyter-widgets/controls",
     "model_module_version": "1.5.0",
     "model_name": "ProgressStyleModel",
     "state": {
      "_model_module": "@jupyter-widgets/controls",
      "_model_module_version": "1.5.0",
      "_model_name": "ProgressStyleModel",
      "_view_count": null,
      "_view_module": "@jupyter-widgets/base",
      "_view_module_version": "1.2.0",
      "_view_name": "StyleView",
      "bar_color": null,
      "description_width": ""
     }
    },
    "59a0767d2ae842359fb4fc9e44e3c016": {
     "model_module": "@jupyter-widgets/controls",
     "model_module_version": "1.5.0",
     "model_name": "DescriptionStyleModel",
     "state": {
      "_model_module": "@jupyter-widgets/controls",
      "_model_module_version": "1.5.0",
      "_model_name": "DescriptionStyleModel",
      "_view_count": null,
      "_view_module": "@jupyter-widgets/base",
      "_view_module_version": "1.2.0",
      "_view_name": "StyleView",
      "description_width": ""
     }
    },
    "5f149370db694b40a871537f27414d27": {
     "model_module": "@jupyter-widgets/controls",
     "model_module_version": "1.5.0",
     "model_name": "HTMLModel",
     "state": {
      "_dom_classes": [],
      "_model_module": "@jupyter-widgets/controls",
      "_model_module_version": "1.5.0",
      "_model_name": "HTMLModel",
      "_view_count": null,
      "_view_module": "@jupyter-widgets/controls",
      "_view_module_version": "1.5.0",
      "_view_name": "HTMLView",
      "description": "",
      "description_tooltip": null,
      "layout": "IPY_MODEL_66b84c39ebeb44c0bd8b364e530b5679",
      "placeholder": "​",
      "style": "IPY_MODEL_4d56f20f9ba541229a088a599e28389e",
      "value": "vocab.txt: 100%"
     }
    },
    "64ad213de7bc46f69087815458af2cb1": {
     "model_module": "@jupyter-widgets/controls",
     "model_module_version": "1.5.0",
     "model_name": "FloatProgressModel",
     "state": {
      "_dom_classes": [],
      "_model_module": "@jupyter-widgets/controls",
      "_model_module_version": "1.5.0",
      "_model_name": "FloatProgressModel",
      "_view_count": null,
      "_view_module": "@jupyter-widgets/controls",
      "_view_module_version": "1.5.0",
      "_view_name": "ProgressView",
      "bar_style": "success",
      "description": "",
      "description_tooltip": null,
      "layout": "IPY_MODEL_eda6b18060264cdfbde95c85293f64c5",
      "max": 466062,
      "min": 0,
      "orientation": "horizontal",
      "style": "IPY_MODEL_b20a20529bae43979b75f1d33a6dc861",
      "value": 466062
     }
    },
    "64cd9ae6f8a24572a2b8f6cabb8b24bd": {
     "model_module": "@jupyter-widgets/base",
     "model_module_version": "1.2.0",
     "model_name": "LayoutModel",
     "state": {
      "_model_module": "@jupyter-widgets/base",
      "_model_module_version": "1.2.0",
      "_model_name": "LayoutModel",
      "_view_count": null,
      "_view_module": "@jupyter-widgets/base",
      "_view_module_version": "1.2.0",
      "_view_name": "LayoutView",
      "align_content": null,
      "align_items": null,
      "align_self": null,
      "border": null,
      "bottom": null,
      "display": null,
      "flex": null,
      "flex_flow": null,
      "grid_area": null,
      "grid_auto_columns": null,
      "grid_auto_flow": null,
      "grid_auto_rows": null,
      "grid_column": null,
      "grid_gap": null,
      "grid_row": null,
      "grid_template_areas": null,
      "grid_template_columns": null,
      "grid_template_rows": null,
      "height": null,
      "justify_content": null,
      "justify_items": null,
      "left": null,
      "margin": null,
      "max_height": null,
      "max_width": null,
      "min_height": null,
      "min_width": null,
      "object_fit": null,
      "object_position": null,
      "order": null,
      "overflow": null,
      "overflow_x": null,
      "overflow_y": null,
      "padding": null,
      "right": null,
      "top": null,
      "visibility": null,
      "width": null
     }
    },
    "668ba9035ad340abba4ab70fecfbfbae": {
     "model_module": "@jupyter-widgets/base",
     "model_module_version": "1.2.0",
     "model_name": "LayoutModel",
     "state": {
      "_model_module": "@jupyter-widgets/base",
      "_model_module_version": "1.2.0",
      "_model_name": "LayoutModel",
      "_view_count": null,
      "_view_module": "@jupyter-widgets/base",
      "_view_module_version": "1.2.0",
      "_view_name": "LayoutView",
      "align_content": null,
      "align_items": null,
      "align_self": null,
      "border": null,
      "bottom": null,
      "display": null,
      "flex": null,
      "flex_flow": null,
      "grid_area": null,
      "grid_auto_columns": null,
      "grid_auto_flow": null,
      "grid_auto_rows": null,
      "grid_column": null,
      "grid_gap": null,
      "grid_row": null,
      "grid_template_areas": null,
      "grid_template_columns": null,
      "grid_template_rows": null,
      "height": null,
      "justify_content": null,
      "justify_items": null,
      "left": null,
      "margin": null,
      "max_height": null,
      "max_width": null,
      "min_height": null,
      "min_width": null,
      "object_fit": null,
      "object_position": null,
      "order": null,
      "overflow": null,
      "overflow_x": null,
      "overflow_y": null,
      "padding": null,
      "right": null,
      "top": null,
      "visibility": null,
      "width": null
     }
    },
    "66b84c39ebeb44c0bd8b364e530b5679": {
     "model_module": "@jupyter-widgets/base",
     "model_module_version": "1.2.0",
     "model_name": "LayoutModel",
     "state": {
      "_model_module": "@jupyter-widgets/base",
      "_model_module_version": "1.2.0",
      "_model_name": "LayoutModel",
      "_view_count": null,
      "_view_module": "@jupyter-widgets/base",
      "_view_module_version": "1.2.0",
      "_view_name": "LayoutView",
      "align_content": null,
      "align_items": null,
      "align_self": null,
      "border": null,
      "bottom": null,
      "display": null,
      "flex": null,
      "flex_flow": null,
      "grid_area": null,
      "grid_auto_columns": null,
      "grid_auto_flow": null,
      "grid_auto_rows": null,
      "grid_column": null,
      "grid_gap": null,
      "grid_row": null,
      "grid_template_areas": null,
      "grid_template_columns": null,
      "grid_template_rows": null,
      "height": null,
      "justify_content": null,
      "justify_items": null,
      "left": null,
      "margin": null,
      "max_height": null,
      "max_width": null,
      "min_height": null,
      "min_width": null,
      "object_fit": null,
      "object_position": null,
      "order": null,
      "overflow": null,
      "overflow_x": null,
      "overflow_y": null,
      "padding": null,
      "right": null,
      "top": null,
      "visibility": null,
      "width": null
     }
    },
    "6837920efb5743d78697a2433d3bea13": {
     "model_module": "@jupyter-widgets/controls",
     "model_module_version": "1.5.0",
     "model_name": "DescriptionStyleModel",
     "state": {
      "_model_module": "@jupyter-widgets/controls",
      "_model_module_version": "1.5.0",
      "_model_name": "DescriptionStyleModel",
      "_view_count": null,
      "_view_module": "@jupyter-widgets/base",
      "_view_module_version": "1.2.0",
      "_view_name": "StyleView",
      "description_width": ""
     }
    },
    "6adf88d6a22a47b4b65aa7bfdde00620": {
     "model_module": "@jupyter-widgets/controls",
     "model_module_version": "1.5.0",
     "model_name": "DescriptionStyleModel",
     "state": {
      "_model_module": "@jupyter-widgets/controls",
      "_model_module_version": "1.5.0",
      "_model_name": "DescriptionStyleModel",
      "_view_count": null,
      "_view_module": "@jupyter-widgets/base",
      "_view_module_version": "1.2.0",
      "_view_name": "StyleView",
      "description_width": ""
     }
    },
    "6c0f0d8f13ac4e4493dbb9b0685d0ae6": {
     "model_module": "@jupyter-widgets/controls",
     "model_module_version": "1.5.0",
     "model_name": "HTMLModel",
     "state": {
      "_dom_classes": [],
      "_model_module": "@jupyter-widgets/controls",
      "_model_module_version": "1.5.0",
      "_model_name": "HTMLModel",
      "_view_count": null,
      "_view_module": "@jupyter-widgets/controls",
      "_view_module_version": "1.5.0",
      "_view_name": "HTMLView",
      "description": "",
      "description_tooltip": null,
      "layout": "IPY_MODEL_9fdccc85914c4233b943a90a57a837f3",
      "placeholder": "​",
      "style": "IPY_MODEL_71f76b554161469ca8bdc987ae0bc142",
      "value": " 3/3 [00:00&lt;00:00, 19.69 examples/s]"
     }
    },
    "6d0855b157834a56b0521481fe1cdd15": {
     "model_module": "@jupyter-widgets/controls",
     "model_module_version": "1.5.0",
     "model_name": "DescriptionStyleModel",
     "state": {
      "_model_module": "@jupyter-widgets/controls",
      "_model_module_version": "1.5.0",
      "_model_name": "DescriptionStyleModel",
      "_view_count": null,
      "_view_module": "@jupyter-widgets/base",
      "_view_module_version": "1.2.0",
      "_view_name": "StyleView",
      "description_width": ""
     }
    },
    "70057c19dda34fedbfbaf6fb254867fe": {
     "model_module": "@jupyter-widgets/base",
     "model_module_version": "1.2.0",
     "model_name": "LayoutModel",
     "state": {
      "_model_module": "@jupyter-widgets/base",
      "_model_module_version": "1.2.0",
      "_model_name": "LayoutModel",
      "_view_count": null,
      "_view_module": "@jupyter-widgets/base",
      "_view_module_version": "1.2.0",
      "_view_name": "LayoutView",
      "align_content": null,
      "align_items": null,
      "align_self": null,
      "border": null,
      "bottom": null,
      "display": null,
      "flex": null,
      "flex_flow": null,
      "grid_area": null,
      "grid_auto_columns": null,
      "grid_auto_flow": null,
      "grid_auto_rows": null,
      "grid_column": null,
      "grid_gap": null,
      "grid_row": null,
      "grid_template_areas": null,
      "grid_template_columns": null,
      "grid_template_rows": null,
      "height": null,
      "justify_content": null,
      "justify_items": null,
      "left": null,
      "margin": null,
      "max_height": null,
      "max_width": null,
      "min_height": null,
      "min_width": null,
      "object_fit": null,
      "object_position": null,
      "order": null,
      "overflow": null,
      "overflow_x": null,
      "overflow_y": null,
      "padding": null,
      "right": null,
      "top": null,
      "visibility": null,
      "width": null
     }
    },
    "71c9b50e3248481bb747c16c279a9bb7": {
     "model_module": "@jupyter-widgets/base",
     "model_module_version": "1.2.0",
     "model_name": "LayoutModel",
     "state": {
      "_model_module": "@jupyter-widgets/base",
      "_model_module_version": "1.2.0",
      "_model_name": "LayoutModel",
      "_view_count": null,
      "_view_module": "@jupyter-widgets/base",
      "_view_module_version": "1.2.0",
      "_view_name": "LayoutView",
      "align_content": null,
      "align_items": null,
      "align_self": null,
      "border": null,
      "bottom": null,
      "display": null,
      "flex": null,
      "flex_flow": null,
      "grid_area": null,
      "grid_auto_columns": null,
      "grid_auto_flow": null,
      "grid_auto_rows": null,
      "grid_column": null,
      "grid_gap": null,
      "grid_row": null,
      "grid_template_areas": null,
      "grid_template_columns": null,
      "grid_template_rows": null,
      "height": null,
      "justify_content": null,
      "justify_items": null,
      "left": null,
      "margin": null,
      "max_height": null,
      "max_width": null,
      "min_height": null,
      "min_width": null,
      "object_fit": null,
      "object_position": null,
      "order": null,
      "overflow": null,
      "overflow_x": null,
      "overflow_y": null,
      "padding": null,
      "right": null,
      "top": null,
      "visibility": null,
      "width": null
     }
    },
    "71f76b554161469ca8bdc987ae0bc142": {
     "model_module": "@jupyter-widgets/controls",
     "model_module_version": "1.5.0",
     "model_name": "DescriptionStyleModel",
     "state": {
      "_model_module": "@jupyter-widgets/controls",
      "_model_module_version": "1.5.0",
      "_model_name": "DescriptionStyleModel",
      "_view_count": null,
      "_view_module": "@jupyter-widgets/base",
      "_view_module_version": "1.2.0",
      "_view_name": "StyleView",
      "description_width": ""
     }
    },
    "7818ecc7985040c496775233757040c7": {
     "model_module": "@jupyter-widgets/controls",
     "model_module_version": "1.5.0",
     "model_name": "ProgressStyleModel",
     "state": {
      "_model_module": "@jupyter-widgets/controls",
      "_model_module_version": "1.5.0",
      "_model_name": "ProgressStyleModel",
      "_view_count": null,
      "_view_module": "@jupyter-widgets/base",
      "_view_module_version": "1.2.0",
      "_view_name": "StyleView",
      "bar_color": null,
      "description_width": ""
     }
    },
    "7e015468510b4d02bd29ed85b9e4ad67": {
     "model_module": "@jupyter-widgets/controls",
     "model_module_version": "1.5.0",
     "model_name": "DescriptionStyleModel",
     "state": {
      "_model_module": "@jupyter-widgets/controls",
      "_model_module_version": "1.5.0",
      "_model_name": "DescriptionStyleModel",
      "_view_count": null,
      "_view_module": "@jupyter-widgets/base",
      "_view_module_version": "1.2.0",
      "_view_name": "StyleView",
      "description_width": ""
     }
    },
    "7e26789d084b4647b0f4e479a5d11236": {
     "model_module": "@jupyter-widgets/controls",
     "model_module_version": "1.5.0",
     "model_name": "ProgressStyleModel",
     "state": {
      "_model_module": "@jupyter-widgets/controls",
      "_model_module_version": "1.5.0",
      "_model_name": "ProgressStyleModel",
      "_view_count": null,
      "_view_module": "@jupyter-widgets/base",
      "_view_module_version": "1.2.0",
      "_view_name": "StyleView",
      "bar_color": null,
      "description_width": ""
     }
    },
    "840ceb12af274375b6931fced03fb07e": {
     "model_module": "@jupyter-widgets/base",
     "model_module_version": "1.2.0",
     "model_name": "LayoutModel",
     "state": {
      "_model_module": "@jupyter-widgets/base",
      "_model_module_version": "1.2.0",
      "_model_name": "LayoutModel",
      "_view_count": null,
      "_view_module": "@jupyter-widgets/base",
      "_view_module_version": "1.2.0",
      "_view_name": "LayoutView",
      "align_content": null,
      "align_items": null,
      "align_self": null,
      "border": null,
      "bottom": null,
      "display": null,
      "flex": null,
      "flex_flow": null,
      "grid_area": null,
      "grid_auto_columns": null,
      "grid_auto_flow": null,
      "grid_auto_rows": null,
      "grid_column": null,
      "grid_gap": null,
      "grid_row": null,
      "grid_template_areas": null,
      "grid_template_columns": null,
      "grid_template_rows": null,
      "height": null,
      "justify_content": null,
      "justify_items": null,
      "left": null,
      "margin": null,
      "max_height": null,
      "max_width": null,
      "min_height": null,
      "min_width": null,
      "object_fit": null,
      "object_position": null,
      "order": null,
      "overflow": null,
      "overflow_x": null,
      "overflow_y": null,
      "padding": null,
      "right": null,
      "top": null,
      "visibility": null,
      "width": null
     }
    },
    "84cd8cd79874402f9e19162b8be1b058": {
     "model_module": "@jupyter-widgets/controls",
     "model_module_version": "1.5.0",
     "model_name": "HTMLModel",
     "state": {
      "_dom_classes": [],
      "_model_module": "@jupyter-widgets/controls",
      "_model_module_version": "1.5.0",
      "_model_name": "HTMLModel",
      "_view_count": null,
      "_view_module": "@jupyter-widgets/controls",
      "_view_module_version": "1.5.0",
      "_view_name": "HTMLView",
      "description": "",
      "description_tooltip": null,
      "layout": "IPY_MODEL_840ceb12af274375b6931fced03fb07e",
      "placeholder": "​",
      "style": "IPY_MODEL_59a0767d2ae842359fb4fc9e44e3c016",
      "value": "  0%"
     }
    },
    "8dd4784ca8fc4af099772d57995412ea": {
     "model_module": "@jupyter-widgets/controls",
     "model_module_version": "1.5.0",
     "model_name": "FloatProgressModel",
     "state": {
      "_dom_classes": [],
      "_model_module": "@jupyter-widgets/controls",
      "_model_module_version": "1.5.0",
      "_model_name": "FloatProgressModel",
      "_view_count": null,
      "_view_module": "@jupyter-widgets/controls",
      "_view_module_version": "1.5.0",
      "_view_name": "ProgressView",
      "bar_style": "",
      "description": "",
      "description_tooltip": null,
      "layout": "IPY_MODEL_a4b3f0e3670741ff9e48a69ba1608f76",
      "max": 498,
      "min": 0,
      "orientation": "horizontal",
      "style": "IPY_MODEL_ef5bc930a81a4169b1e5596afdc0d1b1",
      "value": 0
     }
    },
    "9655804677bd4a28a8edf91d5bff3512": {
     "model_module": "@jupyter-widgets/controls",
     "model_module_version": "1.5.0",
     "model_name": "DescriptionStyleModel",
     "state": {
      "_model_module": "@jupyter-widgets/controls",
      "_model_module_version": "1.5.0",
      "_model_name": "DescriptionStyleModel",
      "_view_count": null,
      "_view_module": "@jupyter-widgets/base",
      "_view_module_version": "1.2.0",
      "_view_name": "StyleView",
      "description_width": ""
     }
    },
    "9701aad451a047538009c6951d163b44": {
     "model_module": "@jupyter-widgets/controls",
     "model_module_version": "1.5.0",
     "model_name": "HTMLModel",
     "state": {
      "_dom_classes": [],
      "_model_module": "@jupyter-widgets/controls",
      "_model_module_version": "1.5.0",
      "_model_name": "HTMLModel",
      "_view_count": null,
      "_view_module": "@jupyter-widgets/controls",
      "_view_module_version": "1.5.0",
      "_view_name": "HTMLView",
      "description": "",
      "description_tooltip": null,
      "layout": "IPY_MODEL_0f1c6125c6a9447987c986b75e9b684c",
      "placeholder": "​",
      "style": "IPY_MODEL_6837920efb5743d78697a2433d3bea13",
      "value": "tokenizer.json: 100%"
     }
    },
    "97d1936df501483b8a057d3e6513d465": {
     "model_module": "@jupyter-widgets/controls",
     "model_module_version": "1.5.0",
     "model_name": "FloatProgressModel",
     "state": {
      "_dom_classes": [],
      "_model_module": "@jupyter-widgets/controls",
      "_model_module_version": "1.5.0",
      "_model_name": "FloatProgressModel",
      "_view_count": null,
      "_view_module": "@jupyter-widgets/controls",
      "_view_module_version": "1.5.0",
      "_view_name": "ProgressView",
      "bar_style": "success",
      "description": "",
      "description_tooltip": null,
      "layout": "IPY_MODEL_b1073fe6b68744a892bee580932e9e1c",
      "max": 483,
      "min": 0,
      "orientation": "horizontal",
      "style": "IPY_MODEL_5861d48fee174e1db5f37578ac8f1f03",
      "value": 483
     }
    },
    "9fdccc85914c4233b943a90a57a837f3": {
     "model_module": "@jupyter-widgets/base",
     "model_module_version": "1.2.0",
     "model_name": "LayoutModel",
     "state": {
      "_model_module": "@jupyter-widgets/base",
      "_model_module_version": "1.2.0",
      "_model_name": "LayoutModel",
      "_view_count": null,
      "_view_module": "@jupyter-widgets/base",
      "_view_module_version": "1.2.0",
      "_view_name": "LayoutView",
      "align_content": null,
      "align_items": null,
      "align_self": null,
      "border": null,
      "bottom": null,
      "display": null,
      "flex": null,
      "flex_flow": null,
      "grid_area": null,
      "grid_auto_columns": null,
      "grid_auto_flow": null,
      "grid_auto_rows": null,
      "grid_column": null,
      "grid_gap": null,
      "grid_row": null,
      "grid_template_areas": null,
      "grid_template_columns": null,
      "grid_template_rows": null,
      "height": null,
      "justify_content": null,
      "justify_items": null,
      "left": null,
      "margin": null,
      "max_height": null,
      "max_width": null,
      "min_height": null,
      "min_width": null,
      "object_fit": null,
      "object_position": null,
      "order": null,
      "overflow": null,
      "overflow_x": null,
      "overflow_y": null,
      "padding": null,
      "right": null,
      "top": null,
      "visibility": null,
      "width": null
     }
    },
    "a362786d70774ece82a60a92c20c3be8": {
     "model_module": "@jupyter-widgets/base",
     "model_module_version": "1.2.0",
     "model_name": "LayoutModel",
     "state": {
      "_model_module": "@jupyter-widgets/base",
      "_model_module_version": "1.2.0",
      "_model_name": "LayoutModel",
      "_view_count": null,
      "_view_module": "@jupyter-widgets/base",
      "_view_module_version": "1.2.0",
      "_view_name": "LayoutView",
      "align_content": null,
      "align_items": null,
      "align_self": null,
      "border": null,
      "bottom": null,
      "display": null,
      "flex": null,
      "flex_flow": null,
      "grid_area": null,
      "grid_auto_columns": null,
      "grid_auto_flow": null,
      "grid_auto_rows": null,
      "grid_column": null,
      "grid_gap": null,
      "grid_row": null,
      "grid_template_areas": null,
      "grid_template_columns": null,
      "grid_template_rows": null,
      "height": null,
      "justify_content": null,
      "justify_items": null,
      "left": null,
      "margin": null,
      "max_height": null,
      "max_width": null,
      "min_height": null,
      "min_width": null,
      "object_fit": null,
      "object_position": null,
      "order": null,
      "overflow": null,
      "overflow_x": null,
      "overflow_y": null,
      "padding": null,
      "right": null,
      "top": null,
      "visibility": null,
      "width": null
     }
    },
    "a4b3f0e3670741ff9e48a69ba1608f76": {
     "model_module": "@jupyter-widgets/base",
     "model_module_version": "1.2.0",
     "model_name": "LayoutModel",
     "state": {
      "_model_module": "@jupyter-widgets/base",
      "_model_module_version": "1.2.0",
      "_model_name": "LayoutModel",
      "_view_count": null,
      "_view_module": "@jupyter-widgets/base",
      "_view_module_version": "1.2.0",
      "_view_name": "LayoutView",
      "align_content": null,
      "align_items": null,
      "align_self": null,
      "border": null,
      "bottom": null,
      "display": null,
      "flex": null,
      "flex_flow": null,
      "grid_area": null,
      "grid_auto_columns": null,
      "grid_auto_flow": null,
      "grid_auto_rows": null,
      "grid_column": null,
      "grid_gap": null,
      "grid_row": null,
      "grid_template_areas": null,
      "grid_template_columns": null,
      "grid_template_rows": null,
      "height": null,
      "justify_content": null,
      "justify_items": null,
      "left": null,
      "margin": null,
      "max_height": null,
      "max_width": null,
      "min_height": null,
      "min_width": null,
      "object_fit": null,
      "object_position": null,
      "order": null,
      "overflow": null,
      "overflow_x": null,
      "overflow_y": null,
      "padding": null,
      "right": null,
      "top": null,
      "visibility": null,
      "width": null
     }
    },
    "a4e9be2067224c5e91acd4ea1b3b07c2": {
     "model_module": "@jupyter-widgets/base",
     "model_module_version": "1.2.0",
     "model_name": "LayoutModel",
     "state": {
      "_model_module": "@jupyter-widgets/base",
      "_model_module_version": "1.2.0",
      "_model_name": "LayoutModel",
      "_view_count": null,
      "_view_module": "@jupyter-widgets/base",
      "_view_module_version": "1.2.0",
      "_view_name": "LayoutView",
      "align_content": null,
      "align_items": null,
      "align_self": null,
      "border": null,
      "bottom": null,
      "display": null,
      "flex": null,
      "flex_flow": null,
      "grid_area": null,
      "grid_auto_columns": null,
      "grid_auto_flow": null,
      "grid_auto_rows": null,
      "grid_column": null,
      "grid_gap": null,
      "grid_row": null,
      "grid_template_areas": null,
      "grid_template_columns": null,
      "grid_template_rows": null,
      "height": null,
      "justify_content": null,
      "justify_items": null,
      "left": null,
      "margin": null,
      "max_height": null,
      "max_width": null,
      "min_height": null,
      "min_width": null,
      "object_fit": null,
      "object_position": null,
      "order": null,
      "overflow": null,
      "overflow_x": null,
      "overflow_y": null,
      "padding": null,
      "right": null,
      "top": null,
      "visibility": null,
      "width": null
     }
    },
    "a519f8dab61c43788e44af258bdb4b5d": {
     "model_module": "@jupyter-widgets/controls",
     "model_module_version": "1.5.0",
     "model_name": "HTMLModel",
     "state": {
      "_dom_classes": [],
      "_model_module": "@jupyter-widgets/controls",
      "_model_module_version": "1.5.0",
      "_model_name": "HTMLModel",
      "_view_count": null,
      "_view_module": "@jupyter-widgets/controls",
      "_view_module_version": "1.5.0",
      "_view_name": "HTMLView",
      "description": "",
      "description_tooltip": null,
      "layout": "IPY_MODEL_18a90d6bcec04d239c78221bfc8a9fb9",
      "placeholder": "​",
      "style": "IPY_MODEL_064fcc2465094bcfa0b1663de5df7f90",
      "value": "tokenizer_config.json: 100%"
     }
    },
    "a79aec373417483383d64831a8c3a1b9": {
     "model_module": "@jupyter-widgets/controls",
     "model_module_version": "1.5.0",
     "model_name": "HTMLModel",
     "state": {
      "_dom_classes": [],
      "_model_module": "@jupyter-widgets/controls",
      "_model_module_version": "1.5.0",
      "_model_name": "HTMLModel",
      "_view_count": null,
      "_view_module": "@jupyter-widgets/controls",
      "_view_module_version": "1.5.0",
      "_view_name": "HTMLView",
      "description": "",
      "description_tooltip": null,
      "layout": "IPY_MODEL_c200409b0aad415c897c30f0ad32bb87",
      "placeholder": "​",
      "style": "IPY_MODEL_7e015468510b4d02bd29ed85b9e4ad67",
      "value": " 232k/232k [00:00&lt;00:00, 5.24MB/s]"
     }
    },
    "aa51d64576ad49c880c3a40361f72021": {
     "model_module": "@jupyter-widgets/base",
     "model_module_version": "1.2.0",
     "model_name": "LayoutModel",
     "state": {
      "_model_module": "@jupyter-widgets/base",
      "_model_module_version": "1.2.0",
      "_model_name": "LayoutModel",
      "_view_count": null,
      "_view_module": "@jupyter-widgets/base",
      "_view_module_version": "1.2.0",
      "_view_name": "LayoutView",
      "align_content": null,
      "align_items": null,
      "align_self": null,
      "border": null,
      "bottom": null,
      "display": null,
      "flex": null,
      "flex_flow": null,
      "grid_area": null,
      "grid_auto_columns": null,
      "grid_auto_flow": null,
      "grid_auto_rows": null,
      "grid_column": null,
      "grid_gap": null,
      "grid_row": null,
      "grid_template_areas": null,
      "grid_template_columns": null,
      "grid_template_rows": null,
      "height": null,
      "justify_content": null,
      "justify_items": null,
      "left": null,
      "margin": null,
      "max_height": null,
      "max_width": null,
      "min_height": null,
      "min_width": null,
      "object_fit": null,
      "object_position": null,
      "order": null,
      "overflow": null,
      "overflow_x": null,
      "overflow_y": null,
      "padding": null,
      "right": null,
      "top": null,
      "visibility": "hidden",
      "width": null
     }
    },
    "ac0e76d4fe3349eb89b6cd1c2fec47e4": {
     "model_module": "@jupyter-widgets/base",
     "model_module_version": "1.2.0",
     "model_name": "LayoutModel",
     "state": {
      "_model_module": "@jupyter-widgets/base",
      "_model_module_version": "1.2.0",
      "_model_name": "LayoutModel",
      "_view_count": null,
      "_view_module": "@jupyter-widgets/base",
      "_view_module_version": "1.2.0",
      "_view_name": "LayoutView",
      "align_content": null,
      "align_items": null,
      "align_self": null,
      "border": null,
      "bottom": null,
      "display": null,
      "flex": null,
      "flex_flow": null,
      "grid_area": null,
      "grid_auto_columns": null,
      "grid_auto_flow": null,
      "grid_auto_rows": null,
      "grid_column": null,
      "grid_gap": null,
      "grid_row": null,
      "grid_template_areas": null,
      "grid_template_columns": null,
      "grid_template_rows": null,
      "height": null,
      "justify_content": null,
      "justify_items": null,
      "left": null,
      "margin": null,
      "max_height": null,
      "max_width": null,
      "min_height": null,
      "min_width": null,
      "object_fit": null,
      "object_position": null,
      "order": null,
      "overflow": null,
      "overflow_x": null,
      "overflow_y": null,
      "padding": null,
      "right": null,
      "top": null,
      "visibility": null,
      "width": null
     }
    },
    "b1073fe6b68744a892bee580932e9e1c": {
     "model_module": "@jupyter-widgets/base",
     "model_module_version": "1.2.0",
     "model_name": "LayoutModel",
     "state": {
      "_model_module": "@jupyter-widgets/base",
      "_model_module_version": "1.2.0",
      "_model_name": "LayoutModel",
      "_view_count": null,
      "_view_module": "@jupyter-widgets/base",
      "_view_module_version": "1.2.0",
      "_view_name": "LayoutView",
      "align_content": null,
      "align_items": null,
      "align_self": null,
      "border": null,
      "bottom": null,
      "display": null,
      "flex": null,
      "flex_flow": null,
      "grid_area": null,
      "grid_auto_columns": null,
      "grid_auto_flow": null,
      "grid_auto_rows": null,
      "grid_column": null,
      "grid_gap": null,
      "grid_row": null,
      "grid_template_areas": null,
      "grid_template_columns": null,
      "grid_template_rows": null,
      "height": null,
      "justify_content": null,
      "justify_items": null,
      "left": null,
      "margin": null,
      "max_height": null,
      "max_width": null,
      "min_height": null,
      "min_width": null,
      "object_fit": null,
      "object_position": null,
      "order": null,
      "overflow": null,
      "overflow_x": null,
      "overflow_y": null,
      "padding": null,
      "right": null,
      "top": null,
      "visibility": null,
      "width": null
     }
    },
    "b16828e50fbe4c7dac74b7e56357d8a8": {
     "model_module": "@jupyter-widgets/controls",
     "model_module_version": "1.5.0",
     "model_name": "HTMLModel",
     "state": {
      "_dom_classes": [],
      "_model_module": "@jupyter-widgets/controls",
      "_model_module_version": "1.5.0",
      "_model_name": "HTMLModel",
      "_view_count": null,
      "_view_module": "@jupyter-widgets/controls",
      "_view_module_version": "1.5.0",
      "_view_name": "HTMLView",
      "description": "",
      "description_tooltip": null,
      "layout": "IPY_MODEL_ecc8b673ca7747b4a4e757cbec1f4378",
      "placeholder": "​",
      "style": "IPY_MODEL_9655804677bd4a28a8edf91d5bff3512",
      "value": " 48.0/48.0 [00:00&lt;00:00, 2.98kB/s]"
     }
    },
    "b20a20529bae43979b75f1d33a6dc861": {
     "model_module": "@jupyter-widgets/controls",
     "model_module_version": "1.5.0",
     "model_name": "ProgressStyleModel",
     "state": {
      "_model_module": "@jupyter-widgets/controls",
      "_model_module_version": "1.5.0",
      "_model_name": "ProgressStyleModel",
      "_view_count": null,
      "_view_module": "@jupyter-widgets/base",
      "_view_module_version": "1.2.0",
      "_view_name": "StyleView",
      "bar_color": null,
      "description_width": ""
     }
    },
    "b4320969e3ca40f6b7923aa9d74c98ec": {
     "model_module": "@jupyter-widgets/controls",
     "model_module_version": "1.5.0",
     "model_name": "HTMLModel",
     "state": {
      "_dom_classes": [],
      "_model_module": "@jupyter-widgets/controls",
      "_model_module_version": "1.5.0",
      "_model_name": "HTMLModel",
      "_view_count": null,
      "_view_module": "@jupyter-widgets/controls",
      "_view_module_version": "1.5.0",
      "_view_name": "HTMLView",
      "description": "",
      "description_tooltip": null,
      "layout": "IPY_MODEL_64cd9ae6f8a24572a2b8f6cabb8b24bd",
      "placeholder": "​",
      "style": "IPY_MODEL_6d0855b157834a56b0521481fe1cdd15",
      "value": "Map: 100%"
     }
    },
    "b9fc331660974be69a2c24317759914b": {
     "model_module": "@jupyter-widgets/controls",
     "model_module_version": "1.5.0",
     "model_name": "HBoxModel",
     "state": {
      "_dom_classes": [],
      "_model_module": "@jupyter-widgets/controls",
      "_model_module_version": "1.5.0",
      "_model_name": "HBoxModel",
      "_view_count": null,
      "_view_module": "@jupyter-widgets/controls",
      "_view_module_version": "1.5.0",
      "_view_name": "HBoxView",
      "box_style": "",
      "children": [
       "IPY_MODEL_a519f8dab61c43788e44af258bdb4b5d",
       "IPY_MODEL_0234ab287cf24e99ba5cbb4821d15c30",
       "IPY_MODEL_b16828e50fbe4c7dac74b7e56357d8a8"
      ],
      "layout": "IPY_MODEL_eacb88f42be741b3b09f502cb1232bfc"
     }
    },
    "c200409b0aad415c897c30f0ad32bb87": {
     "model_module": "@jupyter-widgets/base",
     "model_module_version": "1.2.0",
     "model_name": "LayoutModel",
     "state": {
      "_model_module": "@jupyter-widgets/base",
      "_model_module_version": "1.2.0",
      "_model_name": "LayoutModel",
      "_view_count": null,
      "_view_module": "@jupyter-widgets/base",
      "_view_module_version": "1.2.0",
      "_view_name": "LayoutView",
      "align_content": null,
      "align_items": null,
      "align_self": null,
      "border": null,
      "bottom": null,
      "display": null,
      "flex": null,
      "flex_flow": null,
      "grid_area": null,
      "grid_auto_columns": null,
      "grid_auto_flow": null,
      "grid_auto_rows": null,
      "grid_column": null,
      "grid_gap": null,
      "grid_row": null,
      "grid_template_areas": null,
      "grid_template_columns": null,
      "grid_template_rows": null,
      "height": null,
      "justify_content": null,
      "justify_items": null,
      "left": null,
      "margin": null,
      "max_height": null,
      "max_width": null,
      "min_height": null,
      "min_width": null,
      "object_fit": null,
      "object_position": null,
      "order": null,
      "overflow": null,
      "overflow_x": null,
      "overflow_y": null,
      "padding": null,
      "right": null,
      "top": null,
      "visibility": null,
      "width": null
     }
    },
    "c410da6f715f4874a6529283dcbbca3f": {
     "model_module": "@jupyter-widgets/controls",
     "model_module_version": "1.5.0",
     "model_name": "DescriptionStyleModel",
     "state": {
      "_model_module": "@jupyter-widgets/controls",
      "_model_module_version": "1.5.0",
      "_model_name": "DescriptionStyleModel",
      "_view_count": null,
      "_view_module": "@jupyter-widgets/base",
      "_view_module_version": "1.2.0",
      "_view_name": "StyleView",
      "description_width": ""
     }
    },
    "ccbc3ab20d804a55bf3ef4a1a326b0a3": {
     "model_module": "@jupyter-widgets/base",
     "model_module_version": "1.2.0",
     "model_name": "LayoutModel",
     "state": {
      "_model_module": "@jupyter-widgets/base",
      "_model_module_version": "1.2.0",
      "_model_name": "LayoutModel",
      "_view_count": null,
      "_view_module": "@jupyter-widgets/base",
      "_view_module_version": "1.2.0",
      "_view_name": "LayoutView",
      "align_content": null,
      "align_items": null,
      "align_self": null,
      "border": null,
      "bottom": null,
      "display": null,
      "flex": null,
      "flex_flow": null,
      "grid_area": null,
      "grid_auto_columns": null,
      "grid_auto_flow": null,
      "grid_auto_rows": null,
      "grid_column": null,
      "grid_gap": null,
      "grid_row": null,
      "grid_template_areas": null,
      "grid_template_columns": null,
      "grid_template_rows": null,
      "height": null,
      "justify_content": null,
      "justify_items": null,
      "left": null,
      "margin": null,
      "max_height": null,
      "max_width": null,
      "min_height": null,
      "min_width": null,
      "object_fit": null,
      "object_position": null,
      "order": null,
      "overflow": null,
      "overflow_x": null,
      "overflow_y": null,
      "padding": null,
      "right": null,
      "top": null,
      "visibility": null,
      "width": null
     }
    },
    "d3eedca50ea741e09e3e497f3167ada2": {
     "model_module": "@jupyter-widgets/controls",
     "model_module_version": "1.5.0",
     "model_name": "HTMLModel",
     "state": {
      "_dom_classes": [],
      "_model_module": "@jupyter-widgets/controls",
      "_model_module_version": "1.5.0",
      "_model_name": "HTMLModel",
      "_view_count": null,
      "_view_module": "@jupyter-widgets/controls",
      "_view_module_version": "1.5.0",
      "_view_name": "HTMLView",
      "description": "",
      "description_tooltip": null,
      "layout": "IPY_MODEL_3de603d4ed2b46b085a416dde2edeb1e",
      "placeholder": "​",
      "style": "IPY_MODEL_db6ba3af5dd947b9aeff8180940b2f92",
      "value": ""
     }
    },
    "d9c45b3bd64e45c18c62d25319cfa232": {
     "model_module": "@jupyter-widgets/controls",
     "model_module_version": "1.5.0",
     "model_name": "ProgressStyleModel",
     "state": {
      "_model_module": "@jupyter-widgets/controls",
      "_model_module_version": "1.5.0",
      "_model_name": "ProgressStyleModel",
      "_view_count": null,
      "_view_module": "@jupyter-widgets/base",
      "_view_module_version": "1.2.0",
      "_view_name": "StyleView",
      "bar_color": null,
      "description_width": ""
     }
    },
    "db6ba3af5dd947b9aeff8180940b2f92": {
     "model_module": "@jupyter-widgets/controls",
     "model_module_version": "1.5.0",
     "model_name": "DescriptionStyleModel",
     "state": {
      "_model_module": "@jupyter-widgets/controls",
      "_model_module_version": "1.5.0",
      "_model_name": "DescriptionStyleModel",
      "_view_count": null,
      "_view_module": "@jupyter-widgets/base",
      "_view_module_version": "1.2.0",
      "_view_name": "StyleView",
      "description_width": ""
     }
    },
    "e2b4897cd45941539147bb2bfd7c1b23": {
     "model_module": "@jupyter-widgets/controls",
     "model_module_version": "1.5.0",
     "model_name": "HTMLModel",
     "state": {
      "_dom_classes": [],
      "_model_module": "@jupyter-widgets/controls",
      "_model_module_version": "1.5.0",
      "_model_name": "HTMLModel",
      "_view_count": null,
      "_view_module": "@jupyter-widgets/controls",
      "_view_module_version": "1.5.0",
      "_view_name": "HTMLView",
      "description": "",
      "description_tooltip": null,
      "layout": "IPY_MODEL_31d477e45bc645f9af840634fba6f6a3",
      "placeholder": "​",
      "style": "IPY_MODEL_eb94241d6ba1488f96836875f5069574",
      "value": " 0/498 [00:00&lt;?, ?it/s]"
     }
    },
    "e397f1f2e4374a5b80757d74d69c5536": {
     "model_module": "@jupyter-widgets/controls",
     "model_module_version": "1.5.0",
     "model_name": "HBoxModel",
     "state": {
      "_dom_classes": [],
      "_model_module": "@jupyter-widgets/controls",
      "_model_module_version": "1.5.0",
      "_model_name": "HBoxModel",
      "_view_count": null,
      "_view_module": "@jupyter-widgets/controls",
      "_view_module_version": "1.5.0",
      "_view_name": "HBoxView",
      "box_style": "",
      "children": [
       "IPY_MODEL_5f149370db694b40a871537f27414d27",
       "IPY_MODEL_090d74cb93dc481c874daffd4fb32ad9",
       "IPY_MODEL_a79aec373417483383d64831a8c3a1b9"
      ],
      "layout": "IPY_MODEL_3d267608f0684f04ac1a95735e863192"
     }
    },
    "e6e7ec3e1b0248979ebde3134a3cdf4d": {
     "model_module": "@jupyter-widgets/controls",
     "model_module_version": "1.5.0",
     "model_name": "FloatProgressModel",
     "state": {
      "_dom_classes": [],
      "_model_module": "@jupyter-widgets/controls",
      "_model_module_version": "1.5.0",
      "_model_name": "FloatProgressModel",
      "_view_count": null,
      "_view_module": "@jupyter-widgets/controls",
      "_view_module_version": "1.5.0",
      "_view_name": "ProgressView",
      "bar_style": "",
      "description": "",
      "description_tooltip": null,
      "layout": "IPY_MODEL_466201f707714a13be44c5ee963d9ff9",
      "max": 498,
      "min": 0,
      "orientation": "horizontal",
      "style": "IPY_MODEL_7e26789d084b4647b0f4e479a5d11236",
      "value": 498
     }
    },
    "eacb88f42be741b3b09f502cb1232bfc": {
     "model_module": "@jupyter-widgets/base",
     "model_module_version": "1.2.0",
     "model_name": "LayoutModel",
     "state": {
      "_model_module": "@jupyter-widgets/base",
      "_model_module_version": "1.2.0",
      "_model_name": "LayoutModel",
      "_view_count": null,
      "_view_module": "@jupyter-widgets/base",
      "_view_module_version": "1.2.0",
      "_view_name": "LayoutView",
      "align_content": null,
      "align_items": null,
      "align_self": null,
      "border": null,
      "bottom": null,
      "display": null,
      "flex": null,
      "flex_flow": null,
      "grid_area": null,
      "grid_auto_columns": null,
      "grid_auto_flow": null,
      "grid_auto_rows": null,
      "grid_column": null,
      "grid_gap": null,
      "grid_row": null,
      "grid_template_areas": null,
      "grid_template_columns": null,
      "grid_template_rows": null,
      "height": null,
      "justify_content": null,
      "justify_items": null,
      "left": null,
      "margin": null,
      "max_height": null,
      "max_width": null,
      "min_height": null,
      "min_width": null,
      "object_fit": null,
      "object_position": null,
      "order": null,
      "overflow": null,
      "overflow_x": null,
      "overflow_y": null,
      "padding": null,
      "right": null,
      "top": null,
      "visibility": null,
      "width": null
     }
    },
    "eb94241d6ba1488f96836875f5069574": {
     "model_module": "@jupyter-widgets/controls",
     "model_module_version": "1.5.0",
     "model_name": "DescriptionStyleModel",
     "state": {
      "_model_module": "@jupyter-widgets/controls",
      "_model_module_version": "1.5.0",
      "_model_name": "DescriptionStyleModel",
      "_view_count": null,
      "_view_module": "@jupyter-widgets/base",
      "_view_module_version": "1.2.0",
      "_view_name": "StyleView",
      "description_width": ""
     }
    },
    "ecc8b673ca7747b4a4e757cbec1f4378": {
     "model_module": "@jupyter-widgets/base",
     "model_module_version": "1.2.0",
     "model_name": "LayoutModel",
     "state": {
      "_model_module": "@jupyter-widgets/base",
      "_model_module_version": "1.2.0",
      "_model_name": "LayoutModel",
      "_view_count": null,
      "_view_module": "@jupyter-widgets/base",
      "_view_module_version": "1.2.0",
      "_view_name": "LayoutView",
      "align_content": null,
      "align_items": null,
      "align_self": null,
      "border": null,
      "bottom": null,
      "display": null,
      "flex": null,
      "flex_flow": null,
      "grid_area": null,
      "grid_auto_columns": null,
      "grid_auto_flow": null,
      "grid_auto_rows": null,
      "grid_column": null,
      "grid_gap": null,
      "grid_row": null,
      "grid_template_areas": null,
      "grid_template_columns": null,
      "grid_template_rows": null,
      "height": null,
      "justify_content": null,
      "justify_items": null,
      "left": null,
      "margin": null,
      "max_height": null,
      "max_width": null,
      "min_height": null,
      "min_width": null,
      "object_fit": null,
      "object_position": null,
      "order": null,
      "overflow": null,
      "overflow_x": null,
      "overflow_y": null,
      "padding": null,
      "right": null,
      "top": null,
      "visibility": null,
      "width": null
     }
    },
    "eda6b18060264cdfbde95c85293f64c5": {
     "model_module": "@jupyter-widgets/base",
     "model_module_version": "1.2.0",
     "model_name": "LayoutModel",
     "state": {
      "_model_module": "@jupyter-widgets/base",
      "_model_module_version": "1.2.0",
      "_model_name": "LayoutModel",
      "_view_count": null,
      "_view_module": "@jupyter-widgets/base",
      "_view_module_version": "1.2.0",
      "_view_name": "LayoutView",
      "align_content": null,
      "align_items": null,
      "align_self": null,
      "border": null,
      "bottom": null,
      "display": null,
      "flex": null,
      "flex_flow": null,
      "grid_area": null,
      "grid_auto_columns": null,
      "grid_auto_flow": null,
      "grid_auto_rows": null,
      "grid_column": null,
      "grid_gap": null,
      "grid_row": null,
      "grid_template_areas": null,
      "grid_template_columns": null,
      "grid_template_rows": null,
      "height": null,
      "justify_content": null,
      "justify_items": null,
      "left": null,
      "margin": null,
      "max_height": null,
      "max_width": null,
      "min_height": null,
      "min_width": null,
      "object_fit": null,
      "object_position": null,
      "order": null,
      "overflow": null,
      "overflow_x": null,
      "overflow_y": null,
      "padding": null,
      "right": null,
      "top": null,
      "visibility": null,
      "width": null
     }
    },
    "ef5bc930a81a4169b1e5596afdc0d1b1": {
     "model_module": "@jupyter-widgets/controls",
     "model_module_version": "1.5.0",
     "model_name": "ProgressStyleModel",
     "state": {
      "_model_module": "@jupyter-widgets/controls",
      "_model_module_version": "1.5.0",
      "_model_name": "ProgressStyleModel",
      "_view_count": null,
      "_view_module": "@jupyter-widgets/base",
      "_view_module_version": "1.2.0",
      "_view_name": "StyleView",
      "bar_color": null,
      "description_width": ""
     }
    },
    "f08ddab978a949de996df9772d705a9e": {
     "model_module": "@jupyter-widgets/controls",
     "model_module_version": "1.5.0",
     "model_name": "DescriptionStyleModel",
     "state": {
      "_model_module": "@jupyter-widgets/controls",
      "_model_module_version": "1.5.0",
      "_model_name": "DescriptionStyleModel",
      "_view_count": null,
      "_view_module": "@jupyter-widgets/base",
      "_view_module_version": "1.2.0",
      "_view_name": "StyleView",
      "description_width": ""
     }
    },
    "ffcff1503fa549aa988d54d9a69c1d62": {
     "model_module": "@jupyter-widgets/controls",
     "model_module_version": "1.5.0",
     "model_name": "HBoxModel",
     "state": {
      "_dom_classes": [],
      "_model_module": "@jupyter-widgets/controls",
      "_model_module_version": "1.5.0",
      "_model_name": "HBoxModel",
      "_view_count": null,
      "_view_module": "@jupyter-widgets/controls",
      "_view_module_version": "1.5.0",
      "_view_name": "HBoxView",
      "box_style": "",
      "children": [
       "IPY_MODEL_b4320969e3ca40f6b7923aa9d74c98ec",
       "IPY_MODEL_2e810d2d84ff42bda632267ecbc98592",
       "IPY_MODEL_6c0f0d8f13ac4e4493dbb9b0685d0ae6"
      ],
      "layout": "IPY_MODEL_71c9b50e3248481bb747c16c279a9bb7"
     }
    }
   }
  }
 },
 "nbformat": 4,
 "nbformat_minor": 5
}
